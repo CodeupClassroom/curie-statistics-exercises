{
 "cells": [
  {
   "cell_type": "markdown",
   "metadata": {},
   "source": [
    "## Probability Distributions Exercises"
   ]
  },
  {
   "cell_type": "code",
   "execution_count": 1,
   "metadata": {},
   "outputs": [],
   "source": [
    "from scipy import stats\n",
    "import numpy as np\n",
    "import pandas as pd\n",
    "import matplotlib.pyplot as plt"
   ]
  },
  {
   "cell_type": "markdown",
   "metadata": {},
   "source": [
    "## Exercise 1\n",
    "A bank found that the average number of cars waiting during the noon hour at a drive-up window follows a Poisson distribution with a mean of 2 cars. Make a chart of this distribution and answer these questions concerning the probability of cars waiting at the drive-up window.\n",
    "\n",
    "- What is the probability that no cars drive up in the noon hour?\n",
    "- What is the probability that 3 or more cars come through the drive-thru window\n",
    "- How likely is it that the drive-thru gets at least 1 car?"
   ]
  },
  {
   "cell_type": "code",
   "execution_count": 13,
   "metadata": {},
   "outputs": [
    {
     "data": {
      "image/png": "[encoded data removed]",
      "text/plain": [
       "<Figure size 432x288 with 1 Axes>"
      ]
     },
     "metadata": {
      "needs_background": "light"
     },
     "output_type": "display_data"
    }
   ],
   "source": [
    "x = range(10)\n",
    "y = stats.poisson(2).pmf(x)\n",
    "\n",
    "plt.title(\"Probabiliy of seeing x Cars Per Hour\")\n",
    "plt.xlabel(\"# of cars\")\n",
    "plt.ylabel(\"Probability of seeing x cars\")\n",
    "plt.bar(x, y, color=\"white\", edgecolor=\"black\", width=1)\n",
    "plt.show()"
   ]
  },
  {
   "cell_type": "code",
   "execution_count": 3,
   "metadata": {},
   "outputs": [
    {
     "data": {
      "text/plain": [
       "(0.1353352832366127, 0.1392)"
      ]
     },
     "execution_count": 3,
     "metadata": {},
     "output_type": "execute_result"
    }
   ],
   "source": [
    "per_hour = 2\n",
    "\n",
    "# What is the probability that no cars drive up in the noon hour?\n",
    "# .pmf here b/c we have a discrete number. we don't have 2.222 cars\n",
    "theory = stats.poisson(per_hour).pmf(0)\n",
    "simulated = (stats.poisson(per_hour).rvs(10_000) == 0).mean()\n",
    "\n",
    "theory, simulated"
   ]
  },
  {
   "cell_type": "code",
   "execution_count": 26,
   "metadata": {
    "scrolled": true
   },
   "outputs": [
    {
     "data": {
      "text/plain": [
       "(0.32332358381693654, 0.322)"
      ]
     },
     "execution_count": 26,
     "metadata": {},
     "output_type": "execute_result"
    }
   ],
   "source": [
    "# What is the probability that 3 or more cars come through the drive-thru window\n",
    "# with discrete numbers, 3 or more means anything over 2, so .sf(2) \n",
    "\n",
    "theory = stats.poisson(per_hour).sf(2)\n",
    "simulated = (stats.poisson(per_hour).rvs(10_000) >= 3).mean()\n",
    "theory, simulated"
   ]
  },
  {
   "cell_type": "code",
   "execution_count": 16,
   "metadata": {},
   "outputs": [
    {
     "data": {
      "text/plain": [
       "(0.8646647167633873, 0.865)"
      ]
     },
     "execution_count": 16,
     "metadata": {},
     "output_type": "execute_result"
    }
   ],
   "source": [
    "# How likely is it that the drive-thru gets at least 1 car?\n",
    "theory = stats.poisson(per_hour).sf(0)\n",
    "simulated = (stats.poisson(per_hour).rvs(10_000) >= 1).mean()\n",
    "theory, simulated"
   ]
  },
  {
   "cell_type": "markdown",
   "metadata": {},
   "source": [
    "## Exercise 2\n",
    "Grades of State University graduates are normally distributed with a mean of 3.0 and a standard deviation of .3. Calculate the following:\n",
    "- What grade point average is required to be in the top 5% of the graduating class?\n",
    "- What GPA constitutes the bottom 15% of the class?\n",
    "- An eccentric alumnus left scholarship money for students in the third decile from the bottom of their class. Determine the range of the third decile. Would a student with a 2.8 grade point average qualify for this scholarship?\n",
    "- If I have a GPA of 3.5, what percentile am I in?"
   ]
  },
  {
   "cell_type": "code",
   "execution_count": 20,
   "metadata": {},
   "outputs": [
    {
     "data": {
      "text/plain": [
       "(3.4934560880854417, 3.495966906268929)"
      ]
     },
     "execution_count": 20,
     "metadata": {},
     "output_type": "execute_result"
    }
   ],
   "source": [
    "mean = 3.0\n",
    "std = 0.3\n",
    "# What grade point average is required to be in the top 5% of the graduating class?\n",
    "# \"greater than\" means it's survival function or inverse survival function\n",
    "# Because we have percentage and want the value, we use .isf\n",
    "grade_distribution = stats.norm(mean, std)\n",
    "theory = grade_distribution.isf(.05)\n",
    "simulated = np.percentile(grade_distribution.rvs(10_000), 95)\n",
    "\n",
    "theory, simulated"
   ]
  },
  {
   "cell_type": "code",
   "execution_count": 25,
   "metadata": {},
   "outputs": [
    {
     "data": {
      "text/plain": [
       "(2.689069983151863, 2.6945530096206856)"
      ]
     },
     "execution_count": 25,
     "metadata": {},
     "output_type": "execute_result"
    }
   ],
   "source": [
    "# What GPA constitutes the bottom 15% of the class?\n",
    "# What we have is the percentage\n",
    "# What we want is the grade\n",
    "# And we want to know 15% or lower\n",
    "# That's .ppf\n",
    "\n",
    "theory = grade_distribution.ppf(.15)\n",
    "simulated = np.percentile(grade_distribution.rvs(10_000), 15)\n",
    "theory, simulated"
   ]
  },
  {
   "cell_type": "code",
   "execution_count": 32,
   "metadata": {
    "scrolled": true
   },
   "outputs": [
    {
     "data": {
      "text/plain": [
       "array([False, False])"
      ]
     },
     "execution_count": 32,
     "metadata": {},
     "output_type": "execute_result"
    }
   ],
   "source": [
    "# An eccentric alumnus left scholarship money for students in the third decile from the bottom of their class. \n",
    "# Determine the range of the third decile. \n",
    "# Third decile means 30% and lower b/c deciles are 10% intervals\n",
    "# Would a student with a 2.8 grade point average qualify for this scholarship?\n",
    "# \"Less than\" a threshold is .cdf or .ppf\n",
    "gpa = 2.8\n",
    "theory = grade_distribution.ppf(.3)\n",
    "simulated = np.percentile(grade_distribution.rvs(10_000), 30)\n",
    "results = np.array([theory, simulated])\n",
    "# Is a GPA of 2.8 in the bottom 30% of grades in theory or simulated?\n",
    "results < gpa"
   ]
  },
  {
   "cell_type": "code",
   "execution_count": 38,
   "metadata": {},
   "outputs": [
    {
     "data": {
      "text/plain": [
       "(0.9522096477271853, 0.955)"
      ]
     },
     "execution_count": 38,
     "metadata": {},
     "output_type": "execute_result"
    }
   ],
   "source": [
    "# If I have a GPA of 3.5, what percentile am I in?\n",
    "# Percentile means at or below a level, so we use .cdf\n",
    "theory = grade_distribution.cdf(3.5)\n",
    "simulated = (grade_distribution.rvs(10_000) <= 3.5).mean()\n",
    "theory, simulated"
   ]
  },
  {
   "cell_type": "markdown",
   "metadata": {},
   "source": [
    "## Exercise 3\n",
    "\n",
    "- A marketing website has an average click-through rate of 2%. \n",
    "- One day they observe 4326 visitors and 97 click-throughs. \n",
    "- How likely is it that this many people or more click through?"
   ]
  },
  {
   "cell_type": "code",
   "execution_count": 58,
   "metadata": {},
   "outputs": [
    {
     "data": {
      "text/plain": [
       "(0.0198013266932447, 0.02033)"
      ]
     },
     "execution_count": 58,
     "metadata": {},
     "output_type": "execute_result"
    }
   ],
   "source": [
    "# How likely is is that this many or more click through\"\n",
    "# This many or more is survival function\n",
    "clicks_distribution = stats.poisson(.02)\n",
    "today = 97 / 4326\n",
    "\n",
    "theory = clicks_distribution.sf(today)\n",
    "simulation = (clicks_distribution.rvs(100_000) >= today).mean()\n",
    "theory, simulation"
   ]
  },
  {
   "cell_type": "markdown",
   "metadata": {},
   "source": [
    "## Exercise 4\n",
    "You are working on some statistics homework consisting of 100 questions where all of the answers are a probability rounded to the hundreths place. \n",
    "\n",
    "Looking to save time, you put down random probabilities as the answer to each question.\n",
    "\n",
    "- What is the probability that at least one of your first 60 answers is correct?"
   ]
  },
  {
   "cell_type": "code",
   "execution_count": 104,
   "metadata": {},
   "outputs": [
    {
     "data": {
      "text/plain": [
       "(0.4528433576092388, 0.4491)"
      ]
     },
     "execution_count": 104,
     "metadata": {},
     "output_type": "execute_result"
    }
   ],
   "source": [
    "# Binomial b/c we're correct or not\n",
    "n = 60\n",
    "probability = .01\n",
    "theory = stats.binom(n, probability).sf(0)\n",
    "\n",
    "simulation = (stats.binom(n, probability).rvs(10_000) > 0).mean()\n",
    "\n",
    "theory, simulation"
   ]
  },
  {
   "cell_type": "markdown",
   "metadata": {},
   "source": [
    "## Exercise 5\n",
    "- Suppose that there's a 3% chance that any one student cleans the break area when they visit it\n",
    "- On any given day, about 90% of the 3 active cohorts of 22 students visit the break area. \n",
    "- How likely is it that the break area gets cleaned up each day? \n",
    "- How likely is it that it goes two days without getting cleaned up? \n",
    "- All week?\n",
    "\n"
   ]
  },
  {
   "cell_type": "code",
   "execution_count": 136,
   "metadata": {},
   "outputs": [],
   "source": [
    "# probability is .03\n",
    "dist = stats.binom(100, .03)"
   ]
  },
  {
   "cell_type": "code",
   "execution_count": 137,
   "metadata": {},
   "outputs": [
    {
     "data": {
      "text/plain": [
       "0.04672"
      ]
     },
     "execution_count": 137,
     "metadata": {},
     "output_type": "execute_result"
    }
   ],
   "source": [
    "(dist.rvs(100_000) == 0).mean()"
   ]
  },
  {
   "cell_type": "code",
   "execution_count": null,
   "metadata": {},
   "outputs": [],
   "source": []
  },
  {
   "cell_type": "markdown",
   "metadata": {},
   "source": [
    "## Exercise 6\n",
    "\n",
    "You want to get lunch at La Panaderia, but notice that the line is usually very long at lunchtime. After several weeks of careful observation, you notice that the average number of people in line when your lunch break starts is normally distributed with a mean of 15 and standard deviation of 3. If it takes 2 minutes for each person to order, and 10 minutes from ordering to getting your food, what is the likelihood that you have at least 15 minutes left to eat your food before you have to go back to class? Assume you have one hour for lunch, and ignore travel time to and from La Panaderia.\n"
   ]
  },
  {
   "cell_type": "markdown",
   "metadata": {},
   "source": [
    "## Exercise 7\n",
    "Connect to the employees database. \n",
    "- Find the average salary of current employees\n",
    "- Find the standard deviation. \n",
    "\n",
    "- Model the distribution of employees salaries with a normal distribution and answer the following questions:\n",
    "    - What percent of employees earn less than 60,000?\n",
    "    - What percent of employees earn more than 95,000?\n",
    "    - What percent of employees earn between 65,000 and 80,000?\n",
    "    - What do the top 5% of employees make?"
   ]
  },
  {
   "cell_type": "code",
   "execution_count": null,
   "metadata": {},
   "outputs": [],
   "source": [
    "query = \"\"\"\n",
    "    SELECT \n",
    "\"\"\"\n"
   ]
  }
 ],
 "metadata": {
  "kernelspec": {
   "display_name": "Python 3",
   "language": "python",
   "name": "python3"
  },
  "language_info": {
   "codemirror_mode": {
    "name": "ipython",
    "version": 3
   },
   "file_extension": ".py",
   "mimetype": "text/x-python",
   "name": "python",
   "nbconvert_exporter": "python",
   "pygments_lexer": "ipython3",
   "version": "3.7.3"
  }
 },
 "nbformat": 4,
 "nbformat_minor": 4
}
