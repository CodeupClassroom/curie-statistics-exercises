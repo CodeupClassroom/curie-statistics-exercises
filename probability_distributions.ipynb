{
 "cells": [
  {
   "cell_type": "markdown",
   "metadata": {},
   "source": [
    "## Probability Distributions Exercises"
   ]
  },
  {
   "cell_type": "code",
   "execution_count": 1,
   "metadata": {},
   "outputs": [],
   "source": [
    "from scipy import stats\n",
    "import numpy as np\n",
    "import pandas as pd\n",
    "import matplotlib.pyplot as plt"
   ]
  },
  {
   "cell_type": "markdown",
   "metadata": {},
   "source": [
    "## Exercise 1\n",
    "A bank found that the average number of cars waiting during the noon hour at a drive-up window follows a Poisson distribution with a mean of 2 cars. Make a chart of this distribution and answer these questions concerning the probability of cars waiting at the drive-up window.\n",
    "\n",
    "- What is the probability that no cars drive up in the noon hour?\n",
    "- What is the probability that 3 or more cars come through the drive-thru window\n",
    "- How likely is it that the drive-thru gets at least 1 car?"
   ]
  },
  {
   "cell_type": "code",
   "execution_count": 2,
   "metadata": {},
   "outputs": [
    {
     "data": {
      "image/png": "[encoded data removed]",
      "text/plain": [
       "<Figure size 432x288 with 1 Axes>"
      ]
     },
     "metadata": {
      "needs_background": "light"
     },
     "output_type": "display_data"
    }
   ],
   "source": [
    "x = range(10)\n",
    "y = stats.poisson(2).pmf(x)\n",
    "\n",
    "plt.title(\"Probabiliy of seeing x Cars Per Hour\")\n",
    "plt.xlabel(\"# of cars\")\n",
    "plt.ylabel(\"Probability of seeing x cars\")\n",
    "plt.bar(x, y, color=\"white\", edgecolor=\"black\", width=1)\n",
    "plt.show()"
   ]
  },
  {
   "cell_type": "code",
   "execution_count": 3,
   "metadata": {},
   "outputs": [
    {
     "data": {
      "text/plain": [
       "(0.1353352832366127, 0.1373)"
      ]
     },
     "execution_count": 3,
     "metadata": {},
     "output_type": "execute_result"
    }
   ],
   "source": [
    "per_hour = 2\n",
    "\n",
    "# What is the probability that no cars drive up in the noon hour?\n",
    "# .pmf here b/c we have a discrete number. we don't have 2.222 cars\n",
    "theory = stats.poisson(per_hour).pmf(0)\n",
    "simulated = (stats.poisson(per_hour).rvs(10_000) == 0).mean()\n",
    "\n",
    "theory, simulated"
   ]
  },
  {
   "cell_type": "code",
   "execution_count": 4,
   "metadata": {
    "scrolled": true
   },
   "outputs": [
    {
     "data": {
      "text/plain": [
       "(0.32332358381693654, 0.3213)"
      ]
     },
     "execution_count": 4,
     "metadata": {},
     "output_type": "execute_result"
    }
   ],
   "source": [
    "# What is the probability that 3 or more cars come through the drive-thru window\n",
    "# with discrete numbers, 3 or more means anything over 2, so .sf(2) \n",
    "\n",
    "theory = stats.poisson(per_hour).sf(2)\n",
    "simulated = (stats.poisson(per_hour).rvs(10_000) >= 3).mean()\n",
    "theory, simulated"
   ]
  },
  {
   "cell_type": "code",
   "execution_count": 5,
   "metadata": {},
   "outputs": [
    {
     "data": {
      "text/plain": [
       "(0.8646647167633873, 0.8691)"
      ]
     },
     "execution_count": 5,
     "metadata": {},
     "output_type": "execute_result"
    }
   ],
   "source": [
    "# How likely is it that the drive-thru gets at least 1 car?\n",
    "theory = stats.poisson(per_hour).sf(0)\n",
    "simulated = (stats.poisson(per_hour).rvs(10_000) >= 1).mean()\n",
    "theory, simulated"
   ]
  },
  {
   "cell_type": "markdown",
   "metadata": {},
   "source": [
    "## Exercise 2\n",
    "Grades of State University graduates are normally distributed with a mean of 3.0 and a standard deviation of .3. Calculate the following:\n",
    "- What grade point average is required to be in the top 5% of the graduating class?\n",
    "- What GPA constitutes the bottom 15% of the class?\n",
    "- An eccentric alumnus left scholarship money for students in the third decile from the bottom of their class. Determine the range of the third decile. Would a student with a 2.8 grade point average qualify for this scholarship?\n",
    "- If I have a GPA of 3.5, what percentile am I in?"
   ]
  },
  {
   "cell_type": "code",
   "execution_count": 6,
   "metadata": {},
   "outputs": [
    {
     "data": {
      "text/plain": [
       "(3.4934560880854417, 3.4994724575388525)"
      ]
     },
     "execution_count": 6,
     "metadata": {},
     "output_type": "execute_result"
    }
   ],
   "source": [
    "mean = 3.0\n",
    "std = 0.3\n",
    "# What grade point average is required to be in the top 5% of the graduating class?\n",
    "# \"greater than\" means it's survival function or inverse survival function\n",
    "# Because we have percentage and want the value, we use .isf\n",
    "grade_distribution = stats.norm(mean, std)\n",
    "theory = grade_distribution.isf(.05)\n",
    "simulated = np.percentile(grade_distribution.rvs(10_000), 95)\n",
    "\n",
    "theory, simulated"
   ]
  },
  {
   "cell_type": "code",
   "execution_count": 7,
   "metadata": {},
   "outputs": [
    {
     "data": {
      "text/plain": [
       "(2.689069983151863, 2.6893994522931837)"
      ]
     },
     "execution_count": 7,
     "metadata": {},
     "output_type": "execute_result"
    }
   ],
   "source": [
    "# What GPA constitutes the bottom 15% of the class?\n",
    "# What we have is the percentage\n",
    "# What we want is the grade\n",
    "# And we want to know 15% or lower\n",
    "# That's .ppf\n",
    "\n",
    "theory = grade_distribution.ppf(.15)\n",
    "simulated = np.percentile(grade_distribution.rvs(10_000), 15)\n",
    "theory, simulated"
   ]
  },
  {
   "cell_type": "code",
   "execution_count": 8,
   "metadata": {
    "scrolled": true
   },
   "outputs": [
    {
     "data": {
      "text/plain": [
       "array([False, False])"
      ]
     },
     "execution_count": 8,
     "metadata": {},
     "output_type": "execute_result"
    }
   ],
   "source": [
    "# An eccentric alumnus left scholarship money for students in the third decile from the bottom of their class. \n",
    "# Determine the range of the third decile. \n",
    "# Third decile means 30% and lower b/c deciles are 10% intervals\n",
    "# Would a student with a 2.8 grade point average qualify for this scholarship?\n",
    "# \"Less than\" a threshold is .cdf or .ppf\n",
    "gpa = 2.8\n",
    "theory = grade_distribution.ppf(.3)\n",
    "simulated = np.percentile(grade_distribution.rvs(10_000), 30)\n",
    "results = np.array([theory, simulated])\n",
    "# Is a GPA of 2.8 in the bottom 30% of grades in theory or simulated?\n",
    "results < gpa"
   ]
  },
  {
   "cell_type": "code",
   "execution_count": 9,
   "metadata": {},
   "outputs": [
    {
     "data": {
      "text/plain": [
       "(0.9522096477271853, 0.9544)"
      ]
     },
     "execution_count": 9,
     "metadata": {},
     "output_type": "execute_result"
    }
   ],
   "source": [
    "# If I have a GPA of 3.5, what percentile am I in?\n",
    "# Percentile means at or below a level, so we use .cdf\n",
    "theory = grade_distribution.cdf(3.5)\n",
    "simulated = (grade_distribution.rvs(10_000) <= 3.5).mean()\n",
    "theory, simulated"
   ]
  },
  {
   "cell_type": "markdown",
   "metadata": {},
   "source": [
    "## Exercise 3\n",
    "\n",
    "- A marketing website has an average click-through rate of 2%. \n",
    "- One day they observe 4326 visitors and 97 click-throughs. \n",
    "- How likely is it that this many people or more click through?"
   ]
  },
  {
   "cell_type": "code",
   "execution_count": 10,
   "metadata": {},
   "outputs": [
    {
     "data": {
      "text/plain": [
       "(0.0198013266932447, 0.01956)"
      ]
     },
     "execution_count": 10,
     "metadata": {},
     "output_type": "execute_result"
    }
   ],
   "source": [
    "# How likely is is that this many or more click through\"\n",
    "# This many or more is survival function\n",
    "clicks_distribution = stats.poisson(.02)\n",
    "today = 97 / 4326\n",
    "\n",
    "theory = clicks_distribution.sf(today)\n",
    "simulation = (clicks_distribution.rvs(100_000) >= today).mean()\n",
    "theory, simulation"
   ]
  },
  {
   "cell_type": "markdown",
   "metadata": {},
   "source": [
    "## Exercise 4\n",
    "You are working on some statistics homework consisting of 100 questions where all of the answers are a probability rounded to the hundreths place. \n",
    "\n",
    "Looking to save time, you put down random probabilities as the answer to each question.\n",
    "\n",
    "- What is the probability that at least one of your first 60 answers is correct?"
   ]
  },
  {
   "cell_type": "code",
   "execution_count": 11,
   "metadata": {},
   "outputs": [
    {
     "data": {
      "text/plain": [
       "(0.4528433576092388, 0.4568)"
      ]
     },
     "execution_count": 11,
     "metadata": {},
     "output_type": "execute_result"
    }
   ],
   "source": [
    "# Binomial b/c we're correct or not\n",
    "n = 60\n",
    "probability = .01\n",
    "theory = stats.binom(n, probability).sf(0)\n",
    "\n",
    "simulation = (stats.binom(n, probability).rvs(10_000) > 0).mean()\n",
    "\n",
    "theory, simulation"
   ]
  },
  {
   "cell_type": "markdown",
   "metadata": {},
   "source": [
    "## Exercise 5\n",
    "- Suppose that there's a 3% chance that any one student cleans the break area when they visit it\n",
    "- On any given day, about 90% of the 3 active cohorts of 22 students visit the break area. \n",
    "- How likely is it that the break area gets cleaned up each day? \n",
    "- How likely is it that it goes two days without getting cleaned up? \n",
    "- All week?\n",
    "\n"
   ]
  },
  {
   "cell_type": "code",
   "execution_count": 12,
   "metadata": {},
   "outputs": [
    {
     "data": {
      "text/plain": [
       "(0.8342199288437355, 0.83442)"
      ]
     },
     "execution_count": 12,
     "metadata": {},
     "output_type": "execute_result"
    }
   ],
   "source": [
    "# How likely is it that the break area gets cleaned up each day?\n",
    "n_students = round(.9 * 3 * 22)\n",
    "\n",
    "# \"Greater than\" is our signal to use .sf or .isf\n",
    "# Greater than 0 means someone cleaned up \n",
    "theory = stats.binom(n_students, .03).sf(0)\n",
    "\n",
    "simulation = (stats.binom(n_students, .03).rvs(100_000) > 0).mean()\n",
    "theory, simulation"
   ]
  },
  {
   "cell_type": "code",
   "execution_count": 13,
   "metadata": {},
   "outputs": [
    {
     "data": {
      "text/plain": [
       "(0.6959228896800471, 0.6962567364000001)"
      ]
     },
     "execution_count": 13,
     "metadata": {},
     "output_type": "execute_result"
    }
   ],
   "source": [
    "# How likely is it that it goes two days without getting cleaned up?\n",
    "n_days = 2\n",
    "theory ** n_days, simulation ** n_days"
   ]
  },
  {
   "cell_type": "code",
   "execution_count": 14,
   "metadata": {},
   "outputs": [
    {
     "data": {
      "text/plain": [
       "(0.404019942874891, 0.40450465629335686)"
      ]
     },
     "execution_count": 14,
     "metadata": {},
     "output_type": "execute_result"
    }
   ],
   "source": [
    "# All week?\n",
    "n_days = 5\n",
    "theory ** n_days, simulation ** n_days"
   ]
  },
  {
   "cell_type": "code",
   "execution_count": 15,
   "metadata": {},
   "outputs": [
    {
     "data": {
      "text/plain": [
       "0.404019942874891"
      ]
     },
     "execution_count": 15,
     "metadata": {},
     "output_type": "execute_result"
    }
   ],
   "source": [
    "# All week w/ .sf\n",
    "stats.binom(5, theory).sf(4)"
   ]
  },
  {
   "cell_type": "markdown",
   "metadata": {},
   "source": [
    "## Exercise 6\n",
    "\n",
    "You want to get lunch at La Panaderia, but notice that the line is usually very long at lunchtime. \n",
    "\n",
    "After several weeks of careful observation, you notice that the average number of people in line when your lunch break starts is normally distributed with a mean of 15 and standard deviation of 3. \n",
    "\n",
    "If it takes 2 minutes for each person to order, and 10 minutes from ordering to getting your food, what is the likelihood that you have at least 15 minutes left to eat your food before you have to go back to class? \n",
    "\n",
    "Assume you have one hour for lunch, and ignore travel time to and from La Panaderia.\n"
   ]
  },
  {
   "cell_type": "code",
   "execution_count": 16,
   "metadata": {},
   "outputs": [
    {
     "data": {
      "text/plain": [
       "33"
      ]
     },
     "execution_count": 16,
     "metadata": {},
     "output_type": "execute_result"
    }
   ],
   "source": [
    "# need 2 mins to order, 10 minutes to get order, and 15 minutes to eat\n",
    "time_to_order_and_eat = 2 + 10 + 15\n",
    "time_for_lunch = 60\n",
    "max_time_to_wait = time_for_lunch - time_to_order_and_eat\n",
    "max_time_to_wait"
   ]
  },
  {
   "cell_type": "code",
   "execution_count": 17,
   "metadata": {},
   "outputs": [
    {
     "data": {
      "text/plain": [
       "(0.6914624612740131, 0.6909)"
      ]
     },
     "execution_count": 17,
     "metadata": {},
     "output_type": "execute_result"
    }
   ],
   "source": [
    "# .cdf b/c we want a given wait time or less\n",
    "avg_wait = 15 * 2 # average wait time for 2 people\n",
    "sd = 3 * 2 # standard deviation for 2 people\n",
    "theory = stats.norm(avg_wait, sd).cdf(max_time_to_wait)\n",
    "\n",
    "simulated = (stats.norm(avg_wait, sd).rvs(10_000) <= max_time_to_wait).mean()\n",
    "theory, simulated"
   ]
  },
  {
   "cell_type": "markdown",
   "metadata": {},
   "source": [
    "## Exercise 7\n",
    "Connect to the employees database. \n",
    "- Find the average salary of current employees\n",
    "- Find the standard deviation. \n",
    "\n",
    "- Model the distribution of employees salaries with a normal distribution and answer the following questions:\n",
    "    - What percent of employees earn less than 60,000?\n",
    "    - What percent of employees earn more than 95,000?\n",
    "    - What percent of employees earn between 65,000 and 80,000?\n",
    "    - What do the top 5% of employees make?"
   ]
  },
  {
   "cell_type": "code",
   "execution_count": 18,
   "metadata": {},
   "outputs": [],
   "source": [
    "from env import get_url\n",
    "query = \"\"\"\n",
    "    select emp_no, salary from salaries \n",
    "    join dept_emp using(emp_no)\n",
    "    where salaries.to_date > curdate() \n",
    "    and dept_emp.to_date > curdate()\n",
    "    \"\"\"\n",
    "\n",
    "url = get_url(\"employees\")\n",
    "                        \n",
    "# df holds current employees\n",
    "df = pd.read_sql(query, url)\n",
    "salaries = df.set_index(\"emp_no\")"
   ]
  },
  {
   "cell_type": "code",
   "execution_count": 19,
   "metadata": {},
   "outputs": [
    {
     "data": {
      "text/plain": [
       "(72012.23585730705, 17309.995380252043)"
      ]
     },
     "execution_count": 19,
     "metadata": {},
     "output_type": "execute_result"
    }
   ],
   "source": [
    "avg = salaries.mean()[\"salary\"]\n",
    "stdev = salaries.std()[\"salary\"]\n",
    "avg, stdev"
   ]
  },
  {
   "cell_type": "code",
   "execution_count": 20,
   "metadata": {},
   "outputs": [
    {
     "data": {
      "text/plain": [
       "(0.24385742480214506, 0.2705727041028802)"
      ]
     },
     "execution_count": 20,
     "metadata": {},
     "output_type": "execute_result"
    }
   ],
   "source": [
    "# What percentage of employees earn less than 60,000\n",
    "theory = stats.norm(avg, stdev).cdf(60_000)\n",
    "actual = (salaries < 60_000).mean()[\"salary\"]\n",
    "theory, actual"
   ]
  },
  {
   "cell_type": "code",
   "execution_count": 21,
   "metadata": {},
   "outputs": [
    {
     "data": {
      "text/plain": [
       "(0.0920881919980413, 0.1086272092752078)"
      ]
     },
     "execution_count": 21,
     "metadata": {},
     "output_type": "execute_result"
    }
   ],
   "source": [
    "# What percentage of employees earn more than 95,000?\n",
    "\n",
    "theory = stats.norm(avg, stdev).sf(95_000)\n",
    "actual = (salaries > 95_000).mean()[\"salary\"]\n",
    "theory, actual"
   ]
  },
  {
   "cell_type": "code",
   "execution_count": 22,
   "metadata": {},
   "outputs": [
    {
     "data": {
      "text/plain": [
       "(0.3350605685446655, 0.325107028035515)"
      ]
     },
     "execution_count": 22,
     "metadata": {},
     "output_type": "execute_result"
    }
   ],
   "source": [
    "# What percent of employees earn between 65,000 and 80,000?\n",
    "actual = ((salaries < 80_000) & (salaries > 65_000)).mean()[\"salary\"]\n",
    "\n",
    "# .sf for above\n",
    "# % above 65 minus % above 80\n",
    "above_65 = stats.norm(avg, stdev).sf(65_000)\n",
    "above_80 = stats.norm(avg, stdev).sf(80_000)\n",
    "theory = above_65 - above_80\n",
    "theory\n",
    "\n",
    "theory, actual"
   ]
  },
  {
   "cell_type": "code",
   "execution_count": 23,
   "metadata": {},
   "outputs": [
    {
     "data": {
      "text/plain": [
       "(100484.64454102787, 104225.84999999998)"
      ]
     },
     "execution_count": 23,
     "metadata": {},
     "output_type": "execute_result"
    }
   ],
   "source": [
    "# What do the top 5% of employees make?\n",
    "# We're looking for probability of x and greater\n",
    "# And we have the percentage and want that cutoff, so .isf\n",
    "theory = stats.norm(avg, stdev).isf(.05)\n",
    "actual = salaries.quantile(.95)[\"salary\"]\n",
    "\n",
    "theory, actual"
   ]
  },
  {
   "cell_type": "code",
   "execution_count": 24,
   "metadata": {},
   "outputs": [
    {
     "data": {
      "image/png": "[encoded data removed]",
      "text/plain": [
       "<Figure size 432x288 with 1 Axes>"
      ]
     },
     "metadata": {
      "needs_background": "light"
     },
     "output_type": "display_data"
    }
   ],
   "source": [
    "x = np.array(salaries.salary)\n",
    "\n",
    "plt.title(\"Distribution of salary\")\n",
    "plt.ylabel(\"# of people with x salary\")\n",
    "plt.xlabel(\"Salary in $\")\n",
    "plt.hist(x, color=\"gray\")\n",
    "plt.show()"
   ]
  },
  {
   "cell_type": "code",
   "execution_count": null,
   "metadata": {},
   "outputs": [],
   "source": []
  }
 ],
 "metadata": {
  "kernelspec": {
   "display_name": "Python 3",
   "language": "python",
   "name": "python3"
  },
  "language_info": {
   "codemirror_mode": {
    "name": "ipython",
    "version": 3
   },
   "file_extension": ".py",
   "mimetype": "text/x-python",
   "name": "python",
   "nbconvert_exporter": "python",
   "pygments_lexer": "ipython3",
   "version": "3.7.3"
  }
 },
 "nbformat": 4,
 "nbformat_minor": 4
}
