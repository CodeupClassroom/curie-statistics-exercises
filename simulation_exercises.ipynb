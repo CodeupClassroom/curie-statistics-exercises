{
 "cells": [
  {
   "cell_type": "code",
   "execution_count": 1,
   "metadata": {},
   "outputs": [],
   "source": [
    "import numpy as np\n",
    "import pandas as pd\n",
    "\n",
    "np.random.seed(42)"
   ]
  },
  {
   "cell_type": "markdown",
   "metadata": {},
   "source": [
    "## Exercise 1\n",
    "- probability(rolling doubles on rolling 2 dice)\n",
    "- p(e) \n",
    "- p(event)\n",
    "- p(rolling doubles on 2 dice)"
   ]
  },
  {
   "cell_type": "code",
   "execution_count": 2,
   "metadata": {},
   "outputs": [
    {
     "data": {
      "text/plain": [
       "array([[4, 5, 3, ..., 4, 1, 4],\n",
       "       [5, 5, 2, ..., 4, 4, 6]])"
      ]
     },
     "execution_count": 2,
     "metadata": {},
     "output_type": "execute_result"
    }
   ],
   "source": [
    "rolls = np.random.choice([1, 2, 3, 4, 5, 6], size=(2, 100_000))\n",
    "rolls"
   ]
  },
  {
   "cell_type": "code",
   "execution_count": 3,
   "metadata": {},
   "outputs": [
    {
     "data": {
      "text/plain": [
       "100000"
      ]
     },
     "execution_count": 3,
     "metadata": {},
     "output_type": "execute_result"
    }
   ],
   "source": [
    "rolls[0].size"
   ]
  },
  {
   "cell_type": "code",
   "execution_count": 4,
   "metadata": {},
   "outputs": [],
   "source": [
    "# In this approach, the array values at each index are the trial, the event of rolling two dice.\n",
    "die1 = rolls[0]\n",
    "die2 = rolls[1]"
   ]
  },
  {
   "cell_type": "code",
   "execution_count": 5,
   "metadata": {},
   "outputs": [
    {
     "name": "stdout",
     "output_type": "stream",
     "text": [
      "5\n",
      "5\n"
     ]
    }
   ],
   "source": [
    "print(die1[1])\n",
    "print(die2[1])"
   ]
  },
  {
   "cell_type": "code",
   "execution_count": 6,
   "metadata": {},
   "outputs": [
    {
     "data": {
      "text/plain": [
       "0.16813"
      ]
     },
     "execution_count": 6,
     "metadata": {},
     "output_type": "execute_result"
    }
   ],
   "source": [
    "# vectorization here is that we don't have to worry about the index\n",
    "(die1 == die2).mean()"
   ]
  },
  {
   "cell_type": "code",
   "execution_count": 7,
   "metadata": {},
   "outputs": [
    {
     "data": {
      "text/html": [
       "<div>\n",
       "<style scoped>\n",
       "    .dataframe tbody tr th:only-of-type {\n",
       "        vertical-align: middle;\n",
       "    }\n",
       "\n",
       "    .dataframe tbody tr th {\n",
       "        vertical-align: top;\n",
       "    }\n",
       "\n",
       "    .dataframe thead th {\n",
       "        text-align: right;\n",
       "    }\n",
       "</style>\n",
       "<table border=\"1\" class=\"dataframe\">\n",
       "  <thead>\n",
       "    <tr style=\"text-align: right;\">\n",
       "      <th></th>\n",
       "      <th>0</th>\n",
       "      <th>1</th>\n",
       "    </tr>\n",
       "  </thead>\n",
       "  <tbody>\n",
       "    <tr>\n",
       "      <th>0</th>\n",
       "      <td>4</td>\n",
       "      <td>5</td>\n",
       "    </tr>\n",
       "    <tr>\n",
       "      <th>1</th>\n",
       "      <td>5</td>\n",
       "      <td>5</td>\n",
       "    </tr>\n",
       "    <tr>\n",
       "      <th>2</th>\n",
       "      <td>3</td>\n",
       "      <td>2</td>\n",
       "    </tr>\n",
       "  </tbody>\n",
       "</table>\n",
       "</div>"
      ],
      "text/plain": [
       "   0  1\n",
       "0  4  5\n",
       "1  5  5\n",
       "2  3  2"
      ]
     },
     "execution_count": 7,
     "metadata": {},
     "output_type": "execute_result"
    }
   ],
   "source": [
    "# a Pandas assisted approach to the same problem\n",
    "rolls = rolls.T # .T means transpose\n",
    "df = pd.DataFrame(rolls)\n",
    "df.head(3)"
   ]
  },
  {
   "cell_type": "code",
   "execution_count": 8,
   "metadata": {},
   "outputs": [
    {
     "data": {
      "text/plain": [
       "0.16813"
      ]
     },
     "execution_count": 8,
     "metadata": {},
     "output_type": "execute_result"
    }
   ],
   "source": [
    "df[\"doubles\"] = df[0] == df[1]\n",
    "df.doubles.mean()"
   ]
  },
  {
   "cell_type": "markdown",
   "metadata": {},
   "source": [
    "## Exercise 2\n",
    "\n",
    "### If you flip 8 coins...\n",
    "- What is the probability of getting exactly 3 heads? \n",
    "- What is the probability of getting more than 3 heads?\n",
    "- trial is flipping 8 coins"
   ]
  },
  {
   "cell_type": "code",
   "execution_count": 9,
   "metadata": {},
   "outputs": [],
   "source": [
    "# If you flip 8 coins\n",
    "# What is the probability of getting exactly 3 heads? \n",
    "# What is the probability of getting more than 3 heads?\n",
    "\n",
    "# Flip 8 coins\n",
    "n_coins = 8\n",
    "\n",
    "# With this many simulations\n",
    "n_simulations = 100_000\n",
    "\n",
    "# Heads is 1 and Tails is 0.\n",
    "# flips = np.random.choice([0, 1], n_simulations * n_coins).reshape(n_simulations, n_coins)\n",
    "flips = np.random.choice([0, 1], size=(n_simulations * n_coins))"
   ]
  },
  {
   "cell_type": "code",
   "execution_count": 10,
   "metadata": {},
   "outputs": [
    {
     "data": {
      "text/plain": [
       "array([1, 0, 1, ..., 0, 1, 0])"
      ]
     },
     "execution_count": 10,
     "metadata": {},
     "output_type": "execute_result"
    }
   ],
   "source": [
    "flips"
   ]
  },
  {
   "cell_type": "code",
   "execution_count": 11,
   "metadata": {},
   "outputs": [
    {
     "data": {
      "text/plain": [
       "1"
      ]
     },
     "execution_count": 11,
     "metadata": {},
     "output_type": "execute_result"
    }
   ],
   "source": [
    "# Peek at the first row\n",
    "flips[0]"
   ]
  },
  {
   "cell_type": "code",
   "execution_count": 12,
   "metadata": {},
   "outputs": [
    {
     "ename": "AxisError",
     "evalue": "axis 1 is out of bounds for array of dimension 1",
     "output_type": "error",
     "traceback": [
      "\u001b[0;31m---------------------------------------------------------------------------\u001b[0m",
      "\u001b[0;31mAxisError\u001b[0m                                 Traceback (most recent call last)",
      "\u001b[0;32m<ipython-input-12-bce7c52705e9>\u001b[0m in \u001b[0;36m<module>\u001b[0;34m\u001b[0m\n\u001b[1;32m      1\u001b[0m \u001b[0;31m# .sum(axis=1) sums up each row\u001b[0m\u001b[0;34m\u001b[0m\u001b[0;34m\u001b[0m\u001b[0;34m\u001b[0m\u001b[0m\n\u001b[0;32m----> 2\u001b[0;31m \u001b[0mresults\u001b[0m \u001b[0;34m=\u001b[0m \u001b[0mflips\u001b[0m\u001b[0;34m.\u001b[0m\u001b[0msum\u001b[0m\u001b[0;34m(\u001b[0m\u001b[0maxis\u001b[0m\u001b[0;34m=\u001b[0m\u001b[0;36m1\u001b[0m\u001b[0;34m)\u001b[0m\u001b[0;34m\u001b[0m\u001b[0;34m\u001b[0m\u001b[0m\n\u001b[0m\u001b[1;32m      3\u001b[0m \u001b[0mresults\u001b[0m\u001b[0;34m\u001b[0m\u001b[0;34m\u001b[0m\u001b[0m\n",
      "\u001b[0;32m/usr/local/anaconda3/lib/python3.7/site-packages/numpy/core/_methods.py\u001b[0m in \u001b[0;36m_sum\u001b[0;34m(a, axis, dtype, out, keepdims, initial, where)\u001b[0m\n\u001b[1;32m     36\u001b[0m def _sum(a, axis=None, dtype=None, out=None, keepdims=False,\n\u001b[1;32m     37\u001b[0m          initial=_NoValue, where=True):\n\u001b[0;32m---> 38\u001b[0;31m     \u001b[0;32mreturn\u001b[0m \u001b[0mumr_sum\u001b[0m\u001b[0;34m(\u001b[0m\u001b[0ma\u001b[0m\u001b[0;34m,\u001b[0m \u001b[0maxis\u001b[0m\u001b[0;34m,\u001b[0m \u001b[0mdtype\u001b[0m\u001b[0;34m,\u001b[0m \u001b[0mout\u001b[0m\u001b[0;34m,\u001b[0m \u001b[0mkeepdims\u001b[0m\u001b[0;34m,\u001b[0m \u001b[0minitial\u001b[0m\u001b[0;34m,\u001b[0m \u001b[0mwhere\u001b[0m\u001b[0;34m)\u001b[0m\u001b[0;34m\u001b[0m\u001b[0;34m\u001b[0m\u001b[0m\n\u001b[0m\u001b[1;32m     39\u001b[0m \u001b[0;34m\u001b[0m\u001b[0m\n\u001b[1;32m     40\u001b[0m def _prod(a, axis=None, dtype=None, out=None, keepdims=False,\n",
      "\u001b[0;31mAxisError\u001b[0m: axis 1 is out of bounds for array of dimension 1"
     ]
    }
   ],
   "source": [
    "# .sum(axis=1) sums up each row\n",
    "results = flips.sum(axis=1)\n",
    "results"
   ]
  },
  {
   "cell_type": "code",
   "execution_count": null,
   "metadata": {},
   "outputs": [],
   "source": [
    "# What is the probability of getting exactly 3 heads? \n",
    "(results == 3).mean()"
   ]
  },
  {
   "cell_type": "code",
   "execution_count": null,
   "metadata": {},
   "outputs": [],
   "source": [
    "(results == 8).mean()"
   ]
  },
  {
   "cell_type": "code",
   "execution_count": null,
   "metadata": {},
   "outputs": [],
   "source": [
    "# What is the probability of getting more than 3 heads?\n",
    "(results > 3).mean()"
   ]
  },
  {
   "cell_type": "markdown",
   "metadata": {},
   "source": [
    "## Exercise 3\n",
    "\n",
    "There are approximitely 3 web development cohorts for every 1 data science cohort at Codeup. \n",
    "\n",
    "Assuming that Codeup randomly selects an alumni to put on a billboard, what are the odds that the two billboards I drive past both have data science students on them?\n"
   ]
  },
  {
   "cell_type": "code",
   "execution_count": null,
   "metadata": {},
   "outputs": [],
   "source": [
    "outcomes = np.random.choice([\"Web Dev\", \"Data Science\"], size=(100_000, 2), p=[.75, .25])"
   ]
  },
  {
   "cell_type": "code",
   "execution_count": null,
   "metadata": {},
   "outputs": [],
   "source": [
    "df = pd.DataFrame(outcomes)\n",
    "df.columns = [\"first_billboard\", \"second_billboard\"]\n",
    "\n",
    "# both column holds the result of the & operation\n",
    "# comparisons that return a series of boolean can be combined with &, | for \"or\"\n",
    "df[\"both\"] = (df.first_billboard == \"Data Science\") & (df.second_billboard == \"Data Science\")\n",
    "df.head(5)"
   ]
  },
  {
   "cell_type": "code",
   "execution_count": null,
   "metadata": {},
   "outputs": [],
   "source": [
    "both = df.both.mean()\n",
    "f\"The probabiility of both being Data Science billboards is {both}\""
   ]
  },
  {
   "cell_type": "code",
   "execution_count": null,
   "metadata": {},
   "outputs": [],
   "source": [
    "df.both.value_counts(normalize=True)\n",
    "# DS, DS,\n",
    "# DS, WD\n",
    "# WD, DS\n",
    "# WD, WD"
   ]
  },
  {
   "cell_type": "markdown",
   "metadata": {},
   "source": [
    "## Exercise 4\n",
    "Codeup students buy, on average, 3 poptart packages (+- 1.5) a day from the snack vending machine. \n",
    "\n",
    "If on monday the machine is restocked with 17 poptart packages, how likely is it that I will be able to buy some poptarts on Friday afternoon?\n"
   ]
  },
  {
   "cell_type": "code",
   "execution_count": null,
   "metadata": {},
   "outputs": [],
   "source": [
    "# Round the poptart values b/c we can't buy fractions of poptarts from a vending machine\n",
    "poptarts = np.round(np.random.normal(3, 1.5, size=(100_000, 5)))"
   ]
  },
  {
   "cell_type": "code",
   "execution_count": null,
   "metadata": {},
   "outputs": [],
   "source": [
    "print(f\"Standard Deviation is {poptarts.std()}\")\n",
    "print(f\"Mean is {poptarts.mean()}\")"
   ]
  },
  {
   "cell_type": "code",
   "execution_count": null,
   "metadata": {},
   "outputs": [],
   "source": [
    "poptarts.min()"
   ]
  },
  {
   "cell_type": "code",
   "execution_count": null,
   "metadata": {},
   "outputs": [],
   "source": [
    "# First week's poptart consumption. \n",
    "# Each row simulates a week\n",
    "poptarts[0]"
   ]
  },
  {
   "cell_type": "code",
   "execution_count": null,
   "metadata": {},
   "outputs": [],
   "source": [
    "# .sum(axis=1) sums up each row which means the total of poptarts purchased that week\n",
    "weekly_demand = poptarts.sum(axis=1)\n",
    "weekly_demand"
   ]
  },
  {
   "cell_type": "code",
   "execution_count": null,
   "metadata": {},
   "outputs": [],
   "source": [
    "# how many weeks have less demand than 17 poptarts\n",
    "(weekly_demand < 17).mean()"
   ]
  },
  {
   "cell_type": "code",
   "execution_count": null,
   "metadata": {},
   "outputs": [],
   "source": []
  },
  {
   "cell_type": "markdown",
   "metadata": {},
   "source": [
    "## Exercise 5\n",
    "\n",
    "#### Compare Heights\n",
    "\n",
    "- Men have an average height of 178 cm and standard deviation of 8cm.\n",
    "- Women have a mean of 170, sd = 6cm.\n",
    "- If a man and woman are chosen at random, P(woman taller than man)?\n"
   ]
  },
  {
   "cell_type": "code",
   "execution_count": null,
   "metadata": {},
   "outputs": [],
   "source": [
    "trials = 100_000\n",
    "m_heights = np.random.normal(178, 8, trials)\n",
    "f_heights = np.random.normal(170, 6, trials)"
   ]
  },
  {
   "cell_type": "code",
   "execution_count": null,
   "metadata": {},
   "outputs": [],
   "source": [
    "f_heights"
   ]
  },
  {
   "cell_type": "code",
   "execution_count": null,
   "metadata": {},
   "outputs": [],
   "source": [
    "(m_heights < f_heights)"
   ]
  },
  {
   "cell_type": "code",
   "execution_count": null,
   "metadata": {},
   "outputs": [],
   "source": [
    "# p(f_heights > m_heights)\n",
    "(m_heights < f_heights).mean()"
   ]
  },
  {
   "cell_type": "code",
   "execution_count": null,
   "metadata": {},
   "outputs": [],
   "source": [
    "# p(m_heights == f_heights)\n",
    "f_heights == m_heights"
   ]
  },
  {
   "cell_type": "markdown",
   "metadata": {},
   "source": [
    "## Exercise 6\n",
    "\n",
    "When installing anaconda on a student's computer, there's a 1 in 250 chance that the download is corrupted and the installation fails\n",
    "\n",
    "- What are the odds that after having 50 students download anaconda, no one has an installation issue? \n",
    "- 100 students?\n",
    "- What is the probability that we observe an installation issue within the first 150 students that download anaconda?\n",
    "- How likely is it that 450 students all download anaconda without an issue?\n",
    "\n",
    "\n"
   ]
  },
  {
   "cell_type": "code",
   "execution_count": null,
   "metadata": {},
   "outputs": [],
   "source": [
    "trials = 10_000"
   ]
  },
  {
   "cell_type": "code",
   "execution_count": null,
   "metadata": {},
   "outputs": [],
   "source": [
    "students_per_trial = 50\n",
    "\n",
    "# 0 is a fail, 1 is success\n",
    "installs = np.random.choice([0, 1], size=(trials, students_per_trial), p=([1/250, 249/250]))\n",
    "df = pd.DataFrame(installs)\n",
    "df.head()"
   ]
  },
  {
   "cell_type": "code",
   "execution_count": null,
   "metadata": {},
   "outputs": [],
   "source": [
    "# integer location\n",
    "# .iloc[rows, columns]\n",
    "# rows 1 and 2, column 0 through 4\n",
    "df.iloc[0:2, 0:4]"
   ]
  },
  {
   "cell_type": "code",
   "execution_count": null,
   "metadata": {},
   "outputs": [],
   "source": [
    "df[\"all_good\"] = df.sum(axis=1) == students_per_trial\n",
    "df.head()"
   ]
  },
  {
   "cell_type": "code",
   "execution_count": null,
   "metadata": {},
   "outputs": [],
   "source": [
    "df.all_good.mean()"
   ]
  },
  {
   "cell_type": "code",
   "execution_count": null,
   "metadata": {},
   "outputs": [],
   "source": [
    "students_per_trial = 100\n",
    "\n",
    "installs = np.random.choice([0, 1], size=(trials, students_per_trial), p=([1/250, 249/250]))\n",
    "df = pd.DataFrame(installs)\n",
    "df[\"all_good\"] = df.sum(axis=1) == students_per_trial\n",
    "df.all_good.mean()"
   ]
  },
  {
   "cell_type": "code",
   "execution_count": null,
   "metadata": {},
   "outputs": [],
   "source": [
    "# What is the probability that we observe an installation issue\n",
    "# within the first 150 students that download anaconda?\n",
    "students_per_trial = 150\n",
    "\n",
    "installs = np.random.choice([0, 1], size=(trials, students_per_trial), p=([1/250, 249/250]))\n",
    "df = pd.DataFrame(installs)\n",
    "df[\"failures\"] = df.sum(axis=1) < students_per_trial\n",
    "\n",
    "f\"Average rate of any failure on installs in 150 is {df.failures.mean()}\""
   ]
  },
  {
   "cell_type": "code",
   "execution_count": null,
   "metadata": {},
   "outputs": [],
   "source": [
    "students_per_trial = 450\n",
    "\n",
    "installs = np.random.choice([0, 1], size=(trials, students_per_trial), p=([1/250, 249/250]))\n",
    "df = pd.DataFrame(installs)\n",
    "df[\"all_good\"] = df.sum(axis=1) == students_per_trial\n",
    "df.all_good.mean()"
   ]
  },
  {
   "cell_type": "markdown",
   "metadata": {},
   "source": [
    "## Exercise 7\n",
    "\n",
    "- There's a 70% chance on any given day that there will be at least one food truck at Travis Park. \n",
    "- However, you haven't seen a food truck there in 3 days. \n",
    "- How unlikely is this?\n",
    "\n"
   ]
  },
  {
   "cell_type": "code",
   "execution_count": null,
   "metadata": {},
   "outputs": [],
   "source": [
    "# 1 is a truck, 0 is no truck\n",
    "trucks = np.random.choice([1, 0], p=[.7, .3], size=(100_000, 3))\n",
    "df = pd.DataFrame(trucks)\n",
    "df.columns = [\"day_1\", \"day_2\", \"day_3\"]\n",
    "df"
   ]
  },
  {
   "cell_type": "code",
   "execution_count": null,
   "metadata": {},
   "outputs": [],
   "source": [
    "# Theoretical probability of seeing no food trucks across 3 days\n",
    ".3 * .3 * .3"
   ]
  },
  {
   "cell_type": "code",
   "execution_count": null,
   "metadata": {},
   "outputs": [],
   "source": [
    "df[\"appearances\"] = df.day_1 + df.day_2 + df.day_3\n",
    "(df.appearances == 0).mean()"
   ]
  },
  {
   "cell_type": "code",
   "execution_count": null,
   "metadata": {},
   "outputs": [],
   "source": [
    "# How likely is it that a food truck will show up sometime this week?\n",
    "\n",
    "trucks = np.random.choice([1, 0], p=[.7, .3], size=(100_000, 7))\n",
    "df = pd.DataFrame(trucks)\n",
    "df[\"appearances\"] = df.sum(axis=1) # sum values across the rows\n",
    "df.head()"
   ]
  },
  {
   "cell_type": "code",
   "execution_count": null,
   "metadata": {},
   "outputs": [],
   "source": [
    "(df.appearances > 0).mean()"
   ]
  },
  {
   "cell_type": "markdown",
   "metadata": {},
   "source": [
    "## Exericise 8\n",
    "\n",
    "## If 23 people are in the same room, what are the odds that two of them share a birthday? What if it's 20 people? 40?"
   ]
  },
  {
   "cell_type": "code",
   "execution_count": 1,
   "metadata": {},
   "outputs": [],
   "source": [
    "import numpy as np\n",
    "import pandas as pd"
   ]
  },
  {
   "cell_type": "code",
   "execution_count": 2,
   "metadata": {},
   "outputs": [
    {
     "data": {
      "text/html": [
       "<div>\n",
       "<style scoped>\n",
       "    .dataframe tbody tr th:only-of-type {\n",
       "        vertical-align: middle;\n",
       "    }\n",
       "\n",
       "    .dataframe tbody tr th {\n",
       "        vertical-align: top;\n",
       "    }\n",
       "\n",
       "    .dataframe thead th {\n",
       "        text-align: right;\n",
       "    }\n",
       "</style>\n",
       "<table border=\"1\" class=\"dataframe\">\n",
       "  <thead>\n",
       "    <tr style=\"text-align: right;\">\n",
       "      <th></th>\n",
       "      <th>0</th>\n",
       "      <th>1</th>\n",
       "      <th>2</th>\n",
       "      <th>3</th>\n",
       "      <th>4</th>\n",
       "      <th>5</th>\n",
       "      <th>6</th>\n",
       "      <th>7</th>\n",
       "      <th>8</th>\n",
       "      <th>9</th>\n",
       "      <th>...</th>\n",
       "      <th>13</th>\n",
       "      <th>14</th>\n",
       "      <th>15</th>\n",
       "      <th>16</th>\n",
       "      <th>17</th>\n",
       "      <th>18</th>\n",
       "      <th>19</th>\n",
       "      <th>20</th>\n",
       "      <th>21</th>\n",
       "      <th>22</th>\n",
       "    </tr>\n",
       "  </thead>\n",
       "  <tbody>\n",
       "    <tr>\n",
       "      <th>0</th>\n",
       "      <td>337</td>\n",
       "      <td>184</td>\n",
       "      <td>92</td>\n",
       "      <td>189</td>\n",
       "      <td>157</td>\n",
       "      <td>193</td>\n",
       "      <td>302</td>\n",
       "      <td>3</td>\n",
       "      <td>322</td>\n",
       "      <td>1</td>\n",
       "      <td>...</td>\n",
       "      <td>60</td>\n",
       "      <td>143</td>\n",
       "      <td>133</td>\n",
       "      <td>3</td>\n",
       "      <td>296</td>\n",
       "      <td>15</td>\n",
       "      <td>212</td>\n",
       "      <td>148</td>\n",
       "      <td>119</td>\n",
       "      <td>214</td>\n",
       "    </tr>\n",
       "    <tr>\n",
       "      <th>1</th>\n",
       "      <td>14</td>\n",
       "      <td>104</td>\n",
       "      <td>20</td>\n",
       "      <td>348</td>\n",
       "      <td>291</td>\n",
       "      <td>148</td>\n",
       "      <td>328</td>\n",
       "      <td>162</td>\n",
       "      <td>267</td>\n",
       "      <td>260</td>\n",
       "      <td>...</td>\n",
       "      <td>315</td>\n",
       "      <td>50</td>\n",
       "      <td>321</td>\n",
       "      <td>270</td>\n",
       "      <td>187</td>\n",
       "      <td>125</td>\n",
       "      <td>194</td>\n",
       "      <td>17</td>\n",
       "      <td>102</td>\n",
       "      <td>33</td>\n",
       "    </tr>\n",
       "    <tr>\n",
       "      <th>2</th>\n",
       "      <td>217</td>\n",
       "      <td>351</td>\n",
       "      <td>74</td>\n",
       "      <td>124</td>\n",
       "      <td>346</td>\n",
       "      <td>315</td>\n",
       "      <td>143</td>\n",
       "      <td>326</td>\n",
       "      <td>284</td>\n",
       "      <td>158</td>\n",
       "      <td>...</td>\n",
       "      <td>94</td>\n",
       "      <td>178</td>\n",
       "      <td>148</td>\n",
       "      <td>29</td>\n",
       "      <td>274</td>\n",
       "      <td>85</td>\n",
       "      <td>85</td>\n",
       "      <td>324</td>\n",
       "      <td>115</td>\n",
       "      <td>126</td>\n",
       "    </tr>\n",
       "    <tr>\n",
       "      <th>3</th>\n",
       "      <td>56</td>\n",
       "      <td>327</td>\n",
       "      <td>45</td>\n",
       "      <td>223</td>\n",
       "      <td>245</td>\n",
       "      <td>301</td>\n",
       "      <td>165</td>\n",
       "      <td>361</td>\n",
       "      <td>291</td>\n",
       "      <td>208</td>\n",
       "      <td>...</td>\n",
       "      <td>173</td>\n",
       "      <td>168</td>\n",
       "      <td>145</td>\n",
       "      <td>166</td>\n",
       "      <td>244</td>\n",
       "      <td>100</td>\n",
       "      <td>310</td>\n",
       "      <td>347</td>\n",
       "      <td>261</td>\n",
       "      <td>193</td>\n",
       "    </tr>\n",
       "    <tr>\n",
       "      <th>4</th>\n",
       "      <td>181</td>\n",
       "      <td>184</td>\n",
       "      <td>251</td>\n",
       "      <td>326</td>\n",
       "      <td>125</td>\n",
       "      <td>336</td>\n",
       "      <td>332</td>\n",
       "      <td>126</td>\n",
       "      <td>324</td>\n",
       "      <td>140</td>\n",
       "      <td>...</td>\n",
       "      <td>34</td>\n",
       "      <td>167</td>\n",
       "      <td>330</td>\n",
       "      <td>36</td>\n",
       "      <td>217</td>\n",
       "      <td>294</td>\n",
       "      <td>291</td>\n",
       "      <td>360</td>\n",
       "      <td>104</td>\n",
       "      <td>220</td>\n",
       "    </tr>\n",
       "    <tr>\n",
       "      <th>...</th>\n",
       "      <td>...</td>\n",
       "      <td>...</td>\n",
       "      <td>...</td>\n",
       "      <td>...</td>\n",
       "      <td>...</td>\n",
       "      <td>...</td>\n",
       "      <td>...</td>\n",
       "      <td>...</td>\n",
       "      <td>...</td>\n",
       "      <td>...</td>\n",
       "      <td>...</td>\n",
       "      <td>...</td>\n",
       "      <td>...</td>\n",
       "      <td>...</td>\n",
       "      <td>...</td>\n",
       "      <td>...</td>\n",
       "      <td>...</td>\n",
       "      <td>...</td>\n",
       "      <td>...</td>\n",
       "      <td>...</td>\n",
       "      <td>...</td>\n",
       "    </tr>\n",
       "    <tr>\n",
       "      <th>99995</th>\n",
       "      <td>306</td>\n",
       "      <td>157</td>\n",
       "      <td>33</td>\n",
       "      <td>30</td>\n",
       "      <td>167</td>\n",
       "      <td>286</td>\n",
       "      <td>322</td>\n",
       "      <td>67</td>\n",
       "      <td>21</td>\n",
       "      <td>350</td>\n",
       "      <td>...</td>\n",
       "      <td>83</td>\n",
       "      <td>168</td>\n",
       "      <td>90</td>\n",
       "      <td>46</td>\n",
       "      <td>4</td>\n",
       "      <td>192</td>\n",
       "      <td>158</td>\n",
       "      <td>238</td>\n",
       "      <td>74</td>\n",
       "      <td>128</td>\n",
       "    </tr>\n",
       "    <tr>\n",
       "      <th>99996</th>\n",
       "      <td>280</td>\n",
       "      <td>282</td>\n",
       "      <td>238</td>\n",
       "      <td>191</td>\n",
       "      <td>239</td>\n",
       "      <td>48</td>\n",
       "      <td>113</td>\n",
       "      <td>182</td>\n",
       "      <td>322</td>\n",
       "      <td>189</td>\n",
       "      <td>...</td>\n",
       "      <td>3</td>\n",
       "      <td>359</td>\n",
       "      <td>80</td>\n",
       "      <td>241</td>\n",
       "      <td>48</td>\n",
       "      <td>65</td>\n",
       "      <td>346</td>\n",
       "      <td>276</td>\n",
       "      <td>71</td>\n",
       "      <td>45</td>\n",
       "    </tr>\n",
       "    <tr>\n",
       "      <th>99997</th>\n",
       "      <td>183</td>\n",
       "      <td>62</td>\n",
       "      <td>135</td>\n",
       "      <td>0</td>\n",
       "      <td>63</td>\n",
       "      <td>227</td>\n",
       "      <td>356</td>\n",
       "      <td>354</td>\n",
       "      <td>6</td>\n",
       "      <td>344</td>\n",
       "      <td>...</td>\n",
       "      <td>60</td>\n",
       "      <td>58</td>\n",
       "      <td>69</td>\n",
       "      <td>240</td>\n",
       "      <td>29</td>\n",
       "      <td>183</td>\n",
       "      <td>303</td>\n",
       "      <td>307</td>\n",
       "      <td>274</td>\n",
       "      <td>49</td>\n",
       "    </tr>\n",
       "    <tr>\n",
       "      <th>99998</th>\n",
       "      <td>34</td>\n",
       "      <td>0</td>\n",
       "      <td>65</td>\n",
       "      <td>95</td>\n",
       "      <td>30</td>\n",
       "      <td>49</td>\n",
       "      <td>218</td>\n",
       "      <td>92</td>\n",
       "      <td>293</td>\n",
       "      <td>72</td>\n",
       "      <td>...</td>\n",
       "      <td>163</td>\n",
       "      <td>103</td>\n",
       "      <td>318</td>\n",
       "      <td>47</td>\n",
       "      <td>280</td>\n",
       "      <td>118</td>\n",
       "      <td>363</td>\n",
       "      <td>106</td>\n",
       "      <td>84</td>\n",
       "      <td>144</td>\n",
       "    </tr>\n",
       "    <tr>\n",
       "      <th>99999</th>\n",
       "      <td>348</td>\n",
       "      <td>196</td>\n",
       "      <td>264</td>\n",
       "      <td>256</td>\n",
       "      <td>266</td>\n",
       "      <td>232</td>\n",
       "      <td>161</td>\n",
       "      <td>350</td>\n",
       "      <td>47</td>\n",
       "      <td>310</td>\n",
       "      <td>...</td>\n",
       "      <td>238</td>\n",
       "      <td>346</td>\n",
       "      <td>33</td>\n",
       "      <td>56</td>\n",
       "      <td>2</td>\n",
       "      <td>346</td>\n",
       "      <td>120</td>\n",
       "      <td>78</td>\n",
       "      <td>211</td>\n",
       "      <td>214</td>\n",
       "    </tr>\n",
       "  </tbody>\n",
       "</table>\n",
       "<p>100000 rows × 23 columns</p>\n",
       "</div>"
      ],
      "text/plain": [
       "        0    1    2    3    4    5    6    7    8    9   ...   13   14   15  \\\n",
       "0      337  184   92  189  157  193  302    3  322    1  ...   60  143  133   \n",
       "1       14  104   20  348  291  148  328  162  267  260  ...  315   50  321   \n",
       "2      217  351   74  124  346  315  143  326  284  158  ...   94  178  148   \n",
       "3       56  327   45  223  245  301  165  361  291  208  ...  173  168  145   \n",
       "4      181  184  251  326  125  336  332  126  324  140  ...   34  167  330   \n",
       "...    ...  ...  ...  ...  ...  ...  ...  ...  ...  ...  ...  ...  ...  ...   \n",
       "99995  306  157   33   30  167  286  322   67   21  350  ...   83  168   90   \n",
       "99996  280  282  238  191  239   48  113  182  322  189  ...    3  359   80   \n",
       "99997  183   62  135    0   63  227  356  354    6  344  ...   60   58   69   \n",
       "99998   34    0   65   95   30   49  218   92  293   72  ...  163  103  318   \n",
       "99999  348  196  264  256  266  232  161  350   47  310  ...  238  346   33   \n",
       "\n",
       "        16   17   18   19   20   21   22  \n",
       "0        3  296   15  212  148  119  214  \n",
       "1      270  187  125  194   17  102   33  \n",
       "2       29  274   85   85  324  115  126  \n",
       "3      166  244  100  310  347  261  193  \n",
       "4       36  217  294  291  360  104  220  \n",
       "...    ...  ...  ...  ...  ...  ...  ...  \n",
       "99995   46    4  192  158  238   74  128  \n",
       "99996  241   48   65  346  276   71   45  \n",
       "99997  240   29  183  303  307  274   49  \n",
       "99998   47  280  118  363  106   84  144  \n",
       "99999   56    2  346  120   78  211  214  \n",
       "\n",
       "[100000 rows x 23 columns]"
      ]
     },
     "execution_count": 2,
     "metadata": {},
     "output_type": "execute_result"
    }
   ],
   "source": [
    "# calculate the odds of two people share a birthday\n",
    "n_simulations = 100_000\n",
    "n_people = 23\n",
    "\n",
    "# 0, 1, 2, 3, ... 364\n",
    "birthdays = np.random.choice(range(365), size=(n_simulations, n_people))\n",
    "df = pd.DataFrame(birthdays)\n",
    "df"
   ]
  },
  {
   "cell_type": "code",
   "execution_count": 3,
   "metadata": {},
   "outputs": [
    {
     "data": {
      "text/html": [
       "<div>\n",
       "<style scoped>\n",
       "    .dataframe tbody tr th:only-of-type {\n",
       "        vertical-align: middle;\n",
       "    }\n",
       "\n",
       "    .dataframe tbody tr th {\n",
       "        vertical-align: top;\n",
       "    }\n",
       "\n",
       "    .dataframe thead th {\n",
       "        text-align: right;\n",
       "    }\n",
       "</style>\n",
       "<table border=\"1\" class=\"dataframe\">\n",
       "  <thead>\n",
       "    <tr style=\"text-align: right;\">\n",
       "      <th></th>\n",
       "      <th>0</th>\n",
       "      <th>1</th>\n",
       "      <th>2</th>\n",
       "      <th>3</th>\n",
       "      <th>4</th>\n",
       "      <th>5</th>\n",
       "      <th>6</th>\n",
       "      <th>7</th>\n",
       "      <th>8</th>\n",
       "      <th>9</th>\n",
       "      <th>...</th>\n",
       "      <th>14</th>\n",
       "      <th>15</th>\n",
       "      <th>16</th>\n",
       "      <th>17</th>\n",
       "      <th>18</th>\n",
       "      <th>19</th>\n",
       "      <th>20</th>\n",
       "      <th>21</th>\n",
       "      <th>22</th>\n",
       "      <th>n_unique</th>\n",
       "    </tr>\n",
       "  </thead>\n",
       "  <tbody>\n",
       "    <tr>\n",
       "      <th>0</th>\n",
       "      <td>337</td>\n",
       "      <td>184</td>\n",
       "      <td>92</td>\n",
       "      <td>189</td>\n",
       "      <td>157</td>\n",
       "      <td>193</td>\n",
       "      <td>302</td>\n",
       "      <td>3</td>\n",
       "      <td>322</td>\n",
       "      <td>1</td>\n",
       "      <td>...</td>\n",
       "      <td>143</td>\n",
       "      <td>133</td>\n",
       "      <td>3</td>\n",
       "      <td>296</td>\n",
       "      <td>15</td>\n",
       "      <td>212</td>\n",
       "      <td>148</td>\n",
       "      <td>119</td>\n",
       "      <td>214</td>\n",
       "      <td>21</td>\n",
       "    </tr>\n",
       "    <tr>\n",
       "      <th>1</th>\n",
       "      <td>14</td>\n",
       "      <td>104</td>\n",
       "      <td>20</td>\n",
       "      <td>348</td>\n",
       "      <td>291</td>\n",
       "      <td>148</td>\n",
       "      <td>328</td>\n",
       "      <td>162</td>\n",
       "      <td>267</td>\n",
       "      <td>260</td>\n",
       "      <td>...</td>\n",
       "      <td>50</td>\n",
       "      <td>321</td>\n",
       "      <td>270</td>\n",
       "      <td>187</td>\n",
       "      <td>125</td>\n",
       "      <td>194</td>\n",
       "      <td>17</td>\n",
       "      <td>102</td>\n",
       "      <td>33</td>\n",
       "      <td>23</td>\n",
       "    </tr>\n",
       "    <tr>\n",
       "      <th>2</th>\n",
       "      <td>217</td>\n",
       "      <td>351</td>\n",
       "      <td>74</td>\n",
       "      <td>124</td>\n",
       "      <td>346</td>\n",
       "      <td>315</td>\n",
       "      <td>143</td>\n",
       "      <td>326</td>\n",
       "      <td>284</td>\n",
       "      <td>158</td>\n",
       "      <td>...</td>\n",
       "      <td>178</td>\n",
       "      <td>148</td>\n",
       "      <td>29</td>\n",
       "      <td>274</td>\n",
       "      <td>85</td>\n",
       "      <td>85</td>\n",
       "      <td>324</td>\n",
       "      <td>115</td>\n",
       "      <td>126</td>\n",
       "      <td>22</td>\n",
       "    </tr>\n",
       "  </tbody>\n",
       "</table>\n",
       "<p>3 rows × 24 columns</p>\n",
       "</div>"
      ],
      "text/plain": [
       "     0    1   2    3    4    5    6    7    8    9  ...   14   15   16   17  \\\n",
       "0  337  184  92  189  157  193  302    3  322    1  ...  143  133    3  296   \n",
       "1   14  104  20  348  291  148  328  162  267  260  ...   50  321  270  187   \n",
       "2  217  351  74  124  346  315  143  326  284  158  ...  178  148   29  274   \n",
       "\n",
       "    18   19   20   21   22  n_unique  \n",
       "0   15  212  148  119  214        21  \n",
       "1  125  194   17  102   33        23  \n",
       "2   85   85  324  115  126        22  \n",
       "\n",
       "[3 rows x 24 columns]"
      ]
     },
     "execution_count": 3,
     "metadata": {},
     "output_type": "execute_result"
    }
   ],
   "source": [
    "# Get the number of unique values per row\n",
    "df[\"n_unique\"] = df.nunique(axis=1)\n",
    "\n",
    "df.head(3)"
   ]
  },
  {
   "cell_type": "code",
   "execution_count": 5,
   "metadata": {},
   "outputs": [
    {
     "data": {
      "text/plain": [
       "0.36436"
      ]
     },
     "execution_count": 5,
     "metadata": {},
     "output_type": "execute_result"
    }
   ],
   "source": [
    "# For exactly 2 people sharing a birthday in a room of 23 people, the number of n_unique values shoudl be 23-2\n",
    "# 22 would be two individuals share a birthday\n",
    "(df.n_unique == 22).mean()"
   ]
  },
  {
   "cell_type": "code",
   "execution_count": 6,
   "metadata": {},
   "outputs": [
    {
     "data": {
      "text/html": [
       "<div>\n",
       "<style scoped>\n",
       "    .dataframe tbody tr th:only-of-type {\n",
       "        vertical-align: middle;\n",
       "    }\n",
       "\n",
       "    .dataframe tbody tr th {\n",
       "        vertical-align: top;\n",
       "    }\n",
       "\n",
       "    .dataframe thead th {\n",
       "        text-align: right;\n",
       "    }\n",
       "</style>\n",
       "<table border=\"1\" class=\"dataframe\">\n",
       "  <thead>\n",
       "    <tr style=\"text-align: right;\">\n",
       "      <th></th>\n",
       "      <th>0</th>\n",
       "      <th>1</th>\n",
       "      <th>2</th>\n",
       "      <th>3</th>\n",
       "      <th>4</th>\n",
       "      <th>5</th>\n",
       "      <th>6</th>\n",
       "      <th>7</th>\n",
       "      <th>8</th>\n",
       "      <th>9</th>\n",
       "      <th>...</th>\n",
       "      <th>11</th>\n",
       "      <th>12</th>\n",
       "      <th>13</th>\n",
       "      <th>14</th>\n",
       "      <th>15</th>\n",
       "      <th>16</th>\n",
       "      <th>17</th>\n",
       "      <th>18</th>\n",
       "      <th>19</th>\n",
       "      <th>n_unique</th>\n",
       "    </tr>\n",
       "  </thead>\n",
       "  <tbody>\n",
       "    <tr>\n",
       "      <th>0</th>\n",
       "      <td>166</td>\n",
       "      <td>152</td>\n",
       "      <td>13</td>\n",
       "      <td>207</td>\n",
       "      <td>222</td>\n",
       "      <td>32</td>\n",
       "      <td>86</td>\n",
       "      <td>250</td>\n",
       "      <td>146</td>\n",
       "      <td>233</td>\n",
       "      <td>...</td>\n",
       "      <td>184</td>\n",
       "      <td>53</td>\n",
       "      <td>74</td>\n",
       "      <td>271</td>\n",
       "      <td>336</td>\n",
       "      <td>84</td>\n",
       "      <td>149</td>\n",
       "      <td>227</td>\n",
       "      <td>35</td>\n",
       "      <td>20</td>\n",
       "    </tr>\n",
       "    <tr>\n",
       "      <th>1</th>\n",
       "      <td>81</td>\n",
       "      <td>81</td>\n",
       "      <td>36</td>\n",
       "      <td>18</td>\n",
       "      <td>213</td>\n",
       "      <td>50</td>\n",
       "      <td>358</td>\n",
       "      <td>280</td>\n",
       "      <td>36</td>\n",
       "      <td>150</td>\n",
       "      <td>...</td>\n",
       "      <td>213</td>\n",
       "      <td>294</td>\n",
       "      <td>179</td>\n",
       "      <td>170</td>\n",
       "      <td>38</td>\n",
       "      <td>10</td>\n",
       "      <td>317</td>\n",
       "      <td>361</td>\n",
       "      <td>195</td>\n",
       "      <td>17</td>\n",
       "    </tr>\n",
       "    <tr>\n",
       "      <th>2</th>\n",
       "      <td>134</td>\n",
       "      <td>225</td>\n",
       "      <td>357</td>\n",
       "      <td>159</td>\n",
       "      <td>259</td>\n",
       "      <td>28</td>\n",
       "      <td>151</td>\n",
       "      <td>227</td>\n",
       "      <td>176</td>\n",
       "      <td>277</td>\n",
       "      <td>...</td>\n",
       "      <td>37</td>\n",
       "      <td>280</td>\n",
       "      <td>184</td>\n",
       "      <td>316</td>\n",
       "      <td>136</td>\n",
       "      <td>76</td>\n",
       "      <td>130</td>\n",
       "      <td>330</td>\n",
       "      <td>49</td>\n",
       "      <td>20</td>\n",
       "    </tr>\n",
       "    <tr>\n",
       "      <th>3</th>\n",
       "      <td>231</td>\n",
       "      <td>162</td>\n",
       "      <td>249</td>\n",
       "      <td>221</td>\n",
       "      <td>87</td>\n",
       "      <td>38</td>\n",
       "      <td>197</td>\n",
       "      <td>31</td>\n",
       "      <td>160</td>\n",
       "      <td>361</td>\n",
       "      <td>...</td>\n",
       "      <td>294</td>\n",
       "      <td>336</td>\n",
       "      <td>272</td>\n",
       "      <td>23</td>\n",
       "      <td>271</td>\n",
       "      <td>151</td>\n",
       "      <td>114</td>\n",
       "      <td>35</td>\n",
       "      <td>364</td>\n",
       "      <td>20</td>\n",
       "    </tr>\n",
       "    <tr>\n",
       "      <th>4</th>\n",
       "      <td>301</td>\n",
       "      <td>228</td>\n",
       "      <td>315</td>\n",
       "      <td>218</td>\n",
       "      <td>34</td>\n",
       "      <td>88</td>\n",
       "      <td>110</td>\n",
       "      <td>13</td>\n",
       "      <td>261</td>\n",
       "      <td>315</td>\n",
       "      <td>...</td>\n",
       "      <td>54</td>\n",
       "      <td>362</td>\n",
       "      <td>237</td>\n",
       "      <td>167</td>\n",
       "      <td>109</td>\n",
       "      <td>304</td>\n",
       "      <td>325</td>\n",
       "      <td>160</td>\n",
       "      <td>343</td>\n",
       "      <td>19</td>\n",
       "    </tr>\n",
       "    <tr>\n",
       "      <th>...</th>\n",
       "      <td>...</td>\n",
       "      <td>...</td>\n",
       "      <td>...</td>\n",
       "      <td>...</td>\n",
       "      <td>...</td>\n",
       "      <td>...</td>\n",
       "      <td>...</td>\n",
       "      <td>...</td>\n",
       "      <td>...</td>\n",
       "      <td>...</td>\n",
       "      <td>...</td>\n",
       "      <td>...</td>\n",
       "      <td>...</td>\n",
       "      <td>...</td>\n",
       "      <td>...</td>\n",
       "      <td>...</td>\n",
       "      <td>...</td>\n",
       "      <td>...</td>\n",
       "      <td>...</td>\n",
       "      <td>...</td>\n",
       "      <td>...</td>\n",
       "    </tr>\n",
       "    <tr>\n",
       "      <th>99995</th>\n",
       "      <td>302</td>\n",
       "      <td>324</td>\n",
       "      <td>332</td>\n",
       "      <td>209</td>\n",
       "      <td>167</td>\n",
       "      <td>293</td>\n",
       "      <td>236</td>\n",
       "      <td>359</td>\n",
       "      <td>305</td>\n",
       "      <td>355</td>\n",
       "      <td>...</td>\n",
       "      <td>364</td>\n",
       "      <td>231</td>\n",
       "      <td>236</td>\n",
       "      <td>228</td>\n",
       "      <td>27</td>\n",
       "      <td>208</td>\n",
       "      <td>363</td>\n",
       "      <td>269</td>\n",
       "      <td>16</td>\n",
       "      <td>19</td>\n",
       "    </tr>\n",
       "    <tr>\n",
       "      <th>99996</th>\n",
       "      <td>59</td>\n",
       "      <td>95</td>\n",
       "      <td>66</td>\n",
       "      <td>115</td>\n",
       "      <td>78</td>\n",
       "      <td>256</td>\n",
       "      <td>203</td>\n",
       "      <td>207</td>\n",
       "      <td>3</td>\n",
       "      <td>178</td>\n",
       "      <td>...</td>\n",
       "      <td>159</td>\n",
       "      <td>88</td>\n",
       "      <td>265</td>\n",
       "      <td>86</td>\n",
       "      <td>224</td>\n",
       "      <td>235</td>\n",
       "      <td>329</td>\n",
       "      <td>326</td>\n",
       "      <td>204</td>\n",
       "      <td>20</td>\n",
       "    </tr>\n",
       "    <tr>\n",
       "      <th>99997</th>\n",
       "      <td>80</td>\n",
       "      <td>297</td>\n",
       "      <td>196</td>\n",
       "      <td>22</td>\n",
       "      <td>238</td>\n",
       "      <td>183</td>\n",
       "      <td>46</td>\n",
       "      <td>95</td>\n",
       "      <td>269</td>\n",
       "      <td>164</td>\n",
       "      <td>...</td>\n",
       "      <td>104</td>\n",
       "      <td>201</td>\n",
       "      <td>82</td>\n",
       "      <td>146</td>\n",
       "      <td>112</td>\n",
       "      <td>153</td>\n",
       "      <td>185</td>\n",
       "      <td>308</td>\n",
       "      <td>163</td>\n",
       "      <td>20</td>\n",
       "    </tr>\n",
       "    <tr>\n",
       "      <th>99998</th>\n",
       "      <td>224</td>\n",
       "      <td>232</td>\n",
       "      <td>234</td>\n",
       "      <td>297</td>\n",
       "      <td>153</td>\n",
       "      <td>23</td>\n",
       "      <td>177</td>\n",
       "      <td>347</td>\n",
       "      <td>137</td>\n",
       "      <td>221</td>\n",
       "      <td>...</td>\n",
       "      <td>311</td>\n",
       "      <td>34</td>\n",
       "      <td>232</td>\n",
       "      <td>2</td>\n",
       "      <td>67</td>\n",
       "      <td>14</td>\n",
       "      <td>70</td>\n",
       "      <td>80</td>\n",
       "      <td>320</td>\n",
       "      <td>19</td>\n",
       "    </tr>\n",
       "    <tr>\n",
       "      <th>99999</th>\n",
       "      <td>280</td>\n",
       "      <td>7</td>\n",
       "      <td>310</td>\n",
       "      <td>104</td>\n",
       "      <td>178</td>\n",
       "      <td>109</td>\n",
       "      <td>58</td>\n",
       "      <td>346</td>\n",
       "      <td>146</td>\n",
       "      <td>15</td>\n",
       "      <td>...</td>\n",
       "      <td>333</td>\n",
       "      <td>355</td>\n",
       "      <td>31</td>\n",
       "      <td>215</td>\n",
       "      <td>93</td>\n",
       "      <td>156</td>\n",
       "      <td>133</td>\n",
       "      <td>148</td>\n",
       "      <td>35</td>\n",
       "      <td>20</td>\n",
       "    </tr>\n",
       "  </tbody>\n",
       "</table>\n",
       "<p>100000 rows × 21 columns</p>\n",
       "</div>"
      ],
      "text/plain": [
       "         0    1    2    3    4    5    6    7    8    9  ...   11   12   13  \\\n",
       "0      166  152   13  207  222   32   86  250  146  233  ...  184   53   74   \n",
       "1       81   81   36   18  213   50  358  280   36  150  ...  213  294  179   \n",
       "2      134  225  357  159  259   28  151  227  176  277  ...   37  280  184   \n",
       "3      231  162  249  221   87   38  197   31  160  361  ...  294  336  272   \n",
       "4      301  228  315  218   34   88  110   13  261  315  ...   54  362  237   \n",
       "...    ...  ...  ...  ...  ...  ...  ...  ...  ...  ...  ...  ...  ...  ...   \n",
       "99995  302  324  332  209  167  293  236  359  305  355  ...  364  231  236   \n",
       "99996   59   95   66  115   78  256  203  207    3  178  ...  159   88  265   \n",
       "99997   80  297  196   22  238  183   46   95  269  164  ...  104  201   82   \n",
       "99998  224  232  234  297  153   23  177  347  137  221  ...  311   34  232   \n",
       "99999  280    7  310  104  178  109   58  346  146   15  ...  333  355   31   \n",
       "\n",
       "        14   15   16   17   18   19  n_unique  \n",
       "0      271  336   84  149  227   35        20  \n",
       "1      170   38   10  317  361  195        17  \n",
       "2      316  136   76  130  330   49        20  \n",
       "3       23  271  151  114   35  364        20  \n",
       "4      167  109  304  325  160  343        19  \n",
       "...    ...  ...  ...  ...  ...  ...       ...  \n",
       "99995  228   27  208  363  269   16        19  \n",
       "99996   86  224  235  329  326  204        20  \n",
       "99997  146  112  153  185  308  163        20  \n",
       "99998    2   67   14   70   80  320        19  \n",
       "99999  215   93  156  133  148   35        20  \n",
       "\n",
       "[100000 rows x 21 columns]"
      ]
     },
     "execution_count": 6,
     "metadata": {},
     "output_type": "execute_result"
    }
   ],
   "source": [
    "# calculate the odds of two people share a birthday in a room of 20 people\n",
    "n_simulations = 100_000\n",
    "n_people = 20\n",
    "birthdays = np.random.choice(range(365), size=(n_simulations, n_people))\n",
    "df = pd.DataFrame(birthdays)\n",
    "\n",
    "# Get the number of unique values per row\n",
    "# axis=1 means count unique values BY ROW\n",
    "df[\"n_unique\"] = df.nunique(axis=1)\n",
    "df"
   ]
  },
  {
   "cell_type": "code",
   "execution_count": 7,
   "metadata": {},
   "outputs": [
    {
     "data": {
      "text/plain": [
       "0.32243"
      ]
     },
     "execution_count": 7,
     "metadata": {},
     "output_type": "execute_result"
    }
   ],
   "source": [
    "# Because we're looking for exactly 2 people w/ the same birthday, we're looking for n_people - 1 number unique\n",
    "(df.n_unique == n_people - 1).mean()"
   ]
  },
  {
   "cell_type": "code",
   "execution_count": 11,
   "metadata": {},
   "outputs": [
    {
     "data": {
      "text/plain": [
       "<matplotlib.axes._subplots.AxesSubplot at 0x12a0f2898>"
      ]
     },
     "execution_count": 11,
     "metadata": {},
     "output_type": "execute_result"
    },
    {
     "data": {
      "image/png": "[encoded data removed]",
      "text/plain": [
       "<Figure size 432x288 with 1 Axes>"
      ]
     },
     "metadata": {
      "needs_background": "light"
     },
     "output_type": "display_data"
    }
   ],
   "source": [
    "# calculate the odds of two people share a birthday in a room of 40 people\n",
    "n_simulations = 100_000\n",
    "n_people = 40\n",
    "birthdays = np.random.choice(range(365), size=(n_simulations, n_people))\n",
    "df = pd.DataFrame(birthdays)\n",
    "\n",
    "# Get the number of unique values per row\n",
    "df[\"n_unique\"] = df.nunique(axis=1)\n",
    "df.n_unique.hist()"
   ]
  },
  {
   "cell_type": "code",
   "execution_count": 12,
   "metadata": {},
   "outputs": [
    {
     "data": {
      "text/plain": [
       "0.26146"
      ]
     },
     "execution_count": 12,
     "metadata": {},
     "output_type": "execute_result"
    }
   ],
   "source": [
    "(df.n_unique == n_people - 1).mean()"
   ]
  },
  {
   "cell_type": "code",
   "execution_count": 17,
   "metadata": {},
   "outputs": [
    {
     "data": {
      "text/plain": [
       "0.70679"
      ]
     },
     "execution_count": 17,
     "metadata": {},
     "output_type": "execute_result"
    }
   ],
   "source": [
    "# In a room of 30 people\n",
    "# What are the odds that at least 2 people share a birthday\n",
    "\n",
    "n_simulations = 100_000\n",
    "n_people = 30\n",
    "birthdays = np.random.choice(range(365), size=(n_simulations, n_people))\n",
    "df = pd.DataFrame(birthdays)\n",
    "\n",
    "# Get the number of unique values per row\n",
    "df[\"n_unique\"] = df.nunique(axis=1)\n",
    "\n",
    "(df.n_unique <= n_people - 1).mean()"
   ]
  },
  {
   "cell_type": "code",
   "execution_count": 16,
   "metadata": {},
   "outputs": [
    {
     "data": {
      "text/plain": [
       "<matplotlib.axes._subplots.AxesSubplot at 0x12a72d320>"
      ]
     },
     "execution_count": 16,
     "metadata": {},
     "output_type": "execute_result"
    },
    {
     "data": {
      "image/png": "[encoded data removed]",
      "text/plain": [
       "<Figure size 432x288 with 1 Axes>"
      ]
     },
     "metadata": {
      "needs_background": "light"
     },
     "output_type": "display_data"
    }
   ],
   "source": [
    "df.n_unique.hist()"
   ]
  },
  {
   "cell_type": "code",
   "execution_count": 18,
   "metadata": {},
   "outputs": [
    {
     "data": {
      "text/plain": [
       "0.8872"
      ]
     },
     "execution_count": 18,
     "metadata": {},
     "output_type": "execute_result"
    }
   ],
   "source": [
    "# In a room of 40 people\n",
    "# What are the odds that at least 2 people share a birthdau\n",
    "\n",
    "n_simulations = 10_000\n",
    "n_people = 40\n",
    "birthdays = np.random.choice(range(365), size=(n_simulations, n_people))\n",
    "df = pd.DataFrame(birthdays)\n",
    "\n",
    "# Get the number of unique values per row\n",
    "df[\"n_unique\"] = df.nunique(axis=1)\n",
    "\n",
    "(df.n_unique <= n_people - 1).mean()"
   ]
  },
  {
   "cell_type": "code",
   "execution_count": 19,
   "metadata": {},
   "outputs": [
    {
     "data": {
      "text/plain": [
       "0.9405"
      ]
     },
     "execution_count": 19,
     "metadata": {},
     "output_type": "execute_result"
    }
   ],
   "source": [
    "n_simulations = 10_000\n",
    "n_people = 45\n",
    "birthdays = np.random.choice(range(365), size=(n_simulations, n_people))\n",
    "df = pd.DataFrame(birthdays)\n",
    "\n",
    "# Get the number of unique values per row\n",
    "df[\"n_unique\"] = df.nunique(axis=1)\n",
    "\n",
    "(df.n_unique <= n_people - 1).mean()"
   ]
  },
  {
   "cell_type": "code",
   "execution_count": 20,
   "metadata": {},
   "outputs": [
    {
     "data": {
      "text/plain": [
       "0.9836"
      ]
     },
     "execution_count": 20,
     "metadata": {},
     "output_type": "execute_result"
    }
   ],
   "source": [
    "n_simulations = 10_000\n",
    "n_people = 53\n",
    "birthdays = np.random.choice(range(365), size=(n_simulations, n_people))\n",
    "df = pd.DataFrame(birthdays)\n",
    "\n",
    "# Get the number of unique values per row\n",
    "df[\"n_unique\"] = df.nunique(axis=1)\n",
    "\n",
    "(df.n_unique <= n_people - 1).mean()"
   ]
  },
  {
   "cell_type": "code",
   "execution_count": 21,
   "metadata": {},
   "outputs": [
    {
     "data": {
      "text/plain": [
       "0.9897"
      ]
     },
     "execution_count": 21,
     "metadata": {},
     "output_type": "execute_result"
    }
   ],
   "source": [
    "n_simulations = 10_000\n",
    "n_people = 57\n",
    "birthdays = np.random.choice(range(365), size=(n_simulations, n_people))\n",
    "df = pd.DataFrame(birthdays)\n",
    "\n",
    "# Get the number of unique values per row\n",
    "df[\"n_unique\"] = df.nunique(axis=1)\n",
    "\n",
    "(df.n_unique <= n_people - 1).mean()"
   ]
  },
  {
   "cell_type": "code",
   "execution_count": null,
   "metadata": {},
   "outputs": [],
   "source": [
    "# is there a way to programmatically run these simulations up to a given mean?\n",
    "# What number of people gives us 99% "
   ]
  },
  {
   "cell_type": "code",
   "execution_count": 36,
   "metadata": {},
   "outputs": [
    {
     "data": {
      "text/plain": [
       "1     0.0000\n",
       "2     0.0022\n",
       "3     0.0086\n",
       "4     0.0153\n",
       "5     0.0323\n",
       "6     0.0392\n",
       "7     0.0574\n",
       "8     0.0745\n",
       "9     0.0955\n",
       "10    0.1163\n",
       "11    0.1418\n",
       "12    0.1718\n",
       "13    0.1961\n",
       "14    0.2296\n",
       "15    0.2544\n",
       "16    0.2851\n",
       "17    0.3131\n",
       "18    0.3471\n",
       "19    0.3808\n",
       "20    0.4124\n",
       "21    0.4376\n",
       "22    0.4779\n",
       "23    0.5140\n",
       "24    0.5274\n",
       "25    0.5711\n",
       "26    0.5952\n",
       "27    0.6286\n",
       "28    0.6524\n",
       "29    0.6794\n",
       "30    0.7102\n",
       "31    0.7277\n",
       "32    0.7537\n",
       "33    0.7742\n",
       "34    0.7884\n",
       "35    0.8138\n",
       "36    0.8379\n",
       "37    0.8543\n",
       "38    0.8676\n",
       "39    0.8837\n",
       "40    0.8890\n",
       "41    0.9033\n",
       "42    0.9149\n",
       "43    0.9248\n",
       "44    0.9341\n",
       "45    0.9416\n",
       "46    0.9444\n",
       "47    0.9550\n",
       "48    0.9603\n",
       "49    0.9667\n",
       "50    0.9716\n",
       "51    0.9704\n",
       "52    0.9777\n",
       "53    0.9828\n",
       "54    0.9834\n",
       "55    0.9862\n",
       "56    0.9890\n",
       "57    0.9893\n",
       "58    0.9908\n",
       "dtype: float64"
      ]
     },
     "execution_count": 36,
     "metadata": {},
     "output_type": "execute_result"
    }
   ],
   "source": [
    "# Monte Carlo method == running a LOT of simulations\n",
    "# Bayesian probability\n",
    "\n",
    "n_simulations = 10_000\n",
    "\n",
    "n_people = 0\n",
    "\n",
    "threshold = .99\n",
    "p_event = 0.0\n",
    "\n",
    "output = {}\n",
    "\n",
    "while p_event < threshold:\n",
    "    n_people += 1\n",
    "\n",
    "    birthdays = np.random.choice(range(365), size=(n_simulations, n_people))\n",
    "    df = pd.DataFrame(birthdays)\n",
    "    \n",
    "    # Get the number of unique values per row\n",
    "    df[\"n_unique\"] = df.nunique(axis=1)\n",
    "    \n",
    "    p_event = (df.n_unique <= n_people - 1).mean()\n",
    "\n",
    "    # dynamically generate key=>value pairs relating room size to probability\n",
    "    output[n_people] = p_event\n",
    "\n",
    "df = pd.Series(output)\n",
    "df"
   ]
  },
  {
   "cell_type": "code",
   "execution_count": 37,
   "metadata": {},
   "outputs": [
    {
     "data": {
      "text/plain": [
       "<matplotlib.axes._subplots.AxesSubplot at 0x10cf04978>"
      ]
     },
     "execution_count": 37,
     "metadata": {},
     "output_type": "execute_result"
    },
    {
     "data": {
      "image/png": "[encoded data removed]",
      "text/plain": [
       "<Figure size 432x288 with 1 Axes>"
      ]
     },
     "metadata": {
      "needs_background": "light"
     },
     "output_type": "display_data"
    }
   ],
   "source": [
    "df.plot()"
   ]
  },
  {
   "cell_type": "code",
   "execution_count": 38,
   "metadata": {},
   "outputs": [
    {
     "data": {
      "text/plain": [
       "<matplotlib.axes._subplots.AxesSubplot at 0x11e1daba8>"
      ]
     },
     "execution_count": 38,
     "metadata": {},
     "output_type": "execute_result"
    },
    {
     "data": {
      "image/png": "[encoded data removed]",
      "text/plain": [
       "<Figure size 432x288 with 1 Axes>"
      ]
     },
     "metadata": {
      "needs_background": "light"
     },
     "output_type": "display_data"
    }
   ],
   "source": [
    "df.hist()"
   ]
  },
  {
   "cell_type": "code",
   "execution_count": 66,
   "metadata": {},
   "outputs": [],
   "source": [
    "# The theoretical approach is known as \"Frequentist statistics\"\n",
    "# We're using algebra (sometimes calculus) to produce probabilies and distributions of values\n",
    "# Frequentist statistics is building distributions based on infinity number of trials\n",
    "\n",
    "# x reperesents room sizes starting at 1 going to 100\n",
    "x = range(1, 100)\n",
    "\n",
    "# 0.5004771540365807 static probabiliy for room size of 23\n",
    "\n",
    "# alebra here is N = (n(n-1))/2, the n is incrementing starting at 1, 2, 3, ... 100\n",
    "# N = n * (n-1) / 2\n",
    "# N will be a list of N for each room size\n",
    "N = [n * (n-1) / 2 for n in x]\n",
    "\n",
    "# Get the probability for each capital N\n",
    "y = [1 - (364/365)** n for n in N]"
   ]
  },
  {
   "cell_type": "code",
   "execution_count": 67,
   "metadata": {
    "scrolled": true
   },
   "outputs": [
    {
     "data": {
      "text/plain": [
       "[0.0,\n",
       " 0.002739726027397249,\n",
       " 0.008196680350730179,\n",
       " 0.016326175132688192,\n",
       " 0.02706194179780841,\n",
       " 0.040317030519740005,\n",
       " 0.05598498275133312,\n",
       " 0.07394125468301205,\n",
       " 0.09404486501284048,\n",
       " 0.11614023654879224,\n",
       " 0.14005919802473354,\n",
       " 0.16562311016020548,\n",
       " 0.19264507847148415,\n",
       " 0.22093221466553126,\n",
       " 0.25028790861398265,\n",
       " 0.2805140738834109,\n",
       " 0.31141333154182016,\n",
       " 0.34279109940182606,\n",
       " 0.37445755691404703,\n",
       " 0.4062294594924657,\n",
       " 0.437931780029604,\n",
       " 0.4693991596297191,\n",
       " 0.5004771540365807,\n",
       " 0.5310232667433115,\n",
       " 0.5609077642340204,\n",
       " 0.5900142731165001,\n",
       " 0.6182401629679479,\n",
       " 0.6454967224493771,\n",
       " 0.6717091395807101,\n",
       " 0.6968162999539518,\n",
       " 0.7207704190581927,\n",
       " 0.7435365267749252,\n",
       " 0.7650918234676976,\n",
       " 0.785424927943206,\n",
       " 0.8045350379211029,\n",
       " 0.8224310235481093,\n",
       " 0.8391304739689956,\n",
       " 0.8546587160708248,\n",
       " 0.8690478233012772,\n",
       " 0.8823356309842172,\n",
       " 0.8945647728747912,\n",
       " 0.9057817518709361,\n",
       " 0.916036055884961,\n",
       " 0.9253793279312841,\n",
       " 0.933864597553359,\n",
       " 0.9415455788377616,\n",
       " 0.9484760384836917,\n",
       " 0.9547092357425973,\n",
       " 0.9602974345393973,\n",
       " 0.9652914867514426,\n",
       " 0.969740484465088,\n",
       " 0.9736914780578503,\n",
       " 0.9771892561665184,\n",
       " 0.980276182993476,\n",
       " 0.9829920879661255,\n",
       " 0.9853742024856652,\n",
       " 0.9874571383670745,\n",
       " 0.9892729025657797,\n",
       " 0.9908509428908026,\n",
       " 0.9922182196015111,\n",
       " 0.9933992980577853,\n",
       " 0.9944164579244638,\n",
       " 0.9952898148043288,\n",
       " 0.9960374505748545,\n",
       " 0.9966755491192575,\n",
       " 0.9972185345604418,\n",
       " 0.9976792095173446,\n",
       " 0.9980688912987968,\n",
       " 0.9983975443238351,\n",
       " 0.9986739074045339,\n",
       " 0.9989056148444447,\n",
       " 0.9990993105905166,\n",
       " 0.9992607549279731,\n",
       " 0.9993949234260759,\n",
       " 0.9995060980288614,\n",
       " 0.999597950340303,\n",
       " 0.9996736172799395,\n",
       " 0.9997357693851646,\n",
       " 0.9997866721126941,\n",
       " 0.9998282405469137,\n",
       " 0.9998620879595727,\n",
       " 0.9998895686863095,\n",
       " 0.9999118157933041,\n",
       " 0.9999297740043368,\n",
       " 0.999944228346884,\n",
       " 0.9999558289575475,\n",
       " 0.9999651124638549,\n",
       " 0.9999725203327732,\n",
       " 0.9999784145474572,\n",
       " 0.9999830909438506,\n",
       " 0.9999867905086864,\n",
       " 0.9999897089108569,\n",
       " 0.9999920045096056,\n",
       " 0.9999938050559157,\n",
       " 0.9999952132781177,\n",
       " 0.999996311519276,\n",
       " 0.9999971655724496,\n",
       " 0.9999978278404483,\n",
       " 0.9999983399292282]"
      ]
     },
     "execution_count": 67,
     "metadata": {},
     "output_type": "execute_result"
    }
   ],
   "source": [
    "y"
   ]
  },
  {
   "cell_type": "code",
   "execution_count": 70,
   "metadata": {},
   "outputs": [
    {
     "data": {
      "text/plain": [
       "Text(0, 0.5, 'Probability')"
      ]
     },
     "execution_count": 70,
     "metadata": {},
     "output_type": "execute_result"
    },
    {
     "data": {
      "image/png": "[encoded data removed]",
      "text/plain": [
       "<Figure size 432x288 with 1 Axes>"
      ]
     },
     "metadata": {
      "needs_background": "light"
     },
     "output_type": "display_data"
    }
   ],
   "source": [
    "import matplotlib.pyplot as plt\n",
    "\n",
    "plt.title(\"Probability of at least two people sharing a birthday\")\n",
    "plt.plot(x, y)\n",
    "plt.xlabel(\"Number of people in the room\")\n",
    "plt.ylabel(\"Probability\")"
   ]
  },
  {
   "cell_type": "code",
   "execution_count": null,
   "metadata": {},
   "outputs": [],
   "source": []
  },
  {
   "cell_type": "code",
   "execution_count": null,
   "metadata": {},
   "outputs": [],
   "source": []
  }
 ],
 "metadata": {
  "kernelspec": {
   "display_name": "Python 3",
   "language": "python",
   "name": "python3"
  },
  "language_info": {
   "codemirror_mode": {
    "name": "ipython",
    "version": 3
   },
   "file_extension": ".py",
   "mimetype": "text/x-python",
   "name": "python",
   "nbconvert_exporter": "python",
   "pygments_lexer": "ipython3",
   "version": "3.7.3"
  }
 },
 "nbformat": 4,
 "nbformat_minor": 4
}
