{
 "cells": [
  {
   "cell_type": "code",
   "execution_count": 38,
   "metadata": {},
   "outputs": [],
   "source": [
    "import numpy as np\n",
    "import pandas as pd\n",
    "\n",
    "np.random.seed(42)"
   ]
  },
  {
   "cell_type": "markdown",
   "metadata": {},
   "source": [
    "## Exercise 1\n",
    "- probability(rolling doubles on rolling 2 dice)\n",
    "- p(e) \n",
    "- p(event)\n",
    "- p(rolling doubles on 2 dice)"
   ]
  },
  {
   "cell_type": "code",
   "execution_count": 46,
   "metadata": {},
   "outputs": [
    {
     "data": {
      "text/plain": [
       "array([[4, 6, 1, ..., 3, 1, 5],\n",
       "       [2, 1, 2, ..., 5, 4, 1]])"
      ]
     },
     "execution_count": 46,
     "metadata": {},
     "output_type": "execute_result"
    }
   ],
   "source": [
    "rolls = np.random.choice([1, 2, 3, 4, 5, 6], size=(2, 100_000))\n",
    "rolls"
   ]
  },
  {
   "cell_type": "code",
   "execution_count": 47,
   "metadata": {},
   "outputs": [
    {
     "data": {
      "text/plain": [
       "100000"
      ]
     },
     "execution_count": 47,
     "metadata": {},
     "output_type": "execute_result"
    }
   ],
   "source": [
    "rolls[0].size"
   ]
  },
  {
   "cell_type": "code",
   "execution_count": 48,
   "metadata": {},
   "outputs": [],
   "source": [
    "# In this approach, the array values at each index are the trial, the event of rolling two dice.\n",
    "die1 = rolls[0]\n",
    "die2 = rolls[1]"
   ]
  },
  {
   "cell_type": "code",
   "execution_count": 49,
   "metadata": {},
   "outputs": [
    {
     "name": "stdout",
     "output_type": "stream",
     "text": [
      "6\n",
      "1\n"
     ]
    }
   ],
   "source": [
    "print(die1[1])\n",
    "print(die2[1])"
   ]
  },
  {
   "cell_type": "code",
   "execution_count": 50,
   "metadata": {},
   "outputs": [
    {
     "data": {
      "text/plain": [
       "0.16591"
      ]
     },
     "execution_count": 50,
     "metadata": {},
     "output_type": "execute_result"
    }
   ],
   "source": [
    "# vectorization here is that we don't have to worry about the index\n",
    "(die1 == die2).mean()"
   ]
  },
  {
   "cell_type": "code",
   "execution_count": 51,
   "metadata": {},
   "outputs": [
    {
     "data": {
      "text/html": [
       "<div>\n",
       "<style scoped>\n",
       "    .dataframe tbody tr th:only-of-type {\n",
       "        vertical-align: middle;\n",
       "    }\n",
       "\n",
       "    .dataframe tbody tr th {\n",
       "        vertical-align: top;\n",
       "    }\n",
       "\n",
       "    .dataframe thead th {\n",
       "        text-align: right;\n",
       "    }\n",
       "</style>\n",
       "<table border=\"1\" class=\"dataframe\">\n",
       "  <thead>\n",
       "    <tr style=\"text-align: right;\">\n",
       "      <th></th>\n",
       "      <th>0</th>\n",
       "      <th>1</th>\n",
       "    </tr>\n",
       "  </thead>\n",
       "  <tbody>\n",
       "    <tr>\n",
       "      <th>0</th>\n",
       "      <td>4</td>\n",
       "      <td>2</td>\n",
       "    </tr>\n",
       "    <tr>\n",
       "      <th>1</th>\n",
       "      <td>6</td>\n",
       "      <td>1</td>\n",
       "    </tr>\n",
       "    <tr>\n",
       "      <th>2</th>\n",
       "      <td>1</td>\n",
       "      <td>2</td>\n",
       "    </tr>\n",
       "  </tbody>\n",
       "</table>\n",
       "</div>"
      ],
      "text/plain": [
       "   0  1\n",
       "0  4  2\n",
       "1  6  1\n",
       "2  1  2"
      ]
     },
     "execution_count": 51,
     "metadata": {},
     "output_type": "execute_result"
    }
   ],
   "source": [
    "# a Pandas assisted approach to the same problem\n",
    "rolls = rolls.T # .T means transpose\n",
    "df = pd.DataFrame(rolls)\n",
    "df.head(3)"
   ]
  },
  {
   "cell_type": "code",
   "execution_count": 52,
   "metadata": {},
   "outputs": [
    {
     "data": {
      "text/plain": [
       "0.16591"
      ]
     },
     "execution_count": 52,
     "metadata": {},
     "output_type": "execute_result"
    }
   ],
   "source": [
    "df[\"doubles\"] = df[0] == df[1]\n",
    "df.doubles.mean()"
   ]
  },
  {
   "cell_type": "markdown",
   "metadata": {},
   "source": [
    "## Exercise 2\n",
    "\n",
    "### If you flip 8 coins...\n",
    "- What is the probability of getting exactly 3 heads? \n",
    "- What is the probability of getting more than 3 heads?\n",
    "- trial is flipping 8 coins"
   ]
  },
  {
   "cell_type": "code",
   "execution_count": 53,
   "metadata": {},
   "outputs": [],
   "source": [
    "# If you flip 8 coins\n",
    "# What is the probability of getting exactly 3 heads? \n",
    "# What is the probability of getting more than 3 heads?\n",
    "\n",
    "# Flip 8 coins\n",
    "n_coins = 8\n",
    "\n",
    "# With this many simulations\n",
    "n_simulations = 100_000\n",
    "\n",
    "# Heads is 1 and Tails is 0.\n",
    "# flips = np.random.choice([0, 1], n_simulations * n_coins).reshape(n_simulations, n_coins)\n",
    "flips = np.random.choice([0, 1], size=(n_simulations * n_coins))"
   ]
  },
  {
   "cell_type": "code",
   "execution_count": 54,
   "metadata": {},
   "outputs": [
    {
     "data": {
      "text/plain": [
       "array([[1, 0, 1, ..., 0, 0, 1],\n",
       "       [0, 1, 0, ..., 1, 1, 0],\n",
       "       [1, 0, 1, ..., 1, 0, 0],\n",
       "       ...,\n",
       "       [1, 0, 0, ..., 1, 0, 0],\n",
       "       [0, 0, 0, ..., 0, 1, 1],\n",
       "       [0, 1, 0, ..., 0, 1, 1]])"
      ]
     },
     "execution_count": 54,
     "metadata": {},
     "output_type": "execute_result"
    }
   ],
   "source": [
    "flips"
   ]
  },
  {
   "cell_type": "code",
   "execution_count": 55,
   "metadata": {},
   "outputs": [
    {
     "data": {
      "text/plain": [
       "array([1, 0, 1, 0, 0, 0, 0, 1])"
      ]
     },
     "execution_count": 55,
     "metadata": {},
     "output_type": "execute_result"
    }
   ],
   "source": [
    "# Peek at the first row\n",
    "flips[0]"
   ]
  },
  {
   "cell_type": "code",
   "execution_count": 56,
   "metadata": {},
   "outputs": [
    {
     "data": {
      "text/plain": [
       "array([3, 5, 5, ..., 3, 3, 4])"
      ]
     },
     "execution_count": 56,
     "metadata": {},
     "output_type": "execute_result"
    }
   ],
   "source": [
    "# .sum(axis=1) sums up each row\n",
    "results = flips.sum(axis=1)\n",
    "results"
   ]
  },
  {
   "cell_type": "code",
   "execution_count": 58,
   "metadata": {},
   "outputs": [
    {
     "data": {
      "text/plain": [
       "0.21746"
      ]
     },
     "execution_count": 58,
     "metadata": {},
     "output_type": "execute_result"
    }
   ],
   "source": [
    "# What is the probability of getting exactly 3 heads? \n",
    "(results == 3).mean()"
   ]
  },
  {
   "cell_type": "code",
   "execution_count": 60,
   "metadata": {},
   "outputs": [
    {
     "data": {
      "text/plain": [
       "0.0039"
      ]
     },
     "execution_count": 60,
     "metadata": {},
     "output_type": "execute_result"
    }
   ],
   "source": [
    "(results == 8).mean()"
   ]
  },
  {
   "cell_type": "code",
   "execution_count": 61,
   "metadata": {},
   "outputs": [
    {
     "data": {
      "text/plain": [
       "0.63667"
      ]
     },
     "execution_count": 61,
     "metadata": {},
     "output_type": "execute_result"
    }
   ],
   "source": [
    "# What is the probability of getting more than 3 heads?\n",
    "(results > 3).mean()"
   ]
  },
  {
   "cell_type": "markdown",
   "metadata": {},
   "source": [
    "## Exercise 3\n",
    "\n",
    "There are approximitely 3 web development cohorts for every 1 data science cohort at Codeup. \n",
    "\n",
    "Assuming that Codeup randomly selects an alumni to put on a billboard, what are the odds that the two billboards I drive past both have data science students on them?\n"
   ]
  },
  {
   "cell_type": "code",
   "execution_count": 65,
   "metadata": {},
   "outputs": [],
   "source": [
    "outcomes = np.random.choice([\"Web Dev\", \"Data Science\"], size=(100_000, 2), p=[.75, .25])"
   ]
  },
  {
   "cell_type": "code",
   "execution_count": 67,
   "metadata": {},
   "outputs": [
    {
     "data": {
      "text/html": [
       "<div>\n",
       "<style scoped>\n",
       "    .dataframe tbody tr th:only-of-type {\n",
       "        vertical-align: middle;\n",
       "    }\n",
       "\n",
       "    .dataframe tbody tr th {\n",
       "        vertical-align: top;\n",
       "    }\n",
       "\n",
       "    .dataframe thead th {\n",
       "        text-align: right;\n",
       "    }\n",
       "</style>\n",
       "<table border=\"1\" class=\"dataframe\">\n",
       "  <thead>\n",
       "    <tr style=\"text-align: right;\">\n",
       "      <th></th>\n",
       "      <th>first_billboard</th>\n",
       "      <th>second_billboard</th>\n",
       "      <th>both</th>\n",
       "    </tr>\n",
       "  </thead>\n",
       "  <tbody>\n",
       "    <tr>\n",
       "      <th>0</th>\n",
       "      <td>Web Dev</td>\n",
       "      <td>Web Dev</td>\n",
       "      <td>False</td>\n",
       "    </tr>\n",
       "    <tr>\n",
       "      <th>1</th>\n",
       "      <td>Web Dev</td>\n",
       "      <td>Web Dev</td>\n",
       "      <td>False</td>\n",
       "    </tr>\n",
       "    <tr>\n",
       "      <th>2</th>\n",
       "      <td>Web Dev</td>\n",
       "      <td>Web Dev</td>\n",
       "      <td>False</td>\n",
       "    </tr>\n",
       "    <tr>\n",
       "      <th>3</th>\n",
       "      <td>Web Dev</td>\n",
       "      <td>Web Dev</td>\n",
       "      <td>False</td>\n",
       "    </tr>\n",
       "    <tr>\n",
       "      <th>4</th>\n",
       "      <td>Web Dev</td>\n",
       "      <td>Data Science</td>\n",
       "      <td>False</td>\n",
       "    </tr>\n",
       "  </tbody>\n",
       "</table>\n",
       "</div>"
      ],
      "text/plain": [
       "  first_billboard second_billboard   both\n",
       "0         Web Dev          Web Dev  False\n",
       "1         Web Dev          Web Dev  False\n",
       "2         Web Dev          Web Dev  False\n",
       "3         Web Dev          Web Dev  False\n",
       "4         Web Dev     Data Science  False"
      ]
     },
     "execution_count": 67,
     "metadata": {},
     "output_type": "execute_result"
    }
   ],
   "source": [
    "df = pd.DataFrame(outcomes)\n",
    "df.columns = [\"first_billboard\", \"second_billboard\"]\n",
    "\n",
    "# both column holds the result of the & operation\n",
    "# comparisons that return a series of boolean can be combined with &, | for \"or\"\n",
    "df[\"both\"] = (df.first_billboard == \"Data Science\") & (df.second_billboard == \"Data Science\")\n",
    "df.head(5)"
   ]
  },
  {
   "cell_type": "code",
   "execution_count": 68,
   "metadata": {},
   "outputs": [
    {
     "data": {
      "text/plain": [
       "'The probabiility of both being Data Science billboards is 0.06317'"
      ]
     },
     "execution_count": 68,
     "metadata": {},
     "output_type": "execute_result"
    }
   ],
   "source": [
    "both = df.both.mean()\n",
    "f\"The probabiility of both being Data Science billboards is {both}\""
   ]
  },
  {
   "cell_type": "code",
   "execution_count": 69,
   "metadata": {},
   "outputs": [
    {
     "data": {
      "text/plain": [
       "False    0.93683\n",
       "True     0.06317\n",
       "Name: both, dtype: float64"
      ]
     },
     "execution_count": 69,
     "metadata": {},
     "output_type": "execute_result"
    }
   ],
   "source": [
    "df.both.value_counts(normalize=True)\n",
    "# DS, DS,\n",
    "# DS, WD\n",
    "# WD, DS\n",
    "# WD, WD"
   ]
  },
  {
   "cell_type": "markdown",
   "metadata": {},
   "source": [
    "## Exercise 4\n",
    "Codeup students buy, on average, 3 poptart packages (+- 1.5) a day from the snack vending machine. \n",
    "\n",
    "If on monday the machine is restocked with 17 poptart packages, how likely is it that I will be able to buy some poptarts on Friday afternoon?\n"
   ]
  },
  {
   "cell_type": "code",
   "execution_count": 78,
   "metadata": {},
   "outputs": [],
   "source": [
    "# Round the poptart values b/c we can't buy fractions of poptarts from a vending machine\n",
    "poptarts = np.round(np.random.normal(3, 1.5, size=(100_000, 5)))"
   ]
  },
  {
   "cell_type": "code",
   "execution_count": 79,
   "metadata": {},
   "outputs": [
    {
     "name": "stdout",
     "output_type": "stream",
     "text": [
      "Standard Deviation is 1.5275069880023464\n",
      "Mean is 3.002098\n"
     ]
    }
   ],
   "source": [
    "print(f\"Standard Deviation is {poptarts.std()}\")\n",
    "print(f\"Mean is {poptarts.mean()}\")"
   ]
  },
  {
   "cell_type": "code",
   "execution_count": 80,
   "metadata": {},
   "outputs": [
    {
     "data": {
      "text/plain": [
       "-4.0"
      ]
     },
     "execution_count": 80,
     "metadata": {},
     "output_type": "execute_result"
    }
   ],
   "source": [
    "poptarts.min()"
   ]
  },
  {
   "cell_type": "code",
   "execution_count": 81,
   "metadata": {},
   "outputs": [
    {
     "data": {
      "text/plain": [
       "array([2., 4., 2., 5., 2.])"
      ]
     },
     "execution_count": 81,
     "metadata": {},
     "output_type": "execute_result"
    }
   ],
   "source": [
    "# First week's poptart consumption. \n",
    "# Each row simulates a week\n",
    "poptarts[0]"
   ]
  },
  {
   "cell_type": "code",
   "execution_count": 82,
   "metadata": {},
   "outputs": [
    {
     "data": {
      "text/plain": [
       "array([15., 12., 15., ..., 21., 13., 13.])"
      ]
     },
     "execution_count": 82,
     "metadata": {},
     "output_type": "execute_result"
    }
   ],
   "source": [
    "# .sum(axis=1) sums up each row which means the total of poptarts purchased that week\n",
    "weekly_demand = poptarts.sum(axis=1)\n",
    "weekly_demand"
   ]
  },
  {
   "cell_type": "code",
   "execution_count": 83,
   "metadata": {},
   "outputs": [
    {
     "data": {
      "text/plain": [
       "0.6686"
      ]
     },
     "execution_count": 83,
     "metadata": {},
     "output_type": "execute_result"
    }
   ],
   "source": [
    "# how many weeks have less demand than 17 poptarts\n",
    "(weekly_demand < 17).mean()"
   ]
  },
  {
   "cell_type": "code",
   "execution_count": null,
   "metadata": {},
   "outputs": [],
   "source": []
  },
  {
   "cell_type": "markdown",
   "metadata": {},
   "source": [
    "## Exercise 5\n",
    "\n",
    "#### Compare Heights\n",
    "\n",
    "- Men have an average height of 178 cm and standard deviation of 8cm.\n",
    "- Women have a mean of 170, sd = 6cm.\n",
    "- If a man and woman are chosen at random, P(woman taller than man)?\n"
   ]
  },
  {
   "cell_type": "code",
   "execution_count": 84,
   "metadata": {},
   "outputs": [],
   "source": [
    "trials = 100_000\n",
    "m_heights = np.random.normal(178, 8, trials)\n",
    "f_heights = np.random.normal(170, 6, trials)"
   ]
  },
  {
   "cell_type": "code",
   "execution_count": 86,
   "metadata": {},
   "outputs": [
    {
     "data": {
      "text/plain": [
       "array([169.95369631, 167.74097689, 167.12177522, ..., 178.08216366,\n",
       "       180.94570101, 179.00590344])"
      ]
     },
     "execution_count": 86,
     "metadata": {},
     "output_type": "execute_result"
    }
   ],
   "source": [
    "f_heights"
   ]
  },
  {
   "cell_type": "code",
   "execution_count": 89,
   "metadata": {},
   "outputs": [
    {
     "data": {
      "text/plain": [
       "array([False, False, False, ..., False,  True, False])"
      ]
     },
     "execution_count": 89,
     "metadata": {},
     "output_type": "execute_result"
    }
   ],
   "source": [
    "(m_heights < f_heights)"
   ]
  },
  {
   "cell_type": "code",
   "execution_count": 91,
   "metadata": {},
   "outputs": [
    {
     "data": {
      "text/plain": [
       "0.21063"
      ]
     },
     "execution_count": 91,
     "metadata": {},
     "output_type": "execute_result"
    }
   ],
   "source": [
    "# p(f_heights > m_heights)\n",
    "(m_heights < f_heights).mean()"
   ]
  },
  {
   "cell_type": "code",
   "execution_count": 94,
   "metadata": {},
   "outputs": [
    {
     "data": {
      "text/plain": [
       "array([False, False, False, ..., False, False, False])"
      ]
     },
     "execution_count": 94,
     "metadata": {},
     "output_type": "execute_result"
    }
   ],
   "source": [
    "# p(m_heights == f_heights)\n",
    "f_heights == m_heights"
   ]
  },
  {
   "cell_type": "markdown",
   "metadata": {},
   "source": [
    "## Exercise 6\n",
    "\n",
    "When installing anaconda on a student's computer, there's a 1 in 250 chance that the download is corrupted and the installation fails\n",
    "\n",
    "- What are the odds that after having 50 students download anaconda, no one has an installation issue? \n",
    "- 100 students?\n",
    "- What is the probability that we observe an installation issue within the first 150 students that download anaconda?\n",
    "- How likely is it that 450 students all download anaconda without an issue?\n",
    "\n",
    "\n"
   ]
  },
  {
   "cell_type": "code",
   "execution_count": 95,
   "metadata": {},
   "outputs": [],
   "source": [
    "trials = 10_000"
   ]
  },
  {
   "cell_type": "code",
   "execution_count": 96,
   "metadata": {},
   "outputs": [
    {
     "data": {
      "text/html": [
       "<div>\n",
       "<style scoped>\n",
       "    .dataframe tbody tr th:only-of-type {\n",
       "        vertical-align: middle;\n",
       "    }\n",
       "\n",
       "    .dataframe tbody tr th {\n",
       "        vertical-align: top;\n",
       "    }\n",
       "\n",
       "    .dataframe thead th {\n",
       "        text-align: right;\n",
       "    }\n",
       "</style>\n",
       "<table border=\"1\" class=\"dataframe\">\n",
       "  <thead>\n",
       "    <tr style=\"text-align: right;\">\n",
       "      <th></th>\n",
       "      <th>0</th>\n",
       "      <th>1</th>\n",
       "      <th>2</th>\n",
       "      <th>3</th>\n",
       "      <th>4</th>\n",
       "      <th>5</th>\n",
       "      <th>6</th>\n",
       "      <th>7</th>\n",
       "      <th>8</th>\n",
       "      <th>9</th>\n",
       "      <th>...</th>\n",
       "      <th>40</th>\n",
       "      <th>41</th>\n",
       "      <th>42</th>\n",
       "      <th>43</th>\n",
       "      <th>44</th>\n",
       "      <th>45</th>\n",
       "      <th>46</th>\n",
       "      <th>47</th>\n",
       "      <th>48</th>\n",
       "      <th>49</th>\n",
       "    </tr>\n",
       "  </thead>\n",
       "  <tbody>\n",
       "    <tr>\n",
       "      <th>0</th>\n",
       "      <td>1</td>\n",
       "      <td>1</td>\n",
       "      <td>1</td>\n",
       "      <td>1</td>\n",
       "      <td>1</td>\n",
       "      <td>1</td>\n",
       "      <td>1</td>\n",
       "      <td>1</td>\n",
       "      <td>1</td>\n",
       "      <td>1</td>\n",
       "      <td>...</td>\n",
       "      <td>1</td>\n",
       "      <td>1</td>\n",
       "      <td>1</td>\n",
       "      <td>1</td>\n",
       "      <td>1</td>\n",
       "      <td>1</td>\n",
       "      <td>1</td>\n",
       "      <td>1</td>\n",
       "      <td>1</td>\n",
       "      <td>1</td>\n",
       "    </tr>\n",
       "    <tr>\n",
       "      <th>1</th>\n",
       "      <td>1</td>\n",
       "      <td>1</td>\n",
       "      <td>1</td>\n",
       "      <td>1</td>\n",
       "      <td>1</td>\n",
       "      <td>1</td>\n",
       "      <td>1</td>\n",
       "      <td>1</td>\n",
       "      <td>1</td>\n",
       "      <td>1</td>\n",
       "      <td>...</td>\n",
       "      <td>1</td>\n",
       "      <td>1</td>\n",
       "      <td>1</td>\n",
       "      <td>1</td>\n",
       "      <td>1</td>\n",
       "      <td>1</td>\n",
       "      <td>1</td>\n",
       "      <td>1</td>\n",
       "      <td>1</td>\n",
       "      <td>1</td>\n",
       "    </tr>\n",
       "    <tr>\n",
       "      <th>2</th>\n",
       "      <td>1</td>\n",
       "      <td>1</td>\n",
       "      <td>1</td>\n",
       "      <td>1</td>\n",
       "      <td>1</td>\n",
       "      <td>1</td>\n",
       "      <td>1</td>\n",
       "      <td>1</td>\n",
       "      <td>1</td>\n",
       "      <td>1</td>\n",
       "      <td>...</td>\n",
       "      <td>1</td>\n",
       "      <td>1</td>\n",
       "      <td>1</td>\n",
       "      <td>1</td>\n",
       "      <td>1</td>\n",
       "      <td>1</td>\n",
       "      <td>1</td>\n",
       "      <td>1</td>\n",
       "      <td>1</td>\n",
       "      <td>1</td>\n",
       "    </tr>\n",
       "    <tr>\n",
       "      <th>3</th>\n",
       "      <td>0</td>\n",
       "      <td>1</td>\n",
       "      <td>1</td>\n",
       "      <td>1</td>\n",
       "      <td>1</td>\n",
       "      <td>1</td>\n",
       "      <td>1</td>\n",
       "      <td>1</td>\n",
       "      <td>1</td>\n",
       "      <td>1</td>\n",
       "      <td>...</td>\n",
       "      <td>1</td>\n",
       "      <td>1</td>\n",
       "      <td>1</td>\n",
       "      <td>1</td>\n",
       "      <td>1</td>\n",
       "      <td>1</td>\n",
       "      <td>1</td>\n",
       "      <td>1</td>\n",
       "      <td>1</td>\n",
       "      <td>1</td>\n",
       "    </tr>\n",
       "    <tr>\n",
       "      <th>4</th>\n",
       "      <td>1</td>\n",
       "      <td>1</td>\n",
       "      <td>1</td>\n",
       "      <td>1</td>\n",
       "      <td>1</td>\n",
       "      <td>1</td>\n",
       "      <td>1</td>\n",
       "      <td>1</td>\n",
       "      <td>1</td>\n",
       "      <td>1</td>\n",
       "      <td>...</td>\n",
       "      <td>1</td>\n",
       "      <td>1</td>\n",
       "      <td>1</td>\n",
       "      <td>1</td>\n",
       "      <td>1</td>\n",
       "      <td>1</td>\n",
       "      <td>1</td>\n",
       "      <td>1</td>\n",
       "      <td>1</td>\n",
       "      <td>1</td>\n",
       "    </tr>\n",
       "  </tbody>\n",
       "</table>\n",
       "<p>5 rows × 50 columns</p>\n",
       "</div>"
      ],
      "text/plain": [
       "   0   1   2   3   4   5   6   7   8   9   ...  40  41  42  43  44  45  46  \\\n",
       "0   1   1   1   1   1   1   1   1   1   1  ...   1   1   1   1   1   1   1   \n",
       "1   1   1   1   1   1   1   1   1   1   1  ...   1   1   1   1   1   1   1   \n",
       "2   1   1   1   1   1   1   1   1   1   1  ...   1   1   1   1   1   1   1   \n",
       "3   0   1   1   1   1   1   1   1   1   1  ...   1   1   1   1   1   1   1   \n",
       "4   1   1   1   1   1   1   1   1   1   1  ...   1   1   1   1   1   1   1   \n",
       "\n",
       "   47  48  49  \n",
       "0   1   1   1  \n",
       "1   1   1   1  \n",
       "2   1   1   1  \n",
       "3   1   1   1  \n",
       "4   1   1   1  \n",
       "\n",
       "[5 rows x 50 columns]"
      ]
     },
     "execution_count": 96,
     "metadata": {},
     "output_type": "execute_result"
    }
   ],
   "source": [
    "students_per_trial = 50\n",
    "\n",
    "# 0 is a fail, 1 is success\n",
    "installs = np.random.choice([0, 1], size=(trials, students_per_trial), p=([1/250, 249/250]))\n",
    "df = pd.DataFrame(installs)\n",
    "df.head()"
   ]
  },
  {
   "cell_type": "code",
   "execution_count": 104,
   "metadata": {},
   "outputs": [
    {
     "data": {
      "text/html": [
       "<div>\n",
       "<style scoped>\n",
       "    .dataframe tbody tr th:only-of-type {\n",
       "        vertical-align: middle;\n",
       "    }\n",
       "\n",
       "    .dataframe tbody tr th {\n",
       "        vertical-align: top;\n",
       "    }\n",
       "\n",
       "    .dataframe thead th {\n",
       "        text-align: right;\n",
       "    }\n",
       "</style>\n",
       "<table border=\"1\" class=\"dataframe\">\n",
       "  <thead>\n",
       "    <tr style=\"text-align: right;\">\n",
       "      <th></th>\n",
       "      <th>0</th>\n",
       "      <th>1</th>\n",
       "      <th>2</th>\n",
       "      <th>3</th>\n",
       "    </tr>\n",
       "  </thead>\n",
       "  <tbody>\n",
       "    <tr>\n",
       "      <th>0</th>\n",
       "      <td>1</td>\n",
       "      <td>1</td>\n",
       "      <td>1</td>\n",
       "      <td>1</td>\n",
       "    </tr>\n",
       "    <tr>\n",
       "      <th>1</th>\n",
       "      <td>1</td>\n",
       "      <td>1</td>\n",
       "      <td>1</td>\n",
       "      <td>1</td>\n",
       "    </tr>\n",
       "  </tbody>\n",
       "</table>\n",
       "</div>"
      ],
      "text/plain": [
       "   0  1  2  3\n",
       "0  1  1  1  1\n",
       "1  1  1  1  1"
      ]
     },
     "execution_count": 104,
     "metadata": {},
     "output_type": "execute_result"
    }
   ],
   "source": [
    "# integer location\n",
    "# .iloc[rows, columns]\n",
    "# rows 1 and 2, column 0 through 4\n",
    "df.iloc[0:2, 0:4]"
   ]
  },
  {
   "cell_type": "code",
   "execution_count": 106,
   "metadata": {},
   "outputs": [
    {
     "data": {
      "text/html": [
       "<div>\n",
       "<style scoped>\n",
       "    .dataframe tbody tr th:only-of-type {\n",
       "        vertical-align: middle;\n",
       "    }\n",
       "\n",
       "    .dataframe tbody tr th {\n",
       "        vertical-align: top;\n",
       "    }\n",
       "\n",
       "    .dataframe thead th {\n",
       "        text-align: right;\n",
       "    }\n",
       "</style>\n",
       "<table border=\"1\" class=\"dataframe\">\n",
       "  <thead>\n",
       "    <tr style=\"text-align: right;\">\n",
       "      <th></th>\n",
       "      <th>0</th>\n",
       "      <th>1</th>\n",
       "      <th>2</th>\n",
       "      <th>3</th>\n",
       "      <th>4</th>\n",
       "      <th>5</th>\n",
       "      <th>6</th>\n",
       "      <th>7</th>\n",
       "      <th>8</th>\n",
       "      <th>9</th>\n",
       "      <th>...</th>\n",
       "      <th>41</th>\n",
       "      <th>42</th>\n",
       "      <th>43</th>\n",
       "      <th>44</th>\n",
       "      <th>45</th>\n",
       "      <th>46</th>\n",
       "      <th>47</th>\n",
       "      <th>48</th>\n",
       "      <th>49</th>\n",
       "      <th>all_good</th>\n",
       "    </tr>\n",
       "  </thead>\n",
       "  <tbody>\n",
       "    <tr>\n",
       "      <th>0</th>\n",
       "      <td>1</td>\n",
       "      <td>1</td>\n",
       "      <td>1</td>\n",
       "      <td>1</td>\n",
       "      <td>1</td>\n",
       "      <td>1</td>\n",
       "      <td>1</td>\n",
       "      <td>1</td>\n",
       "      <td>1</td>\n",
       "      <td>1</td>\n",
       "      <td>...</td>\n",
       "      <td>1</td>\n",
       "      <td>1</td>\n",
       "      <td>1</td>\n",
       "      <td>1</td>\n",
       "      <td>1</td>\n",
       "      <td>1</td>\n",
       "      <td>1</td>\n",
       "      <td>1</td>\n",
       "      <td>1</td>\n",
       "      <td>True</td>\n",
       "    </tr>\n",
       "    <tr>\n",
       "      <th>1</th>\n",
       "      <td>1</td>\n",
       "      <td>1</td>\n",
       "      <td>1</td>\n",
       "      <td>1</td>\n",
       "      <td>1</td>\n",
       "      <td>1</td>\n",
       "      <td>1</td>\n",
       "      <td>1</td>\n",
       "      <td>1</td>\n",
       "      <td>1</td>\n",
       "      <td>...</td>\n",
       "      <td>1</td>\n",
       "      <td>1</td>\n",
       "      <td>1</td>\n",
       "      <td>1</td>\n",
       "      <td>1</td>\n",
       "      <td>1</td>\n",
       "      <td>1</td>\n",
       "      <td>1</td>\n",
       "      <td>1</td>\n",
       "      <td>True</td>\n",
       "    </tr>\n",
       "    <tr>\n",
       "      <th>2</th>\n",
       "      <td>1</td>\n",
       "      <td>1</td>\n",
       "      <td>1</td>\n",
       "      <td>1</td>\n",
       "      <td>1</td>\n",
       "      <td>1</td>\n",
       "      <td>1</td>\n",
       "      <td>1</td>\n",
       "      <td>1</td>\n",
       "      <td>1</td>\n",
       "      <td>...</td>\n",
       "      <td>1</td>\n",
       "      <td>1</td>\n",
       "      <td>1</td>\n",
       "      <td>1</td>\n",
       "      <td>1</td>\n",
       "      <td>1</td>\n",
       "      <td>1</td>\n",
       "      <td>1</td>\n",
       "      <td>1</td>\n",
       "      <td>True</td>\n",
       "    </tr>\n",
       "    <tr>\n",
       "      <th>3</th>\n",
       "      <td>0</td>\n",
       "      <td>1</td>\n",
       "      <td>1</td>\n",
       "      <td>1</td>\n",
       "      <td>1</td>\n",
       "      <td>1</td>\n",
       "      <td>1</td>\n",
       "      <td>1</td>\n",
       "      <td>1</td>\n",
       "      <td>1</td>\n",
       "      <td>...</td>\n",
       "      <td>1</td>\n",
       "      <td>1</td>\n",
       "      <td>1</td>\n",
       "      <td>1</td>\n",
       "      <td>1</td>\n",
       "      <td>1</td>\n",
       "      <td>1</td>\n",
       "      <td>1</td>\n",
       "      <td>1</td>\n",
       "      <td>False</td>\n",
       "    </tr>\n",
       "    <tr>\n",
       "      <th>4</th>\n",
       "      <td>1</td>\n",
       "      <td>1</td>\n",
       "      <td>1</td>\n",
       "      <td>1</td>\n",
       "      <td>1</td>\n",
       "      <td>1</td>\n",
       "      <td>1</td>\n",
       "      <td>1</td>\n",
       "      <td>1</td>\n",
       "      <td>1</td>\n",
       "      <td>...</td>\n",
       "      <td>1</td>\n",
       "      <td>1</td>\n",
       "      <td>1</td>\n",
       "      <td>1</td>\n",
       "      <td>1</td>\n",
       "      <td>1</td>\n",
       "      <td>1</td>\n",
       "      <td>1</td>\n",
       "      <td>1</td>\n",
       "      <td>True</td>\n",
       "    </tr>\n",
       "  </tbody>\n",
       "</table>\n",
       "<p>5 rows × 51 columns</p>\n",
       "</div>"
      ],
      "text/plain": [
       "   0  1  2  3  4  5  6  7  8  9  ...  41  42  43  44  45  46  47  48  49  \\\n",
       "0  1  1  1  1  1  1  1  1  1  1  ...   1   1   1   1   1   1   1   1   1   \n",
       "1  1  1  1  1  1  1  1  1  1  1  ...   1   1   1   1   1   1   1   1   1   \n",
       "2  1  1  1  1  1  1  1  1  1  1  ...   1   1   1   1   1   1   1   1   1   \n",
       "3  0  1  1  1  1  1  1  1  1  1  ...   1   1   1   1   1   1   1   1   1   \n",
       "4  1  1  1  1  1  1  1  1  1  1  ...   1   1   1   1   1   1   1   1   1   \n",
       "\n",
       "   all_good  \n",
       "0      True  \n",
       "1      True  \n",
       "2      True  \n",
       "3     False  \n",
       "4      True  \n",
       "\n",
       "[5 rows x 51 columns]"
      ]
     },
     "execution_count": 106,
     "metadata": {},
     "output_type": "execute_result"
    }
   ],
   "source": [
    "df[\"all_good\"] = df.sum(axis=1) == students_per_trial\n",
    "df.head()"
   ]
  },
  {
   "cell_type": "code",
   "execution_count": 107,
   "metadata": {},
   "outputs": [
    {
     "data": {
      "text/plain": [
       "0.8213"
      ]
     },
     "execution_count": 107,
     "metadata": {},
     "output_type": "execute_result"
    }
   ],
   "source": [
    "df.all_good.mean()"
   ]
  },
  {
   "cell_type": "code",
   "execution_count": 109,
   "metadata": {},
   "outputs": [
    {
     "data": {
      "text/plain": [
       "0.6674"
      ]
     },
     "execution_count": 109,
     "metadata": {},
     "output_type": "execute_result"
    }
   ],
   "source": [
    "students_per_trial = 100\n",
    "\n",
    "installs = np.random.choice([0, 1], size=(trials, students_per_trial), p=([1/250, 249/250]))\n",
    "df = pd.DataFrame(installs)\n",
    "df[\"all_good\"] = df.sum(axis=1) == students_per_trial\n",
    "df.all_good.mean()"
   ]
  },
  {
   "cell_type": "code",
   "execution_count": 121,
   "metadata": {},
   "outputs": [
    {
     "data": {
      "text/plain": [
       "'Average rate of any failure on installs in 150 is 0.4477'"
      ]
     },
     "execution_count": 121,
     "metadata": {},
     "output_type": "execute_result"
    }
   ],
   "source": [
    "# What is the probability that we observe an installation issue\n",
    "# within the first 150 students that download anaconda?\n",
    "students_per_trial = 150\n",
    "\n",
    "installs = np.random.choice([0, 1], size=(trials, students_per_trial), p=([1/250, 249/250]))\n",
    "df = pd.DataFrame(installs)\n",
    "df[\"failures\"] = df.sum(axis=1) < students_per_trial\n",
    "\n",
    "f\"Average rate of any failure on installs in 150 is {df.failures.mean()}\""
   ]
  },
  {
   "cell_type": "code",
   "execution_count": 122,
   "metadata": {},
   "outputs": [
    {
     "data": {
      "text/plain": [
       "0.1644"
      ]
     },
     "execution_count": 122,
     "metadata": {},
     "output_type": "execute_result"
    }
   ],
   "source": [
    "students_per_trial = 450\n",
    "\n",
    "installs = np.random.choice([0, 1], size=(trials, students_per_trial), p=([1/250, 249/250]))\n",
    "df = pd.DataFrame(installs)\n",
    "df[\"all_good\"] = df.sum(axis=1) == students_per_trial\n",
    "df.all_good.mean()"
   ]
  },
  {
   "cell_type": "markdown",
   "metadata": {},
   "source": [
    "## Exercise 7\n",
    "\n",
    "- There's a 70% chance on any given day that there will be at least one food truck at Travis Park. \n",
    "- However, you haven't seen a food truck there in 3 days. \n",
    "- How unlikely is this?\n",
    "\n"
   ]
  },
  {
   "cell_type": "code",
   "execution_count": 124,
   "metadata": {},
   "outputs": [
    {
     "data": {
      "text/html": [
       "<div>\n",
       "<style scoped>\n",
       "    .dataframe tbody tr th:only-of-type {\n",
       "        vertical-align: middle;\n",
       "    }\n",
       "\n",
       "    .dataframe tbody tr th {\n",
       "        vertical-align: top;\n",
       "    }\n",
       "\n",
       "    .dataframe thead th {\n",
       "        text-align: right;\n",
       "    }\n",
       "</style>\n",
       "<table border=\"1\" class=\"dataframe\">\n",
       "  <thead>\n",
       "    <tr style=\"text-align: right;\">\n",
       "      <th></th>\n",
       "      <th>day_1</th>\n",
       "      <th>day_2</th>\n",
       "      <th>day_3</th>\n",
       "    </tr>\n",
       "  </thead>\n",
       "  <tbody>\n",
       "    <tr>\n",
       "      <th>0</th>\n",
       "      <td>1</td>\n",
       "      <td>1</td>\n",
       "      <td>1</td>\n",
       "    </tr>\n",
       "    <tr>\n",
       "      <th>1</th>\n",
       "      <td>0</td>\n",
       "      <td>0</td>\n",
       "      <td>0</td>\n",
       "    </tr>\n",
       "    <tr>\n",
       "      <th>2</th>\n",
       "      <td>1</td>\n",
       "      <td>0</td>\n",
       "      <td>1</td>\n",
       "    </tr>\n",
       "    <tr>\n",
       "      <th>3</th>\n",
       "      <td>1</td>\n",
       "      <td>1</td>\n",
       "      <td>0</td>\n",
       "    </tr>\n",
       "    <tr>\n",
       "      <th>4</th>\n",
       "      <td>1</td>\n",
       "      <td>1</td>\n",
       "      <td>1</td>\n",
       "    </tr>\n",
       "    <tr>\n",
       "      <th>...</th>\n",
       "      <td>...</td>\n",
       "      <td>...</td>\n",
       "      <td>...</td>\n",
       "    </tr>\n",
       "    <tr>\n",
       "      <th>99995</th>\n",
       "      <td>1</td>\n",
       "      <td>1</td>\n",
       "      <td>0</td>\n",
       "    </tr>\n",
       "    <tr>\n",
       "      <th>99996</th>\n",
       "      <td>0</td>\n",
       "      <td>0</td>\n",
       "      <td>1</td>\n",
       "    </tr>\n",
       "    <tr>\n",
       "      <th>99997</th>\n",
       "      <td>1</td>\n",
       "      <td>1</td>\n",
       "      <td>1</td>\n",
       "    </tr>\n",
       "    <tr>\n",
       "      <th>99998</th>\n",
       "      <td>1</td>\n",
       "      <td>1</td>\n",
       "      <td>1</td>\n",
       "    </tr>\n",
       "    <tr>\n",
       "      <th>99999</th>\n",
       "      <td>0</td>\n",
       "      <td>1</td>\n",
       "      <td>1</td>\n",
       "    </tr>\n",
       "  </tbody>\n",
       "</table>\n",
       "<p>100000 rows × 3 columns</p>\n",
       "</div>"
      ],
      "text/plain": [
       "       day_1  day_2  day_3\n",
       "0          1      1      1\n",
       "1          0      0      0\n",
       "2          1      0      1\n",
       "3          1      1      0\n",
       "4          1      1      1\n",
       "...      ...    ...    ...\n",
       "99995      1      1      0\n",
       "99996      0      0      1\n",
       "99997      1      1      1\n",
       "99998      1      1      1\n",
       "99999      0      1      1\n",
       "\n",
       "[100000 rows x 3 columns]"
      ]
     },
     "execution_count": 124,
     "metadata": {},
     "output_type": "execute_result"
    }
   ],
   "source": [
    "# 1 is a truck, 0 is no truck\n",
    "trucks = np.random.choice([1, 0], p=[.7, .3], size=(100_000, 3))\n",
    "df = pd.DataFrame(trucks)\n",
    "df.columns = [\"day_1\", \"day_2\", \"day_3\"]\n",
    "df"
   ]
  },
  {
   "cell_type": "code",
   "execution_count": 127,
   "metadata": {},
   "outputs": [
    {
     "data": {
      "text/plain": [
       "0.027"
      ]
     },
     "execution_count": 127,
     "metadata": {},
     "output_type": "execute_result"
    }
   ],
   "source": [
    "# Theoretical probability of seeing no food trucks across 3 days\n",
    ".3 * .3 * .3"
   ]
  },
  {
   "cell_type": "code",
   "execution_count": 126,
   "metadata": {},
   "outputs": [
    {
     "data": {
      "text/plain": [
       "0.02691"
      ]
     },
     "execution_count": 126,
     "metadata": {},
     "output_type": "execute_result"
    }
   ],
   "source": [
    "df[\"appearances\"] = df.day_1 + df.day_2 + df.day_3\n",
    "(df.appearances == 0).mean()"
   ]
  },
  {
   "cell_type": "code",
   "execution_count": 128,
   "metadata": {},
   "outputs": [
    {
     "data": {
      "text/html": [
       "<div>\n",
       "<style scoped>\n",
       "    .dataframe tbody tr th:only-of-type {\n",
       "        vertical-align: middle;\n",
       "    }\n",
       "\n",
       "    .dataframe tbody tr th {\n",
       "        vertical-align: top;\n",
       "    }\n",
       "\n",
       "    .dataframe thead th {\n",
       "        text-align: right;\n",
       "    }\n",
       "</style>\n",
       "<table border=\"1\" class=\"dataframe\">\n",
       "  <thead>\n",
       "    <tr style=\"text-align: right;\">\n",
       "      <th></th>\n",
       "      <th>0</th>\n",
       "      <th>1</th>\n",
       "      <th>2</th>\n",
       "      <th>3</th>\n",
       "      <th>4</th>\n",
       "      <th>5</th>\n",
       "      <th>6</th>\n",
       "      <th>appearances</th>\n",
       "    </tr>\n",
       "  </thead>\n",
       "  <tbody>\n",
       "    <tr>\n",
       "      <th>0</th>\n",
       "      <td>1</td>\n",
       "      <td>1</td>\n",
       "      <td>1</td>\n",
       "      <td>1</td>\n",
       "      <td>0</td>\n",
       "      <td>1</td>\n",
       "      <td>1</td>\n",
       "      <td>6</td>\n",
       "    </tr>\n",
       "    <tr>\n",
       "      <th>1</th>\n",
       "      <td>1</td>\n",
       "      <td>1</td>\n",
       "      <td>1</td>\n",
       "      <td>0</td>\n",
       "      <td>1</td>\n",
       "      <td>0</td>\n",
       "      <td>1</td>\n",
       "      <td>5</td>\n",
       "    </tr>\n",
       "    <tr>\n",
       "      <th>2</th>\n",
       "      <td>0</td>\n",
       "      <td>0</td>\n",
       "      <td>1</td>\n",
       "      <td>1</td>\n",
       "      <td>1</td>\n",
       "      <td>1</td>\n",
       "      <td>1</td>\n",
       "      <td>5</td>\n",
       "    </tr>\n",
       "    <tr>\n",
       "      <th>3</th>\n",
       "      <td>1</td>\n",
       "      <td>0</td>\n",
       "      <td>1</td>\n",
       "      <td>1</td>\n",
       "      <td>1</td>\n",
       "      <td>1</td>\n",
       "      <td>1</td>\n",
       "      <td>6</td>\n",
       "    </tr>\n",
       "    <tr>\n",
       "      <th>4</th>\n",
       "      <td>0</td>\n",
       "      <td>1</td>\n",
       "      <td>1</td>\n",
       "      <td>0</td>\n",
       "      <td>1</td>\n",
       "      <td>1</td>\n",
       "      <td>1</td>\n",
       "      <td>5</td>\n",
       "    </tr>\n",
       "  </tbody>\n",
       "</table>\n",
       "</div>"
      ],
      "text/plain": [
       "   0  1  2  3  4  5  6  appearances\n",
       "0  1  1  1  1  0  1  1            6\n",
       "1  1  1  1  0  1  0  1            5\n",
       "2  0  0  1  1  1  1  1            5\n",
       "3  1  0  1  1  1  1  1            6\n",
       "4  0  1  1  0  1  1  1            5"
      ]
     },
     "execution_count": 128,
     "metadata": {},
     "output_type": "execute_result"
    }
   ],
   "source": [
    "# How likely is it that a food truck will show up sometime this week?\n",
    "\n",
    "trucks = np.random.choice([1, 0], p=[.7, .3], size=(100_000, 7))\n",
    "df = pd.DataFrame(trucks)\n",
    "df[\"appearances\"] = df.sum(axis=1) # sum values across the rows\n",
    "df.head()"
   ]
  },
  {
   "cell_type": "code",
   "execution_count": 129,
   "metadata": {},
   "outputs": [
    {
     "data": {
      "text/plain": [
       "0.99981"
      ]
     },
     "execution_count": 129,
     "metadata": {},
     "output_type": "execute_result"
    }
   ],
   "source": [
    "(df.appearances > 0).mean()"
   ]
  },
  {
   "cell_type": "markdown",
   "metadata": {},
   "source": [
    "## If 23 people are in the same room, what are the odds that two of them share a birthday? What if it's 20 people? 40?"
   ]
  },
  {
   "cell_type": "code",
   "execution_count": 36,
   "metadata": {},
   "outputs": [
    {
     "data": {
      "text/html": [
       "<div>\n",
       "<style scoped>\n",
       "    .dataframe tbody tr th:only-of-type {\n",
       "        vertical-align: middle;\n",
       "    }\n",
       "\n",
       "    .dataframe tbody tr th {\n",
       "        vertical-align: top;\n",
       "    }\n",
       "\n",
       "    .dataframe thead th {\n",
       "        text-align: right;\n",
       "    }\n",
       "</style>\n",
       "<table border=\"1\" class=\"dataframe\">\n",
       "  <thead>\n",
       "    <tr style=\"text-align: right;\">\n",
       "      <th></th>\n",
       "      <th>0</th>\n",
       "      <th>1</th>\n",
       "      <th>2</th>\n",
       "      <th>3</th>\n",
       "      <th>4</th>\n",
       "      <th>5</th>\n",
       "      <th>6</th>\n",
       "      <th>7</th>\n",
       "      <th>8</th>\n",
       "      <th>9</th>\n",
       "      <th>...</th>\n",
       "      <th>13</th>\n",
       "      <th>14</th>\n",
       "      <th>15</th>\n",
       "      <th>16</th>\n",
       "      <th>17</th>\n",
       "      <th>18</th>\n",
       "      <th>19</th>\n",
       "      <th>20</th>\n",
       "      <th>21</th>\n",
       "      <th>22</th>\n",
       "    </tr>\n",
       "  </thead>\n",
       "  <tbody>\n",
       "    <tr>\n",
       "      <th>0</th>\n",
       "      <td>307</td>\n",
       "      <td>277</td>\n",
       "      <td>131</td>\n",
       "      <td>252</td>\n",
       "      <td>175</td>\n",
       "      <td>249</td>\n",
       "      <td>337</td>\n",
       "      <td>114</td>\n",
       "      <td>345</td>\n",
       "      <td>59</td>\n",
       "      <td>...</td>\n",
       "      <td>129</td>\n",
       "      <td>220</td>\n",
       "      <td>334</td>\n",
       "      <td>209</td>\n",
       "      <td>139</td>\n",
       "      <td>12</td>\n",
       "      <td>354</td>\n",
       "      <td>314</td>\n",
       "      <td>312</td>\n",
       "      <td>300</td>\n",
       "    </tr>\n",
       "    <tr>\n",
       "      <th>1</th>\n",
       "      <td>151</td>\n",
       "      <td>312</td>\n",
       "      <td>205</td>\n",
       "      <td>153</td>\n",
       "      <td>360</td>\n",
       "      <td>201</td>\n",
       "      <td>220</td>\n",
       "      <td>357</td>\n",
       "      <td>210</td>\n",
       "      <td>21</td>\n",
       "      <td>...</td>\n",
       "      <td>30</td>\n",
       "      <td>61</td>\n",
       "      <td>50</td>\n",
       "      <td>135</td>\n",
       "      <td>0</td>\n",
       "      <td>17</td>\n",
       "      <td>222</td>\n",
       "      <td>16</td>\n",
       "      <td>297</td>\n",
       "      <td>288</td>\n",
       "    </tr>\n",
       "    <tr>\n",
       "      <th>2</th>\n",
       "      <td>18</td>\n",
       "      <td>85</td>\n",
       "      <td>79</td>\n",
       "      <td>336</td>\n",
       "      <td>168</td>\n",
       "      <td>80</td>\n",
       "      <td>96</td>\n",
       "      <td>76</td>\n",
       "      <td>235</td>\n",
       "      <td>215</td>\n",
       "      <td>...</td>\n",
       "      <td>103</td>\n",
       "      <td>152</td>\n",
       "      <td>213</td>\n",
       "      <td>54</td>\n",
       "      <td>310</td>\n",
       "      <td>60</td>\n",
       "      <td>75</td>\n",
       "      <td>287</td>\n",
       "      <td>217</td>\n",
       "      <td>198</td>\n",
       "    </tr>\n",
       "    <tr>\n",
       "      <th>3</th>\n",
       "      <td>358</td>\n",
       "      <td>340</td>\n",
       "      <td>268</td>\n",
       "      <td>143</td>\n",
       "      <td>215</td>\n",
       "      <td>354</td>\n",
       "      <td>288</td>\n",
       "      <td>219</td>\n",
       "      <td>63</td>\n",
       "      <td>274</td>\n",
       "      <td>...</td>\n",
       "      <td>47</td>\n",
       "      <td>167</td>\n",
       "      <td>176</td>\n",
       "      <td>270</td>\n",
       "      <td>330</td>\n",
       "      <td>246</td>\n",
       "      <td>46</td>\n",
       "      <td>62</td>\n",
       "      <td>346</td>\n",
       "      <td>111</td>\n",
       "    </tr>\n",
       "    <tr>\n",
       "      <th>4</th>\n",
       "      <td>344</td>\n",
       "      <td>91</td>\n",
       "      <td>157</td>\n",
       "      <td>173</td>\n",
       "      <td>75</td>\n",
       "      <td>222</td>\n",
       "      <td>304</td>\n",
       "      <td>62</td>\n",
       "      <td>189</td>\n",
       "      <td>353</td>\n",
       "      <td>...</td>\n",
       "      <td>242</td>\n",
       "      <td>232</td>\n",
       "      <td>140</td>\n",
       "      <td>117</td>\n",
       "      <td>173</td>\n",
       "      <td>337</td>\n",
       "      <td>208</td>\n",
       "      <td>236</td>\n",
       "      <td>285</td>\n",
       "      <td>21</td>\n",
       "    </tr>\n",
       "    <tr>\n",
       "      <th>...</th>\n",
       "      <td>...</td>\n",
       "      <td>...</td>\n",
       "      <td>...</td>\n",
       "      <td>...</td>\n",
       "      <td>...</td>\n",
       "      <td>...</td>\n",
       "      <td>...</td>\n",
       "      <td>...</td>\n",
       "      <td>...</td>\n",
       "      <td>...</td>\n",
       "      <td>...</td>\n",
       "      <td>...</td>\n",
       "      <td>...</td>\n",
       "      <td>...</td>\n",
       "      <td>...</td>\n",
       "      <td>...</td>\n",
       "      <td>...</td>\n",
       "      <td>...</td>\n",
       "      <td>...</td>\n",
       "      <td>...</td>\n",
       "      <td>...</td>\n",
       "    </tr>\n",
       "    <tr>\n",
       "      <th>9995</th>\n",
       "      <td>354</td>\n",
       "      <td>191</td>\n",
       "      <td>202</td>\n",
       "      <td>40</td>\n",
       "      <td>136</td>\n",
       "      <td>155</td>\n",
       "      <td>317</td>\n",
       "      <td>6</td>\n",
       "      <td>359</td>\n",
       "      <td>320</td>\n",
       "      <td>...</td>\n",
       "      <td>330</td>\n",
       "      <td>128</td>\n",
       "      <td>111</td>\n",
       "      <td>150</td>\n",
       "      <td>44</td>\n",
       "      <td>180</td>\n",
       "      <td>123</td>\n",
       "      <td>363</td>\n",
       "      <td>71</td>\n",
       "      <td>85</td>\n",
       "    </tr>\n",
       "    <tr>\n",
       "      <th>9996</th>\n",
       "      <td>182</td>\n",
       "      <td>181</td>\n",
       "      <td>29</td>\n",
       "      <td>80</td>\n",
       "      <td>362</td>\n",
       "      <td>156</td>\n",
       "      <td>294</td>\n",
       "      <td>240</td>\n",
       "      <td>323</td>\n",
       "      <td>216</td>\n",
       "      <td>...</td>\n",
       "      <td>59</td>\n",
       "      <td>123</td>\n",
       "      <td>303</td>\n",
       "      <td>346</td>\n",
       "      <td>93</td>\n",
       "      <td>75</td>\n",
       "      <td>0</td>\n",
       "      <td>239</td>\n",
       "      <td>309</td>\n",
       "      <td>232</td>\n",
       "    </tr>\n",
       "    <tr>\n",
       "      <th>9997</th>\n",
       "      <td>5</td>\n",
       "      <td>360</td>\n",
       "      <td>80</td>\n",
       "      <td>90</td>\n",
       "      <td>104</td>\n",
       "      <td>1</td>\n",
       "      <td>224</td>\n",
       "      <td>49</td>\n",
       "      <td>306</td>\n",
       "      <td>202</td>\n",
       "      <td>...</td>\n",
       "      <td>271</td>\n",
       "      <td>347</td>\n",
       "      <td>153</td>\n",
       "      <td>127</td>\n",
       "      <td>171</td>\n",
       "      <td>253</td>\n",
       "      <td>103</td>\n",
       "      <td>254</td>\n",
       "      <td>62</td>\n",
       "      <td>31</td>\n",
       "    </tr>\n",
       "    <tr>\n",
       "      <th>9998</th>\n",
       "      <td>69</td>\n",
       "      <td>111</td>\n",
       "      <td>272</td>\n",
       "      <td>93</td>\n",
       "      <td>75</td>\n",
       "      <td>211</td>\n",
       "      <td>323</td>\n",
       "      <td>151</td>\n",
       "      <td>264</td>\n",
       "      <td>115</td>\n",
       "      <td>...</td>\n",
       "      <td>158</td>\n",
       "      <td>69</td>\n",
       "      <td>195</td>\n",
       "      <td>97</td>\n",
       "      <td>198</td>\n",
       "      <td>173</td>\n",
       "      <td>202</td>\n",
       "      <td>20</td>\n",
       "      <td>246</td>\n",
       "      <td>35</td>\n",
       "    </tr>\n",
       "    <tr>\n",
       "      <th>9999</th>\n",
       "      <td>334</td>\n",
       "      <td>271</td>\n",
       "      <td>215</td>\n",
       "      <td>24</td>\n",
       "      <td>68</td>\n",
       "      <td>37</td>\n",
       "      <td>301</td>\n",
       "      <td>342</td>\n",
       "      <td>109</td>\n",
       "      <td>224</td>\n",
       "      <td>...</td>\n",
       "      <td>64</td>\n",
       "      <td>75</td>\n",
       "      <td>317</td>\n",
       "      <td>24</td>\n",
       "      <td>196</td>\n",
       "      <td>293</td>\n",
       "      <td>21</td>\n",
       "      <td>6</td>\n",
       "      <td>198</td>\n",
       "      <td>1</td>\n",
       "    </tr>\n",
       "  </tbody>\n",
       "</table>\n",
       "<p>10000 rows × 23 columns</p>\n",
       "</div>"
      ],
      "text/plain": [
       "       0    1    2    3    4    5    6    7    8    9   ...   13   14   15  \\\n",
       "0     307  277  131  252  175  249  337  114  345   59  ...  129  220  334   \n",
       "1     151  312  205  153  360  201  220  357  210   21  ...   30   61   50   \n",
       "2      18   85   79  336  168   80   96   76  235  215  ...  103  152  213   \n",
       "3     358  340  268  143  215  354  288  219   63  274  ...   47  167  176   \n",
       "4     344   91  157  173   75  222  304   62  189  353  ...  242  232  140   \n",
       "...   ...  ...  ...  ...  ...  ...  ...  ...  ...  ...  ...  ...  ...  ...   \n",
       "9995  354  191  202   40  136  155  317    6  359  320  ...  330  128  111   \n",
       "9996  182  181   29   80  362  156  294  240  323  216  ...   59  123  303   \n",
       "9997    5  360   80   90  104    1  224   49  306  202  ...  271  347  153   \n",
       "9998   69  111  272   93   75  211  323  151  264  115  ...  158   69  195   \n",
       "9999  334  271  215   24   68   37  301  342  109  224  ...   64   75  317   \n",
       "\n",
       "       16   17   18   19   20   21   22  \n",
       "0     209  139   12  354  314  312  300  \n",
       "1     135    0   17  222   16  297  288  \n",
       "2      54  310   60   75  287  217  198  \n",
       "3     270  330  246   46   62  346  111  \n",
       "4     117  173  337  208  236  285   21  \n",
       "...   ...  ...  ...  ...  ...  ...  ...  \n",
       "9995  150   44  180  123  363   71   85  \n",
       "9996  346   93   75    0  239  309  232  \n",
       "9997  127  171  253  103  254   62   31  \n",
       "9998   97  198  173  202   20  246   35  \n",
       "9999   24  196  293   21    6  198    1  \n",
       "\n",
       "[10000 rows x 23 columns]"
      ]
     },
     "execution_count": 36,
     "metadata": {},
     "output_type": "execute_result"
    }
   ],
   "source": [
    "# calculate the odds of two people share a birthday\n",
    "n_simulations = 10_000\n",
    "n_people = 23\n",
    "birthdays = np.random.choice(range(365), size=(n_simulations, n_people))\n",
    "df = pd.DataFrame(birthdays)\n",
    "df"
   ]
  },
  {
   "cell_type": "code",
   "execution_count": 37,
   "metadata": {},
   "outputs": [
    {
     "data": {
      "text/html": [
       "<div>\n",
       "<style scoped>\n",
       "    .dataframe tbody tr th:only-of-type {\n",
       "        vertical-align: middle;\n",
       "    }\n",
       "\n",
       "    .dataframe tbody tr th {\n",
       "        vertical-align: top;\n",
       "    }\n",
       "\n",
       "    .dataframe thead th {\n",
       "        text-align: right;\n",
       "    }\n",
       "</style>\n",
       "<table border=\"1\" class=\"dataframe\">\n",
       "  <thead>\n",
       "    <tr style=\"text-align: right;\">\n",
       "      <th></th>\n",
       "      <th>0</th>\n",
       "      <th>1</th>\n",
       "      <th>2</th>\n",
       "      <th>3</th>\n",
       "      <th>4</th>\n",
       "      <th>5</th>\n",
       "      <th>6</th>\n",
       "      <th>7</th>\n",
       "      <th>8</th>\n",
       "      <th>9</th>\n",
       "      <th>...</th>\n",
       "      <th>14</th>\n",
       "      <th>15</th>\n",
       "      <th>16</th>\n",
       "      <th>17</th>\n",
       "      <th>18</th>\n",
       "      <th>19</th>\n",
       "      <th>20</th>\n",
       "      <th>21</th>\n",
       "      <th>22</th>\n",
       "      <th>n_unique</th>\n",
       "    </tr>\n",
       "  </thead>\n",
       "  <tbody>\n",
       "    <tr>\n",
       "      <th>0</th>\n",
       "      <td>307</td>\n",
       "      <td>277</td>\n",
       "      <td>131</td>\n",
       "      <td>252</td>\n",
       "      <td>175</td>\n",
       "      <td>249</td>\n",
       "      <td>337</td>\n",
       "      <td>114</td>\n",
       "      <td>345</td>\n",
       "      <td>59</td>\n",
       "      <td>...</td>\n",
       "      <td>220</td>\n",
       "      <td>334</td>\n",
       "      <td>209</td>\n",
       "      <td>139</td>\n",
       "      <td>12</td>\n",
       "      <td>354</td>\n",
       "      <td>314</td>\n",
       "      <td>312</td>\n",
       "      <td>300</td>\n",
       "      <td>23</td>\n",
       "    </tr>\n",
       "    <tr>\n",
       "      <th>1</th>\n",
       "      <td>151</td>\n",
       "      <td>312</td>\n",
       "      <td>205</td>\n",
       "      <td>153</td>\n",
       "      <td>360</td>\n",
       "      <td>201</td>\n",
       "      <td>220</td>\n",
       "      <td>357</td>\n",
       "      <td>210</td>\n",
       "      <td>21</td>\n",
       "      <td>...</td>\n",
       "      <td>61</td>\n",
       "      <td>50</td>\n",
       "      <td>135</td>\n",
       "      <td>0</td>\n",
       "      <td>17</td>\n",
       "      <td>222</td>\n",
       "      <td>16</td>\n",
       "      <td>297</td>\n",
       "      <td>288</td>\n",
       "      <td>23</td>\n",
       "    </tr>\n",
       "    <tr>\n",
       "      <th>2</th>\n",
       "      <td>18</td>\n",
       "      <td>85</td>\n",
       "      <td>79</td>\n",
       "      <td>336</td>\n",
       "      <td>168</td>\n",
       "      <td>80</td>\n",
       "      <td>96</td>\n",
       "      <td>76</td>\n",
       "      <td>235</td>\n",
       "      <td>215</td>\n",
       "      <td>...</td>\n",
       "      <td>152</td>\n",
       "      <td>213</td>\n",
       "      <td>54</td>\n",
       "      <td>310</td>\n",
       "      <td>60</td>\n",
       "      <td>75</td>\n",
       "      <td>287</td>\n",
       "      <td>217</td>\n",
       "      <td>198</td>\n",
       "      <td>23</td>\n",
       "    </tr>\n",
       "    <tr>\n",
       "      <th>3</th>\n",
       "      <td>358</td>\n",
       "      <td>340</td>\n",
       "      <td>268</td>\n",
       "      <td>143</td>\n",
       "      <td>215</td>\n",
       "      <td>354</td>\n",
       "      <td>288</td>\n",
       "      <td>219</td>\n",
       "      <td>63</td>\n",
       "      <td>274</td>\n",
       "      <td>...</td>\n",
       "      <td>167</td>\n",
       "      <td>176</td>\n",
       "      <td>270</td>\n",
       "      <td>330</td>\n",
       "      <td>246</td>\n",
       "      <td>46</td>\n",
       "      <td>62</td>\n",
       "      <td>346</td>\n",
       "      <td>111</td>\n",
       "      <td>23</td>\n",
       "    </tr>\n",
       "    <tr>\n",
       "      <th>4</th>\n",
       "      <td>344</td>\n",
       "      <td>91</td>\n",
       "      <td>157</td>\n",
       "      <td>173</td>\n",
       "      <td>75</td>\n",
       "      <td>222</td>\n",
       "      <td>304</td>\n",
       "      <td>62</td>\n",
       "      <td>189</td>\n",
       "      <td>353</td>\n",
       "      <td>...</td>\n",
       "      <td>232</td>\n",
       "      <td>140</td>\n",
       "      <td>117</td>\n",
       "      <td>173</td>\n",
       "      <td>337</td>\n",
       "      <td>208</td>\n",
       "      <td>236</td>\n",
       "      <td>285</td>\n",
       "      <td>21</td>\n",
       "      <td>22</td>\n",
       "    </tr>\n",
       "    <tr>\n",
       "      <th>...</th>\n",
       "      <td>...</td>\n",
       "      <td>...</td>\n",
       "      <td>...</td>\n",
       "      <td>...</td>\n",
       "      <td>...</td>\n",
       "      <td>...</td>\n",
       "      <td>...</td>\n",
       "      <td>...</td>\n",
       "      <td>...</td>\n",
       "      <td>...</td>\n",
       "      <td>...</td>\n",
       "      <td>...</td>\n",
       "      <td>...</td>\n",
       "      <td>...</td>\n",
       "      <td>...</td>\n",
       "      <td>...</td>\n",
       "      <td>...</td>\n",
       "      <td>...</td>\n",
       "      <td>...</td>\n",
       "      <td>...</td>\n",
       "      <td>...</td>\n",
       "    </tr>\n",
       "    <tr>\n",
       "      <th>9995</th>\n",
       "      <td>354</td>\n",
       "      <td>191</td>\n",
       "      <td>202</td>\n",
       "      <td>40</td>\n",
       "      <td>136</td>\n",
       "      <td>155</td>\n",
       "      <td>317</td>\n",
       "      <td>6</td>\n",
       "      <td>359</td>\n",
       "      <td>320</td>\n",
       "      <td>...</td>\n",
       "      <td>128</td>\n",
       "      <td>111</td>\n",
       "      <td>150</td>\n",
       "      <td>44</td>\n",
       "      <td>180</td>\n",
       "      <td>123</td>\n",
       "      <td>363</td>\n",
       "      <td>71</td>\n",
       "      <td>85</td>\n",
       "      <td>23</td>\n",
       "    </tr>\n",
       "    <tr>\n",
       "      <th>9996</th>\n",
       "      <td>182</td>\n",
       "      <td>181</td>\n",
       "      <td>29</td>\n",
       "      <td>80</td>\n",
       "      <td>362</td>\n",
       "      <td>156</td>\n",
       "      <td>294</td>\n",
       "      <td>240</td>\n",
       "      <td>323</td>\n",
       "      <td>216</td>\n",
       "      <td>...</td>\n",
       "      <td>123</td>\n",
       "      <td>303</td>\n",
       "      <td>346</td>\n",
       "      <td>93</td>\n",
       "      <td>75</td>\n",
       "      <td>0</td>\n",
       "      <td>239</td>\n",
       "      <td>309</td>\n",
       "      <td>232</td>\n",
       "      <td>23</td>\n",
       "    </tr>\n",
       "    <tr>\n",
       "      <th>9997</th>\n",
       "      <td>5</td>\n",
       "      <td>360</td>\n",
       "      <td>80</td>\n",
       "      <td>90</td>\n",
       "      <td>104</td>\n",
       "      <td>1</td>\n",
       "      <td>224</td>\n",
       "      <td>49</td>\n",
       "      <td>306</td>\n",
       "      <td>202</td>\n",
       "      <td>...</td>\n",
       "      <td>347</td>\n",
       "      <td>153</td>\n",
       "      <td>127</td>\n",
       "      <td>171</td>\n",
       "      <td>253</td>\n",
       "      <td>103</td>\n",
       "      <td>254</td>\n",
       "      <td>62</td>\n",
       "      <td>31</td>\n",
       "      <td>23</td>\n",
       "    </tr>\n",
       "    <tr>\n",
       "      <th>9998</th>\n",
       "      <td>69</td>\n",
       "      <td>111</td>\n",
       "      <td>272</td>\n",
       "      <td>93</td>\n",
       "      <td>75</td>\n",
       "      <td>211</td>\n",
       "      <td>323</td>\n",
       "      <td>151</td>\n",
       "      <td>264</td>\n",
       "      <td>115</td>\n",
       "      <td>...</td>\n",
       "      <td>69</td>\n",
       "      <td>195</td>\n",
       "      <td>97</td>\n",
       "      <td>198</td>\n",
       "      <td>173</td>\n",
       "      <td>202</td>\n",
       "      <td>20</td>\n",
       "      <td>246</td>\n",
       "      <td>35</td>\n",
       "      <td>22</td>\n",
       "    </tr>\n",
       "    <tr>\n",
       "      <th>9999</th>\n",
       "      <td>334</td>\n",
       "      <td>271</td>\n",
       "      <td>215</td>\n",
       "      <td>24</td>\n",
       "      <td>68</td>\n",
       "      <td>37</td>\n",
       "      <td>301</td>\n",
       "      <td>342</td>\n",
       "      <td>109</td>\n",
       "      <td>224</td>\n",
       "      <td>...</td>\n",
       "      <td>75</td>\n",
       "      <td>317</td>\n",
       "      <td>24</td>\n",
       "      <td>196</td>\n",
       "      <td>293</td>\n",
       "      <td>21</td>\n",
       "      <td>6</td>\n",
       "      <td>198</td>\n",
       "      <td>1</td>\n",
       "      <td>22</td>\n",
       "    </tr>\n",
       "  </tbody>\n",
       "</table>\n",
       "<p>10000 rows × 24 columns</p>\n",
       "</div>"
      ],
      "text/plain": [
       "        0    1    2    3    4    5    6    7    8    9  ...   14   15   16  \\\n",
       "0     307  277  131  252  175  249  337  114  345   59  ...  220  334  209   \n",
       "1     151  312  205  153  360  201  220  357  210   21  ...   61   50  135   \n",
       "2      18   85   79  336  168   80   96   76  235  215  ...  152  213   54   \n",
       "3     358  340  268  143  215  354  288  219   63  274  ...  167  176  270   \n",
       "4     344   91  157  173   75  222  304   62  189  353  ...  232  140  117   \n",
       "...   ...  ...  ...  ...  ...  ...  ...  ...  ...  ...  ...  ...  ...  ...   \n",
       "9995  354  191  202   40  136  155  317    6  359  320  ...  128  111  150   \n",
       "9996  182  181   29   80  362  156  294  240  323  216  ...  123  303  346   \n",
       "9997    5  360   80   90  104    1  224   49  306  202  ...  347  153  127   \n",
       "9998   69  111  272   93   75  211  323  151  264  115  ...   69  195   97   \n",
       "9999  334  271  215   24   68   37  301  342  109  224  ...   75  317   24   \n",
       "\n",
       "       17   18   19   20   21   22  n_unique  \n",
       "0     139   12  354  314  312  300        23  \n",
       "1       0   17  222   16  297  288        23  \n",
       "2     310   60   75  287  217  198        23  \n",
       "3     330  246   46   62  346  111        23  \n",
       "4     173  337  208  236  285   21        22  \n",
       "...   ...  ...  ...  ...  ...  ...       ...  \n",
       "9995   44  180  123  363   71   85        23  \n",
       "9996   93   75    0  239  309  232        23  \n",
       "9997  171  253  103  254   62   31        23  \n",
       "9998  198  173  202   20  246   35        22  \n",
       "9999  196  293   21    6  198    1        22  \n",
       "\n",
       "[10000 rows x 24 columns]"
      ]
     },
     "execution_count": 37,
     "metadata": {},
     "output_type": "execute_result"
    }
   ],
   "source": [
    "# Get the number of unique value sper row\n",
    "df[\"n_unique\"] = df.nunique(axis=1)\n",
    "df"
   ]
  },
  {
   "cell_type": "code",
   "execution_count": null,
   "metadata": {},
   "outputs": [],
   "source": []
  }
 ],
 "metadata": {
  "kernelspec": {
   "display_name": "Python 3",
   "language": "python",
   "name": "python3"
  },
  "language_info": {
   "codemirror_mode": {
    "name": "ipython",
    "version": 3
   },
   "file_extension": ".py",
   "mimetype": "text/x-python",
   "name": "python",
   "nbconvert_exporter": "python",
   "pygments_lexer": "ipython3",
   "version": "3.7.3"
  }
 },
 "nbformat": 4,
 "nbformat_minor": 4
}
