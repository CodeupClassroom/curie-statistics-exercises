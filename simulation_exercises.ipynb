{
 "cells": [
  {
   "cell_type": "code",
   "execution_count": 1,
   "metadata": {},
   "outputs": [],
   "source": [
    "import numpy as np\n",
    "import pandas as pd\n",
    "\n",
    "np.random.seed(42)"
   ]
  },
  {
   "cell_type": "markdown",
   "metadata": {},
   "source": [
    "## Exercise 1\n",
    "- probability(rolling doubles on rolling 2 dice)\n",
    "- p(e) \n",
    "- p(event)\n",
    "- p(rolling doubles on 2 dice)"
   ]
  },
  {
   "cell_type": "code",
   "execution_count": 2,
   "metadata": {},
   "outputs": [
    {
     "data": {
      "text/plain": [
       "array([[4, 5, 3, ..., 4, 1, 4],\n",
       "       [5, 5, 2, ..., 4, 4, 6]])"
      ]
     },
     "execution_count": 2,
     "metadata": {},
     "output_type": "execute_result"
    }
   ],
   "source": [
    "rolls = np.random.choice([1, 2, 3, 4, 5, 6], size=(2, 100_000))\n",
    "rolls"
   ]
  },
  {
   "cell_type": "code",
   "execution_count": 3,
   "metadata": {},
   "outputs": [
    {
     "data": {
      "text/plain": [
       "100000"
      ]
     },
     "execution_count": 3,
     "metadata": {},
     "output_type": "execute_result"
    }
   ],
   "source": [
    "rolls[0].size"
   ]
  },
  {
   "cell_type": "code",
   "execution_count": 4,
   "metadata": {},
   "outputs": [],
   "source": [
    "# In this approach, the array values at each index are the trial, the event of rolling two dice.\n",
    "die1 = rolls[0]\n",
    "die2 = rolls[1]"
   ]
  },
  {
   "cell_type": "code",
   "execution_count": 5,
   "metadata": {},
   "outputs": [
    {
     "name": "stdout",
     "output_type": "stream",
     "text": [
      "5\n",
      "5\n"
     ]
    }
   ],
   "source": [
    "print(die1[1])\n",
    "print(die2[1])"
   ]
  },
  {
   "cell_type": "code",
   "execution_count": 6,
   "metadata": {},
   "outputs": [
    {
     "data": {
      "text/plain": [
       "0.16813"
      ]
     },
     "execution_count": 6,
     "metadata": {},
     "output_type": "execute_result"
    }
   ],
   "source": [
    "# vectorization here is that we don't have to worry about the index\n",
    "(die1 == die2).mean()"
   ]
  },
  {
   "cell_type": "code",
   "execution_count": 7,
   "metadata": {},
   "outputs": [
    {
     "data": {
      "text/html": [
       "<div>\n",
       "<style scoped>\n",
       "    .dataframe tbody tr th:only-of-type {\n",
       "        vertical-align: middle;\n",
       "    }\n",
       "\n",
       "    .dataframe tbody tr th {\n",
       "        vertical-align: top;\n",
       "    }\n",
       "\n",
       "    .dataframe thead th {\n",
       "        text-align: right;\n",
       "    }\n",
       "</style>\n",
       "<table border=\"1\" class=\"dataframe\">\n",
       "  <thead>\n",
       "    <tr style=\"text-align: right;\">\n",
       "      <th></th>\n",
       "      <th>0</th>\n",
       "      <th>1</th>\n",
       "    </tr>\n",
       "  </thead>\n",
       "  <tbody>\n",
       "    <tr>\n",
       "      <th>0</th>\n",
       "      <td>4</td>\n",
       "      <td>5</td>\n",
       "    </tr>\n",
       "    <tr>\n",
       "      <th>1</th>\n",
       "      <td>5</td>\n",
       "      <td>5</td>\n",
       "    </tr>\n",
       "    <tr>\n",
       "      <th>2</th>\n",
       "      <td>3</td>\n",
       "      <td>2</td>\n",
       "    </tr>\n",
       "  </tbody>\n",
       "</table>\n",
       "</div>"
      ],
      "text/plain": [
       "   0  1\n",
       "0  4  5\n",
       "1  5  5\n",
       "2  3  2"
      ]
     },
     "execution_count": 7,
     "metadata": {},
     "output_type": "execute_result"
    }
   ],
   "source": [
    "# a Pandas assisted approach to the same problem\n",
    "rolls = rolls.T # .T means transpose\n",
    "df = pd.DataFrame(rolls)\n",
    "df.head(3)"
   ]
  },
  {
   "cell_type": "code",
   "execution_count": 8,
   "metadata": {},
   "outputs": [
    {
     "data": {
      "text/plain": [
       "0.16813"
      ]
     },
     "execution_count": 8,
     "metadata": {},
     "output_type": "execute_result"
    }
   ],
   "source": [
    "df[\"doubles\"] = df[0] == df[1]\n",
    "df.doubles.mean()"
   ]
  },
  {
   "cell_type": "markdown",
   "metadata": {},
   "source": [
    "## Exercise 2\n",
    "\n",
    "### If you flip 8 coins...\n",
    "- What is the probability of getting exactly 3 heads? \n",
    "- What is the probability of getting more than 3 heads?\n",
    "- trial is flipping 8 coins"
   ]
  },
  {
   "cell_type": "code",
   "execution_count": 9,
   "metadata": {},
   "outputs": [],
   "source": [
    "# If you flip 8 coins\n",
    "# What is the probability of getting exactly 3 heads? \n",
    "# What is the probability of getting more than 3 heads?\n",
    "\n",
    "# Flip 8 coins\n",
    "n_coins = 8\n",
    "\n",
    "# With this many simulations\n",
    "n_simulations = 100_000\n",
    "\n",
    "# Heads is 1 and Tails is 0.\n",
    "# flips = np.random.choice([0, 1], n_simulations * n_coins).reshape(n_simulations, n_coins)\n",
    "flips = np.random.choice([0, 1], size=(n_simulations * n_coins))"
   ]
  },
  {
   "cell_type": "code",
   "execution_count": 10,
   "metadata": {},
   "outputs": [
    {
     "data": {
      "text/plain": [
       "array([1, 0, 1, ..., 0, 1, 0])"
      ]
     },
     "execution_count": 10,
     "metadata": {},
     "output_type": "execute_result"
    }
   ],
   "source": [
    "flips"
   ]
  },
  {
   "cell_type": "code",
   "execution_count": 11,
   "metadata": {},
   "outputs": [
    {
     "data": {
      "text/plain": [
       "1"
      ]
     },
     "execution_count": 11,
     "metadata": {},
     "output_type": "execute_result"
    }
   ],
   "source": [
    "# Peek at the first row\n",
    "flips[0]"
   ]
  },
  {
   "cell_type": "code",
   "execution_count": 12,
   "metadata": {},
   "outputs": [
    {
     "ename": "AxisError",
     "evalue": "axis 1 is out of bounds for array of dimension 1",
     "output_type": "error",
     "traceback": [
      "\u001b[0;31m---------------------------------------------------------------------------\u001b[0m",
      "\u001b[0;31mAxisError\u001b[0m                                 Traceback (most recent call last)",
      "\u001b[0;32m<ipython-input-12-bce7c52705e9>\u001b[0m in \u001b[0;36m<module>\u001b[0;34m\u001b[0m\n\u001b[1;32m      1\u001b[0m \u001b[0;31m# .sum(axis=1) sums up each row\u001b[0m\u001b[0;34m\u001b[0m\u001b[0;34m\u001b[0m\u001b[0;34m\u001b[0m\u001b[0m\n\u001b[0;32m----> 2\u001b[0;31m \u001b[0mresults\u001b[0m \u001b[0;34m=\u001b[0m \u001b[0mflips\u001b[0m\u001b[0;34m.\u001b[0m\u001b[0msum\u001b[0m\u001b[0;34m(\u001b[0m\u001b[0maxis\u001b[0m\u001b[0;34m=\u001b[0m\u001b[0;36m1\u001b[0m\u001b[0;34m)\u001b[0m\u001b[0;34m\u001b[0m\u001b[0;34m\u001b[0m\u001b[0m\n\u001b[0m\u001b[1;32m      3\u001b[0m \u001b[0mresults\u001b[0m\u001b[0;34m\u001b[0m\u001b[0;34m\u001b[0m\u001b[0m\n",
      "\u001b[0;32m/usr/local/anaconda3/lib/python3.7/site-packages/numpy/core/_methods.py\u001b[0m in \u001b[0;36m_sum\u001b[0;34m(a, axis, dtype, out, keepdims, initial, where)\u001b[0m\n\u001b[1;32m     36\u001b[0m def _sum(a, axis=None, dtype=None, out=None, keepdims=False,\n\u001b[1;32m     37\u001b[0m          initial=_NoValue, where=True):\n\u001b[0;32m---> 38\u001b[0;31m     \u001b[0;32mreturn\u001b[0m \u001b[0mumr_sum\u001b[0m\u001b[0;34m(\u001b[0m\u001b[0ma\u001b[0m\u001b[0;34m,\u001b[0m \u001b[0maxis\u001b[0m\u001b[0;34m,\u001b[0m \u001b[0mdtype\u001b[0m\u001b[0;34m,\u001b[0m \u001b[0mout\u001b[0m\u001b[0;34m,\u001b[0m \u001b[0mkeepdims\u001b[0m\u001b[0;34m,\u001b[0m \u001b[0minitial\u001b[0m\u001b[0;34m,\u001b[0m \u001b[0mwhere\u001b[0m\u001b[0;34m)\u001b[0m\u001b[0;34m\u001b[0m\u001b[0;34m\u001b[0m\u001b[0m\n\u001b[0m\u001b[1;32m     39\u001b[0m \u001b[0;34m\u001b[0m\u001b[0m\n\u001b[1;32m     40\u001b[0m def _prod(a, axis=None, dtype=None, out=None, keepdims=False,\n",
      "\u001b[0;31mAxisError\u001b[0m: axis 1 is out of bounds for array of dimension 1"
     ]
    }
   ],
   "source": [
    "# .sum(axis=1) sums up each row\n",
    "results = flips.sum(axis=1)\n",
    "results"
   ]
  },
  {
   "cell_type": "code",
   "execution_count": null,
   "metadata": {},
   "outputs": [],
   "source": [
    "# What is the probability of getting exactly 3 heads? \n",
    "(results == 3).mean()"
   ]
  },
  {
   "cell_type": "code",
   "execution_count": null,
   "metadata": {},
   "outputs": [],
   "source": [
    "(results == 8).mean()"
   ]
  },
  {
   "cell_type": "code",
   "execution_count": null,
   "metadata": {},
   "outputs": [],
   "source": [
    "# What is the probability of getting more than 3 heads?\n",
    "(results > 3).mean()"
   ]
  },
  {
   "cell_type": "markdown",
   "metadata": {},
   "source": [
    "## Exercise 3\n",
    "\n",
    "There are approximitely 3 web development cohorts for every 1 data science cohort at Codeup. \n",
    "\n",
    "Assuming that Codeup randomly selects an alumni to put on a billboard, what are the odds that the two billboards I drive past both have data science students on them?\n"
   ]
  },
  {
   "cell_type": "code",
   "execution_count": null,
   "metadata": {},
   "outputs": [],
   "source": [
    "outcomes = np.random.choice([\"Web Dev\", \"Data Science\"], size=(100_000, 2), p=[.75, .25])"
   ]
  },
  {
   "cell_type": "code",
   "execution_count": null,
   "metadata": {},
   "outputs": [],
   "source": [
    "df = pd.DataFrame(outcomes)\n",
    "df.columns = [\"first_billboard\", \"second_billboard\"]\n",
    "\n",
    "# both column holds the result of the & operation\n",
    "# comparisons that return a series of boolean can be combined with &, | for \"or\"\n",
    "df[\"both\"] = (df.first_billboard == \"Data Science\") & (df.second_billboard == \"Data Science\")\n",
    "df.head(5)"
   ]
  },
  {
   "cell_type": "code",
   "execution_count": null,
   "metadata": {},
   "outputs": [],
   "source": [
    "both = df.both.mean()\n",
    "f\"The probabiility of both being Data Science billboards is {both}\""
   ]
  },
  {
   "cell_type": "code",
   "execution_count": null,
   "metadata": {},
   "outputs": [],
   "source": [
    "df.both.value_counts(normalize=True)\n",
    "# DS, DS,\n",
    "# DS, WD\n",
    "# WD, DS\n",
    "# WD, WD"
   ]
  },
  {
   "cell_type": "markdown",
   "metadata": {},
   "source": [
    "## Exercise 4\n",
    "Codeup students buy, on average, 3 poptart packages (+- 1.5) a day from the snack vending machine. \n",
    "\n",
    "If on monday the machine is restocked with 17 poptart packages, how likely is it that I will be able to buy some poptarts on Friday afternoon?\n"
   ]
  },
  {
   "cell_type": "code",
   "execution_count": null,
   "metadata": {},
   "outputs": [],
   "source": [
    "# Round the poptart values b/c we can't buy fractions of poptarts from a vending machine\n",
    "poptarts = np.round(np.random.normal(3, 1.5, size=(100_000, 5)))"
   ]
  },
  {
   "cell_type": "code",
   "execution_count": null,
   "metadata": {},
   "outputs": [],
   "source": [
    "print(f\"Standard Deviation is {poptarts.std()}\")\n",
    "print(f\"Mean is {poptarts.mean()}\")"
   ]
  },
  {
   "cell_type": "code",
   "execution_count": null,
   "metadata": {},
   "outputs": [],
   "source": [
    "poptarts.min()"
   ]
  },
  {
   "cell_type": "code",
   "execution_count": null,
   "metadata": {},
   "outputs": [],
   "source": [
    "# First week's poptart consumption. \n",
    "# Each row simulates a week\n",
    "poptarts[0]"
   ]
  },
  {
   "cell_type": "code",
   "execution_count": null,
   "metadata": {},
   "outputs": [],
   "source": [
    "# .sum(axis=1) sums up each row which means the total of poptarts purchased that week\n",
    "weekly_demand = poptarts.sum(axis=1)\n",
    "weekly_demand"
   ]
  },
  {
   "cell_type": "code",
   "execution_count": null,
   "metadata": {},
   "outputs": [],
   "source": [
    "# how many weeks have less demand than 17 poptarts\n",
    "(weekly_demand < 17).mean()"
   ]
  },
  {
   "cell_type": "code",
   "execution_count": null,
   "metadata": {},
   "outputs": [],
   "source": []
  },
  {
   "cell_type": "markdown",
   "metadata": {},
   "source": [
    "## Exercise 5\n",
    "\n",
    "#### Compare Heights\n",
    "\n",
    "- Men have an average height of 178 cm and standard deviation of 8cm.\n",
    "- Women have a mean of 170, sd = 6cm.\n",
    "- If a man and woman are chosen at random, P(woman taller than man)?\n"
   ]
  },
  {
   "cell_type": "code",
   "execution_count": null,
   "metadata": {},
   "outputs": [],
   "source": [
    "trials = 100_000\n",
    "m_heights = np.random.normal(178, 8, trials)\n",
    "f_heights = np.random.normal(170, 6, trials)"
   ]
  },
  {
   "cell_type": "code",
   "execution_count": null,
   "metadata": {},
   "outputs": [],
   "source": [
    "f_heights"
   ]
  },
  {
   "cell_type": "code",
   "execution_count": null,
   "metadata": {},
   "outputs": [],
   "source": [
    "(m_heights < f_heights)"
   ]
  },
  {
   "cell_type": "code",
   "execution_count": null,
   "metadata": {},
   "outputs": [],
   "source": [
    "# p(f_heights > m_heights)\n",
    "(m_heights < f_heights).mean()"
   ]
  },
  {
   "cell_type": "code",
   "execution_count": null,
   "metadata": {},
   "outputs": [],
   "source": [
    "# p(m_heights == f_heights)\n",
    "f_heights == m_heights"
   ]
  },
  {
   "cell_type": "markdown",
   "metadata": {},
   "source": [
    "## Exercise 6\n",
    "\n",
    "When installing anaconda on a student's computer, there's a 1 in 250 chance that the download is corrupted and the installation fails\n",
    "\n",
    "- What are the odds that after having 50 students download anaconda, no one has an installation issue? \n",
    "- 100 students?\n",
    "- What is the probability that we observe an installation issue within the first 150 students that download anaconda?\n",
    "- How likely is it that 450 students all download anaconda without an issue?\n",
    "\n",
    "\n"
   ]
  },
  {
   "cell_type": "code",
   "execution_count": null,
   "metadata": {},
   "outputs": [],
   "source": [
    "trials = 10_000"
   ]
  },
  {
   "cell_type": "code",
   "execution_count": null,
   "metadata": {},
   "outputs": [],
   "source": [
    "students_per_trial = 50\n",
    "\n",
    "# 0 is a fail, 1 is success\n",
    "installs = np.random.choice([0, 1], size=(trials, students_per_trial), p=([1/250, 249/250]))\n",
    "df = pd.DataFrame(installs)\n",
    "df.head()"
   ]
  },
  {
   "cell_type": "code",
   "execution_count": null,
   "metadata": {},
   "outputs": [],
   "source": [
    "# integer location\n",
    "# .iloc[rows, columns]\n",
    "# rows 1 and 2, column 0 through 4\n",
    "df.iloc[0:2, 0:4]"
   ]
  },
  {
   "cell_type": "code",
   "execution_count": null,
   "metadata": {},
   "outputs": [],
   "source": [
    "df[\"all_good\"] = df.sum(axis=1) == students_per_trial\n",
    "df.head()"
   ]
  },
  {
   "cell_type": "code",
   "execution_count": null,
   "metadata": {},
   "outputs": [],
   "source": [
    "df.all_good.mean()"
   ]
  },
  {
   "cell_type": "code",
   "execution_count": null,
   "metadata": {},
   "outputs": [],
   "source": [
    "students_per_trial = 100\n",
    "\n",
    "installs = np.random.choice([0, 1], size=(trials, students_per_trial), p=([1/250, 249/250]))\n",
    "df = pd.DataFrame(installs)\n",
    "df[\"all_good\"] = df.sum(axis=1) == students_per_trial\n",
    "df.all_good.mean()"
   ]
  },
  {
   "cell_type": "code",
   "execution_count": null,
   "metadata": {},
   "outputs": [],
   "source": [
    "# What is the probability that we observe an installation issue\n",
    "# within the first 150 students that download anaconda?\n",
    "students_per_trial = 150\n",
    "\n",
    "installs = np.random.choice([0, 1], size=(trials, students_per_trial), p=([1/250, 249/250]))\n",
    "df = pd.DataFrame(installs)\n",
    "df[\"failures\"] = df.sum(axis=1) < students_per_trial\n",
    "\n",
    "f\"Average rate of any failure on installs in 150 is {df.failures.mean()}\""
   ]
  },
  {
   "cell_type": "code",
   "execution_count": null,
   "metadata": {},
   "outputs": [],
   "source": [
    "students_per_trial = 450\n",
    "\n",
    "installs = np.random.choice([0, 1], size=(trials, students_per_trial), p=([1/250, 249/250]))\n",
    "df = pd.DataFrame(installs)\n",
    "df[\"all_good\"] = df.sum(axis=1) == students_per_trial\n",
    "df.all_good.mean()"
   ]
  },
  {
   "cell_type": "markdown",
   "metadata": {},
   "source": [
    "## Exercise 7\n",
    "\n",
    "- There's a 70% chance on any given day that there will be at least one food truck at Travis Park. \n",
    "- However, you haven't seen a food truck there in 3 days. \n",
    "- How unlikely is this?\n",
    "\n"
   ]
  },
  {
   "cell_type": "code",
   "execution_count": null,
   "metadata": {},
   "outputs": [],
   "source": [
    "# 1 is a truck, 0 is no truck\n",
    "trucks = np.random.choice([1, 0], p=[.7, .3], size=(100_000, 3))\n",
    "df = pd.DataFrame(trucks)\n",
    "df.columns = [\"day_1\", \"day_2\", \"day_3\"]\n",
    "df"
   ]
  },
  {
   "cell_type": "code",
   "execution_count": null,
   "metadata": {},
   "outputs": [],
   "source": [
    "# Theoretical probability of seeing no food trucks across 3 days\n",
    ".3 * .3 * .3"
   ]
  },
  {
   "cell_type": "code",
   "execution_count": null,
   "metadata": {},
   "outputs": [],
   "source": [
    "df[\"appearances\"] = df.day_1 + df.day_2 + df.day_3\n",
    "(df.appearances == 0).mean()"
   ]
  },
  {
   "cell_type": "code",
   "execution_count": null,
   "metadata": {},
   "outputs": [],
   "source": [
    "# How likely is it that a food truck will show up sometime this week?\n",
    "\n",
    "trucks = np.random.choice([1, 0], p=[.7, .3], size=(100_000, 7))\n",
    "df = pd.DataFrame(trucks)\n",
    "df[\"appearances\"] = df.sum(axis=1) # sum values across the rows\n",
    "df.head()"
   ]
  },
  {
   "cell_type": "code",
   "execution_count": null,
   "metadata": {},
   "outputs": [],
   "source": [
    "(df.appearances > 0).mean()"
   ]
  },
  {
   "cell_type": "markdown",
   "metadata": {},
   "source": [
    "## If 23 people are in the same room, what are the odds that two of them share a birthday? What if it's 20 people? 40?"
   ]
  },
  {
   "cell_type": "code",
   "execution_count": null,
   "metadata": {},
   "outputs": [],
   "source": [
    "# calculate the odds of two people share a birthday\n",
    "n_simulations = 100_000\n",
    "n_people = 23\n",
    "birthdays = np.random.choice(range(365), size=(n_simulations, n_people))\n",
    "df = pd.DataFrame(birthdays)\n",
    "\n",
    "# Get the number of unique values per row\n",
    "df[\"n_unique\"] = df.nunique(axis=1)\n",
    "\n",
    "df.head(3)"
   ]
  },
  {
   "cell_type": "code",
   "execution_count": null,
   "metadata": {},
   "outputs": [],
   "source": [
    "# For exactly 2 people sharing a birthday in a room of 23 people, the number of n_unique values shoudl be 23-2\n",
    "(df.n_unique == 21).mean()"
   ]
  },
  {
   "cell_type": "code",
   "execution_count": null,
   "metadata": {},
   "outputs": [],
   "source": [
    "# calculate the odds of two people share a birthday in a room of 20 people\n",
    "n_simulations = 100_000\n",
    "n_people = 20\n",
    "birthdays = np.random.choice(range(365), size=(n_simulations, n_people))\n",
    "df = pd.DataFrame(birthdays)\n",
    "\n",
    "# Get the number of unique values per row\n",
    "df[\"n_unique\"] = df.nunique(axis=1)\n",
    "\n",
    "(df.n_unique == n_people - 2).mean()"
   ]
  },
  {
   "cell_type": "code",
   "execution_count": null,
   "metadata": {},
   "outputs": [],
   "source": [
    "# calculate the odds of two people share a birthday in a room of 20 people\n",
    "n_simulations = 100_000\n",
    "n_people = 40\n",
    "birthdays = np.random.choice(range(365), size=(n_simulations, n_people))\n",
    "df = pd.DataFrame(birthdays)\n",
    "\n",
    "# Get the number of unique values per row\n",
    "df[\"n_unique\"] = df.nunique(axis=1)\n",
    "\n",
    "(df.n_unique == n_people - 2).mean()"
   ]
  },
  {
   "cell_type": "code",
   "execution_count": null,
   "metadata": {},
   "outputs": [],
   "source": [
    "# In a room of 30 people\n",
    "# What are the odds that at least 2 people share a birthday\n",
    "\n",
    "n_simulations = 10_000\n",
    "n_people = 30\n",
    "birthdays = np.random.choice(range(365), size=(n_simulations, n_people))\n",
    "df = pd.DataFrame(birthdays)\n",
    "\n",
    "# Get the number of unique values per row\n",
    "df[\"n_unique\"] = df.nunique(axis=1)\n",
    "\n",
    "(df.n_unique <= n_people - 2).mean()"
   ]
  },
  {
   "cell_type": "code",
   "execution_count": null,
   "metadata": {},
   "outputs": [],
   "source": [
    "# In a room of 40 people\n",
    "# What are the odds that at least 2 people share a birthdau\n",
    "\n",
    "n_simulations = 10_000\n",
    "n_people = 40\n",
    "birthdays = np.random.choice(range(365), size=(n_simulations, n_people))\n",
    "df = pd.DataFrame(birthdays)\n",
    "\n",
    "# Get the number of unique values per row\n",
    "df[\"n_unique\"] = df.nunique(axis=1)\n",
    "\n",
    "(df.n_unique <= n_people - 2).mean()"
   ]
  },
  {
   "cell_type": "code",
   "execution_count": null,
   "metadata": {},
   "outputs": [],
   "source": []
  }
 ],
 "metadata": {
  "kernelspec": {
   "display_name": "Python 3",
   "language": "python",
   "name": "python3"
  },
  "language_info": {
   "codemirror_mode": {
    "name": "ipython",
    "version": 3
   },
   "file_extension": ".py",
   "mimetype": "text/x-python",
   "name": "python",
   "nbconvert_exporter": "python",
   "pygments_lexer": "ipython3",
   "version": "3.7.3"
  }
 },
 "nbformat": 4,
 "nbformat_minor": 4
}
