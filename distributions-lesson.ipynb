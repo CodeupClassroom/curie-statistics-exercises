{
 "cells": [
  {
   "cell_type": "markdown",
   "metadata": {},
   "source": [
    "# Statistical Distributions\n",
    "\n",
    "- def: math functions implemented with python code in the `scipy` library that we can use to model real-world processes"
   ]
  },
  {
   "cell_type": "code",
   "execution_count": 6,
   "metadata": {},
   "outputs": [],
   "source": [
    "from scipy import stats\n",
    "import numpy as np\n",
    "import matplotlib.pyplot as plt"
   ]
  },
  {
   "cell_type": "markdown",
   "metadata": {},
   "source": [
    "## Uniform Distribution\n",
    "\n",
    "- discrete `randint`\n",
    "- continous `uniform`"
   ]
  },
  {
   "cell_type": "code",
   "execution_count": 9,
   "metadata": {},
   "outputs": [
    {
     "data": {
      "text/plain": [
       "<scipy.stats._distn_infrastructure.rv_frozen at 0x1a1fc23e48>"
      ]
     },
     "execution_count": 9,
     "metadata": {},
     "output_type": "execute_result"
    }
   ],
   "source": [
    "die_distribution = stats.randint(1, 7)\n",
    "die_distribution"
   ]
  },
  {
   "cell_type": "markdown",
   "metadata": {},
   "source": [
    "## Working with Distributions\n",
    "\n",
    "- `.rvs`: random values, e.g. for simulation\n",
    "- `.pmf` + `.pdf`: =\n",
    "- `.cdf` + `.ppf`: <=\n",
    "- `.sf` + `.isf`: >"
   ]
  },
  {
   "cell_type": "code",
   "execution_count": 20,
   "metadata": {},
   "outputs": [
    {
     "data": {
      "text/plain": [
       "array([[6, 3],\n",
       "       [5, 6],\n",
       "       [1, 5],\n",
       "       [3, 1],\n",
       "       [5, 6]])"
      ]
     },
     "execution_count": 20,
     "metadata": {},
     "output_type": "execute_result"
    }
   ],
   "source": [
    "die_distribution.rvs((5, 2))"
   ]
  },
  {
   "cell_type": "code",
   "execution_count": 21,
   "metadata": {},
   "outputs": [
    {
     "data": {
      "text/plain": [
       "0.16666666666666666"
      ]
     },
     "execution_count": 21,
     "metadata": {},
     "output_type": "execute_result"
    }
   ],
   "source": [
    "# what is the likelihook we roll a 4?\n",
    "die_distribution.pmf(4)"
   ]
  },
  {
   "cell_type": "code",
   "execution_count": 22,
   "metadata": {},
   "outputs": [
    {
     "data": {
      "text/plain": [
       "0.5"
      ]
     },
     "execution_count": 22,
     "metadata": {},
     "output_type": "execute_result"
    }
   ],
   "source": [
    "# what is the probability that we roll a 3 or less?\n",
    "die_distribution.cdf(3)"
   ]
  },
  {
   "cell_type": "code",
   "execution_count": 23,
   "metadata": {},
   "outputs": [
    {
     "data": {
      "text/plain": [
       "0.6666666666666667"
      ]
     },
     "execution_count": 23,
     "metadata": {},
     "output_type": "execute_result"
    }
   ],
   "source": [
    "# what is the likelihood we roll greater than 2?\n",
    "die_distribution.sf(2)"
   ]
  },
  {
   "cell_type": "code",
   "execution_count": 24,
   "metadata": {},
   "outputs": [
    {
     "data": {
      "text/plain": [
       "5.0"
      ]
     },
     "execution_count": 24,
     "metadata": {},
     "output_type": "execute_result"
    }
   ],
   "source": [
    "# there's a 1/6 chance I roll greater than what number?\n",
    "p = 1/6\n",
    "\n",
    "die_distribution.isf(p)"
   ]
  },
  {
   "cell_type": "code",
   "execution_count": 27,
   "metadata": {},
   "outputs": [
    {
     "data": {
      "text/plain": [
       "3.0"
      ]
     },
     "execution_count": 27,
     "metadata": {},
     "output_type": "execute_result"
    }
   ],
   "source": [
    "# there's a 50% chance I roll what number or less?\n",
    "halfway_value = die_distribution.ppf(.5)\n",
    "halfway_value"
   ]
  },
  {
   "cell_type": "markdown",
   "metadata": {},
   "source": [
    "### Mini Exercise\n",
    "\n",
    "using `scipy.stats.randint`\n",
    "\n",
    "- what is the likelihood of rolling a 1?\n",
    "- what is the likelihood of rolling greater than a 4?\n",
    "- 50% of values will be greater than what number?"
   ]
  },
  {
   "cell_type": "code",
   "execution_count": 29,
   "metadata": {},
   "outputs": [
    {
     "data": {
      "text/plain": [
       "0.152"
      ]
     },
     "execution_count": 29,
     "metadata": {},
     "output_type": "execute_result"
    }
   ],
   "source": [
    "(np.random.randint(1, 7, 1000) == 1).mean()"
   ]
  },
  {
   "cell_type": "code",
   "execution_count": 30,
   "metadata": {},
   "outputs": [
    {
     "data": {
      "text/plain": [
       "0.16666666666666666"
      ]
     },
     "execution_count": 30,
     "metadata": {},
     "output_type": "execute_result"
    }
   ],
   "source": [
    "die_distribution.pmf(1)"
   ]
  },
  {
   "cell_type": "code",
   "execution_count": 31,
   "metadata": {},
   "outputs": [
    {
     "data": {
      "text/plain": [
       "0.33333333333333337"
      ]
     },
     "execution_count": 31,
     "metadata": {},
     "output_type": "execute_result"
    }
   ],
   "source": [
    "die_distribution.sf(4)"
   ]
  },
  {
   "cell_type": "code",
   "execution_count": 32,
   "metadata": {},
   "outputs": [
    {
     "data": {
      "text/plain": [
       "3.0"
      ]
     },
     "execution_count": 32,
     "metadata": {},
     "output_type": "execute_result"
    }
   ],
   "source": [
    "die_distribution.isf(.5)"
   ]
  },
  {
   "cell_type": "markdown",
   "metadata": {},
   "source": [
    "## Normal Distribution\n",
    "\n",
    "- continuous random var\n",
    "- mean, $\\mu$, the center\n",
    "- standard deviation, $\\sigma$, the \"spread\""
   ]
  },
  {
   "cell_type": "code",
   "execution_count": 35,
   "metadata": {},
   "outputs": [
    {
     "data": {
      "text/plain": [
       "<scipy.stats._distn_infrastructure.rv_frozen at 0x1a1fde3668>"
      ]
     },
     "execution_count": 35,
     "metadata": {},
     "output_type": "execute_result"
    }
   ],
   "source": [
    "coffee_consumption = stats.norm(10, 1)\n",
    "coffee_consumption"
   ]
  },
  {
   "cell_type": "code",
   "execution_count": 41,
   "metadata": {},
   "outputs": [
    {
     "data": {
      "text/plain": [
       "(array([2.000e+00, 4.000e+00, 1.000e+01, 2.700e+01, 5.100e+01, 7.600e+01,\n",
       "        1.380e+02, 2.450e+02, 3.650e+02, 5.060e+02, 6.530e+02, 8.240e+02,\n",
       "        9.650e+02, 1.016e+03, 1.083e+03, 9.590e+02, 9.120e+02, 6.780e+02,\n",
       "        5.050e+02, 3.950e+02, 2.370e+02, 1.530e+02, 1.070e+02, 4.800e+01,\n",
       "        2.200e+01, 1.000e+01, 3.000e+00, 4.000e+00, 1.000e+00, 1.000e+00]),\n",
       " array([ 6.30612835,  6.56859178,  6.83105521,  7.09351864,  7.35598206,\n",
       "         7.61844549,  7.88090892,  8.14337234,  8.40583577,  8.6682992 ,\n",
       "         8.93076262,  9.19322605,  9.45568948,  9.7181529 ,  9.98061633,\n",
       "        10.24307976, 10.50554319, 10.76800661, 11.03047004, 11.29293347,\n",
       "        11.55539689, 11.81786032, 12.08032375, 12.34278717, 12.6052506 ,\n",
       "        12.86771403, 13.13017745, 13.39264088, 13.65510431, 13.91756774,\n",
       "        14.18003116]),\n",
       " <a list of 30 Patch objects>)"
      ]
     },
     "execution_count": 41,
     "metadata": {},
     "output_type": "execute_result"
    },
    {
     "data": {
      "image/png": "[encoded data removed]",
      "text/plain": [
       "<Figure size 864x576 with 1 Axes>"
      ]
     },
     "metadata": {
      "needs_background": "light"
     },
     "output_type": "display_data"
    }
   ],
   "source": [
    "plt.figure(figsize=(12, 8))\n",
    "plt.hist(coffee_consumption.rvs(10_000), bins=30, fc='white', ec='black')"
   ]
  },
  {
   "cell_type": "code",
   "execution_count": 43,
   "metadata": {},
   "outputs": [
    {
     "data": {
      "text/plain": [
       "0.06680720126885807"
      ]
     },
     "execution_count": 43,
     "metadata": {},
     "output_type": "execute_result"
    }
   ],
   "source": [
    "# what's the likelihood we consume less (or equal to) than 8.5 liters of coffee one day?\n",
    "coffee_consumption.cdf(8.5)"
   ]
  },
  {
   "cell_type": "code",
   "execution_count": 44,
   "metadata": {},
   "outputs": [
    {
     "data": {
      "text/plain": [
       "9.325510249803918"
      ]
     },
     "execution_count": 44,
     "metadata": {},
     "output_type": "execute_result"
    }
   ],
   "source": [
    "# how little coffee would we have to drink to be in the bottom quarter of all days of coffee consumption?\n",
    "coffee_consumption.ppf(.25)"
   ]
  },
  {
   "cell_type": "markdown",
   "metadata": {},
   "source": [
    "Say the average internet consumption for Spectrum for a neighborhood is 1250 GB +- 100 GB. This is the historical average for the last 3 months.\n",
    "\n",
    "On monday we observed 1500 GB of consumption. Assuming internet usage patterns haven't changed, how likely is it we'd see this number due to chance?"
   ]
  },
  {
   "cell_type": "code",
   "execution_count": 50,
   "metadata": {},
   "outputs": [
    {
     "data": {
      "text/plain": [
       "0.006209665325776132"
      ]
     },
     "execution_count": 50,
     "metadata": {},
     "output_type": "execute_result"
    }
   ],
   "source": [
    "mean = 1250\n",
    "sd = 100\n",
    "\n",
    "stats.norm(mean, sd).sf(1500)\n",
    "# is the same as\n",
    "internet_usage = stats.norm(1250, 100)\n",
    "internet_usage.sf(1500)"
   ]
  },
  {
   "cell_type": "code",
   "execution_count": 51,
   "metadata": {},
   "outputs": [
    {
     "data": {
      "text/plain": [
       "1500.0"
      ]
     },
     "execution_count": 51,
     "metadata": {},
     "output_type": "execute_result"
    }
   ],
   "source": [
    "# how much consumption contitues the top 0.006209665325776132 of all days?\n",
    "internet_usage.isf(0.006209665325776132)"
   ]
  },
  {
   "cell_type": "code",
   "execution_count": 52,
   "metadata": {},
   "outputs": [
    {
     "data": {
      "text/plain": [
       "True"
      ]
     },
     "execution_count": 52,
     "metadata": {},
     "output_type": "execute_result"
    }
   ],
   "source": [
    "value = 1500\n",
    "\n",
    "internet_usage.isf(internet_usage.sf(value)) == value"
   ]
  },
  {
   "cell_type": "code",
   "execution_count": 53,
   "metadata": {},
   "outputs": [
    {
     "data": {
      "text/plain": [
       "1378.15515655446"
      ]
     },
     "execution_count": 53,
     "metadata": {},
     "output_type": "execute_result"
    }
   ],
   "source": [
    "# How much data usage constitutes the top 10% of all days?\n",
    "internet_usage.isf(.1)"
   ]
  },
  {
   "cell_type": "code",
   "execution_count": 54,
   "metadata": {},
   "outputs": [
    {
     "data": {
      "text/plain": [
       "1378.15515655446"
      ]
     },
     "execution_count": 54,
     "metadata": {},
     "output_type": "execute_result"
    }
   ],
   "source": [
    "internet_usage.ppf(.9)"
   ]
  },
  {
   "cell_type": "code",
   "execution_count": 56,
   "metadata": {},
   "outputs": [
    {
     "data": {
      "text/plain": [
       "(array([4.000e+00, 6.000e+00, 1.600e+01, 3.900e+01, 9.200e+01, 1.710e+02,\n",
       "        3.210e+02, 6.740e+02, 1.152e+03, 1.881e+03, 2.984e+03, 4.267e+03,\n",
       "        5.795e+03, 7.221e+03, 8.520e+03, 9.532e+03, 1.012e+04, 9.868e+03,\n",
       "        9.111e+03, 7.945e+03, 6.414e+03, 4.824e+03, 3.464e+03, 2.347e+03,\n",
       "        1.445e+03, 8.620e+02, 4.500e+02, 2.420e+02, 1.280e+02, 6.200e+01,\n",
       "        2.900e+01, 1.100e+01, 1.000e+00, 1.000e+00, 1.000e+00]),\n",
       " array([ 824.21299004,  849.64142475,  875.06985947,  900.49829419,\n",
       "         925.92672891,  951.35516362,  976.78359834, 1002.21203306,\n",
       "        1027.64046778, 1053.06890249, 1078.49733721, 1103.92577193,\n",
       "        1129.35420665, 1154.78264136, 1180.21107608, 1205.6395108 ,\n",
       "        1231.06794552, 1256.49638023, 1281.92481495, 1307.35324967,\n",
       "        1332.78168439, 1358.2101191 , 1383.63855382, 1409.06698854,\n",
       "        1434.49542326, 1459.92385797, 1485.35229269, 1510.78072741,\n",
       "        1536.20916213, 1561.63759684, 1587.06603156, 1612.49446628,\n",
       "        1637.92290099, 1663.35133571, 1688.77977043, 1714.20820515]),\n",
       " <a list of 35 Patch objects>)"
      ]
     },
     "execution_count": 56,
     "metadata": {},
     "output_type": "execute_result"
    },
    {
     "data": {
      "image/png": "[encoded data removed]",
      "text/plain": [
       "<Figure size 1152x648 with 1 Axes>"
      ]
     },
     "metadata": {
      "needs_background": "light"
     },
     "output_type": "display_data"
    }
   ],
   "source": [
    "plt.figure(figsize=(16, 9))\n",
    "plt.hist(internet_usage.rvs(100_000), bins=35, ec='black', fc='mintcream')"
   ]
  },
  {
   "cell_type": "markdown",
   "metadata": {},
   "source": [
    "## Binomial Distribution\n",
    "\n",
    "- discrete random var: number of \"successes\"\n",
    "- $n$, number of trials\n",
    "    - outcome of one trial is binary, yes or no\n",
    "- $p$, probability of success for one trial"
   ]
  },
  {
   "cell_type": "code",
   "execution_count": 64,
   "metadata": {},
   "outputs": [
    {
     "data": {
      "text/plain": [
       "0.3086999999999999"
      ]
     },
     "execution_count": 64,
     "metadata": {},
     "output_type": "execute_result"
    }
   ],
   "source": [
    "# there's a 70 percent chance a food truck shows up.\n",
    "# What's the likelihood a food truck shows up 2 days out of the week?\n",
    "\n",
    "# outcome: # of days that a food truck shows up\n",
    "# n == 5\n",
    "# p == .70\n",
    "\n",
    "n = 5\n",
    "p = .3\n",
    "\n",
    "stats.binom(n, p).pmf(2)"
   ]
  },
  {
   "cell_type": "code",
   "execution_count": 65,
   "metadata": {},
   "outputs": [
    {
     "data": {
      "text/plain": [
       "Text(0, 0.5, 'probability of this outcome')"
      ]
     },
     "execution_count": 65,
     "metadata": {},
     "output_type": "execute_result"
    },
    {
     "data": {
      "image/png": "[encoded data removed]",
      "text/plain": [
       "<Figure size 1152x648 with 1 Axes>"
      ]
     },
     "metadata": {
      "needs_background": "light"
     },
     "output_type": "display_data"
    }
   ],
   "source": [
    "plt.figure(figsize=(16, 9))\n",
    "x = np.arange(0, 6)\n",
    "y = stats.binom(n, p).pmf(x)\n",
    "\n",
    "plt.bar(x, y, width=1, ec='black', fc='yellow')\n",
    "plt.xlabel('# of days a food truck shows up')\n",
    "plt.ylabel('probability of this outcome')"
   ]
  },
  {
   "cell_type": "code",
   "execution_count": 66,
   "metadata": {},
   "outputs": [
    {
     "data": {
      "text/plain": [
       "0.47178000000000003"
      ]
     },
     "execution_count": 66,
     "metadata": {},
     "output_type": "execute_result"
    }
   ],
   "source": [
    "# What's the likelihood that a food truck shows up 3 or less days out of the week?\n",
    "\n",
    "n = 5\n",
    "p = .7\n",
    "\n",
    "stats.binom(n, p).cdf(3)"
   ]
  },
  {
   "cell_type": "code",
   "execution_count": 67,
   "metadata": {},
   "outputs": [
    {
     "data": {
      "text/plain": [
       "0.16308000000000006"
      ]
     },
     "execution_count": 67,
     "metadata": {},
     "output_type": "execute_result"
    }
   ],
   "source": [
    "# what's the likehood that a food truck shows up less than 3 days out of the week?\n",
    "# rephrase in order to use our functions\n",
    "# likelihood a food truck shows up 2 or less days out of the week\n",
    "stats.binom(n, p).cdf(2)"
   ]
  },
  {
   "cell_type": "code",
   "execution_count": 69,
   "metadata": {},
   "outputs": [
    {
     "data": {
      "text/plain": [
       "0.1630800000000001"
      ]
     },
     "execution_count": 69,
     "metadata": {},
     "output_type": "execute_result"
    }
   ],
   "source": [
    "# P(less than 3 days) is equal to\n",
    "# P(3 or less days) - P(3)\n",
    "stats.binom(n, p).cdf(3) - stats.binom(n, p).pmf(3)"
   ]
  },
  {
   "cell_type": "markdown",
   "metadata": {},
   "source": [
    "---\n",
    "\n",
    "Say you go to the grocery store, and there's a 80% chance they have toilet paper. If everyone in Curie goes to the store, how likely is it we all can buy toilet paper?"
   ]
  },
  {
   "cell_type": "code",
   "execution_count": 74,
   "metadata": {},
   "outputs": [
    {
     "data": {
      "text/plain": [
       "0.0225179981368525"
      ]
     },
     "execution_count": 74,
     "metadata": {},
     "output_type": "execute_result"
    }
   ],
   "source": [
    "n = 17\n",
    "p = .8\n",
    "\n",
    "stats.binom(n, p).pmf(n) # likelihood that all trials are successes"
   ]
  },
  {
   "cell_type": "markdown",
   "metadata": {},
   "source": [
    "Suppose there's a surprise stats quiz this afternoon, and you haven't studied. There's 10 multiple chioce questions, each with 4 answers. If you guess at random for each question, what's the likelihood that you pass the quiz?"
   ]
  },
  {
   "cell_type": "code",
   "execution_count": 75,
   "metadata": {},
   "outputs": [
    {
     "data": {
      "text/plain": [
       "0.003505706787109374"
      ]
     },
     "execution_count": 75,
     "metadata": {},
     "output_type": "execute_result"
    }
   ],
   "source": [
    "p = .25\n",
    "n = 10\n",
    "\n",
    "stats.binom(n, p).sf(6) # 7 or more"
   ]
  },
  {
   "cell_type": "markdown",
   "metadata": {},
   "source": [
    "## Poisson Distribution\n",
    "\n",
    "- discrete random var: number of events\n",
    "- $\\lambda$: avg rate over time"
   ]
  },
  {
   "cell_type": "markdown",
   "metadata": {},
   "source": [
    "Suppose codeup students ask, on average, 3.5 questions per lecture. What is the likelihood that more than 4 questions are asked during the statistical distributions lesson?"
   ]
  },
  {
   "cell_type": "code",
   "execution_count": 76,
   "metadata": {},
   "outputs": [
    {
     "data": {
      "text/plain": [
       "0.2745550466903957"
      ]
     },
     "execution_count": 76,
     "metadata": {},
     "output_type": "execute_result"
    }
   ],
   "source": [
    "stats.poisson(3.5).sf(4)"
   ]
  },
  {
   "cell_type": "code",
   "execution_count": 81,
   "metadata": {},
   "outputs": [
    {
     "data": {
      "text/plain": [
       "Text(0.5, 0, 'number of questions')"
      ]
     },
     "execution_count": 81,
     "metadata": {},
     "output_type": "execute_result"
    },
    {
     "data": {
      "image/png": "[encoded data removed]",
      "text/plain": [
       "<Figure size 864x648 with 1 Axes>"
      ]
     },
     "metadata": {
      "needs_background": "light"
     },
     "output_type": "display_data"
    }
   ],
   "source": [
    "plt.figure(figsize=(12, 9))\n",
    "x = np.arange(0, 12)\n",
    "y = stats.poisson(3.5).pmf(x)\n",
    "\n",
    "plt.bar(x, y, ec='black', width=1)\n",
    "plt.ylabel('P(X = x)', size=16)\n",
    "plt.xlabel('number of questions')"
   ]
  },
  {
   "cell_type": "code",
   "execution_count": 82,
   "metadata": {},
   "outputs": [
    {
     "data": {
      "text/plain": [
       "0.32084719886213414"
      ]
     },
     "execution_count": 82,
     "metadata": {},
     "output_type": "execute_result"
    }
   ],
   "source": [
    "# what is the likelihood that 2 or fewer questions are asked?\n",
    "stats.poisson(3.5).cdf(2)"
   ]
  },
  {
   "cell_type": "code",
   "execution_count": 85,
   "metadata": {},
   "outputs": [
    {
     "data": {
      "text/plain": [
       "0.18473675547622787"
      ]
     },
     "execution_count": 85,
     "metadata": {},
     "output_type": "execute_result"
    }
   ],
   "source": [
    "# For modeling food trucks we used a binomial distribution\n",
    "# Given P(food truck shows up one day), number of days\n",
    "\n",
    "# for a poisson distribution, we need an average rate over time\n",
    "# given number of food trucks per week\n",
    "# on average 3 food trucks show up per week.\n",
    "\n",
    "# for a given week, what's the likelihood that a food truck shows up every day -- p(5 or more food trucks show up)\n",
    "stats.poisson(3).sf(4)"
   ]
  },
  {
   "cell_type": "code",
   "execution_count": 93,
   "metadata": {},
   "outputs": [
    {
     "data": {
      "text/plain": [
       "Text(0.5, 0.98, \"Binomial vs Poisson Distributions -- Be careful! We're asking 2 different questions!\")"
      ]
     },
     "execution_count": 93,
     "metadata": {},
     "output_type": "execute_result"
    },
    {
     "data": {
      "image/png": "[encoded data removed]",
      "text/plain": [
       "<Figure size 1152x648 with 2 Axes>"
      ]
     },
     "metadata": {
      "needs_background": "light"
     },
     "output_type": "display_data"
    }
   ],
   "source": [
    "n = 5\n",
    "p = .7\n",
    "\n",
    "x = np.arange(1, 10)\n",
    "y1 = stats.binom(n, p).pmf(x)\n",
    "y2 = stats.poisson(n * p).pmf(x)\n",
    "\n",
    "fig, (ax1, ax2) = plt.subplots(2, 1, figsize=(16, 9), sharex=True)\n",
    "\n",
    "ax1.bar(x, y1, width=1, ec='black', fc='white')\n",
    "ax1.set(title='Binomial distribution -- number of days that a food truck shows up')\n",
    "\n",
    "ax2.bar(x, y2, width=1, ec='black', fc='white')\n",
    "ax2.set(title='Poisson distribution -- number of food trucks that show up per week')\n",
    "\n",
    "fig.suptitle('Binomial vs Poisson Distributions -- Be careful! We\\'re asking 2 different questions!', size=16)"
   ]
  },
  {
   "cell_type": "markdown",
   "metadata": {},
   "source": [
    "I have some X, and we're only looking at whole numbers,\n",
    "\n",
    "X > 3\n",
    "\n",
    "is the same thing as\n",
    "\n",
    "X >= 4\n",
    "\n",
    "---\n",
    "\n",
    "X < 10\n",
    "\n",
    "is the same as\n",
    "\n",
    "X <= 9"
   ]
  },
  {
   "cell_type": "markdown",
   "metadata": {},
   "source": [
    "Differences between poisson and binomial distribution:\n",
    "\n",
    "- poisson is defined by an average rate over time\n",
    "- poisson has no upper bound on number of events\n",
    "- binomial is defined by a chance of success and a number of trials\n",
    "- binomial has a fixed upper bound, the number of trials"
   ]
  }
 ],
 "metadata": {
  "kernelspec": {
   "display_name": "Python 3",
   "language": "python",
   "name": "python3"
  },
  "language_info": {
   "codemirror_mode": {
    "name": "ipython",
    "version": 3
   },
   "file_extension": ".py",
   "mimetype": "text/x-python",
   "name": "python",
   "nbconvert_exporter": "python",
   "pygments_lexer": "ipython3",
   "version": "3.7.3"
  }
 },
 "nbformat": 4,
 "nbformat_minor": 2
}
