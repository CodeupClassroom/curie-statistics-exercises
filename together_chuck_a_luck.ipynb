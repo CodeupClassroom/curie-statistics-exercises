{
 "cells": [
  {
   "cell_type": "markdown",
   "metadata": {},
   "source": [
    "# Simulating Chuck a Luck\n",
    "\n",
    "## \"Pay a Buck and Chuck-a-Luck\" \n",
    "\n",
    "[Chuck-a-Luck](https://en.wikipedia.org/wiki/Chuck-a-luck) is a game of chance often associated with charity fundraisers or street gambling rather than casinos. \n",
    "\n",
    "To play, the House says, \n",
    "- Pay $1, pick a number and roll 3 dice. If any of those dice come up, you'll win 1, 2, or 3 dollars\n",
    "\n",
    "> \"It's even odds\", they say, \"because the probability of rolling your number is 1/6 and you get to roll 3 dice! 1/6 + 1/6 + 1/6 is 3/6 which is 1/2\". \n",
    "\n",
    "You know better than this, so it's time to make an experiment to approximate the actual risk and payoff...\n",
    "\n",
    "Rules:\n",
    "- The player pays $1 to play and picks a number.\n",
    "- The House rolls 3 dice at once.\n",
    "\n",
    "- Payouts:\n",
    "  - 3 if all three dice match the chosen number\n",
    "  - 2 if exactly two dice match the chosen number\n",
    "  - 1 is exactly one of the dice matches the chosen number\n",
    "  - If none of the dice match the player's chosen number, then the House keeps the $1.\n",
    "\n",
    "Exercises:\n",
    "- If you play 1,000,000 games in a row, what are your winnings/losses?\n",
    "- Chart out a histogram of all the outcomes of those 1,000,000 games\n",
    "- Is this really a fair game of 1/6 + 1/6 + 1/6 odds?\n",
    "- If you were to extrapolate the expected winnings per game, what would that number approach per game? \n"
   ]
  },
  {
   "cell_type": "code",
   "execution_count": null,
   "metadata": {},
   "outputs": [],
   "source": [
    "# use numpy to generate our random numbers\n",
    "# get data from numpy into pandas for final analysis"
   ]
  },
  {
   "cell_type": "code",
   "execution_count": null,
   "metadata": {},
   "outputs": [],
   "source": [
    "import numpy as np\n",
    "import pandas as pd"
   ]
  },
  {
   "cell_type": "code",
   "execution_count": null,
   "metadata": {},
   "outputs": [],
   "source": [
    "# generate a random number between 1 and 6\n",
    "# how can we roll that 1,000,000"
   ]
  },
  {
   "cell_type": "code",
   "execution_count": null,
   "metadata": {},
   "outputs": [],
   "source": [
    "# np.random.choice([1,2,3,4,5,6], (1_000_000, 3))\n",
    "# np.random.choice([1,2,3,4,5,6], size=(100_000_000, 3))\n",
    "# np.random.choice(range(1,7), size=(1000000)"
   ]
  },
  {
   "cell_type": "code",
   "execution_count": null,
   "metadata": {},
   "outputs": [],
   "source": [
    "np.random.choice([1,2,3,4,5,6], (1_000_000, 3))\n",
    "rolls[0]"
   ]
  },
  {
   "cell_type": "code",
   "execution_count": null,
   "metadata": {},
   "outputs": [],
   "source": [
    "# we could loop if we felt loopy...\n",
    "# die1 = np.random.choice([1, 2, 3, 4, 5, 6], 1_000_000)\n",
    "# die2 = np.random.choice([1, 2, 3, 4, 5, 6], 1_000_000)\n",
    "# die3 = np.random.choice([1, 2, 3, 4, 5, 6], 1_000_000)\n",
    "\n",
    "# how we would loop through all these\n",
    "# for i in len(die1):\n",
    "#     die1[i]\n",
    "#     die2[i]\n",
    "#     die3[i]\n",
    "# but we're cooler than loops"
   ]
  },
  {
   "cell_type": "code",
   "execution_count": null,
   "metadata": {},
   "outputs": [],
   "source": [
    "lucky_number = 5"
   ]
  },
  {
   "cell_type": "code",
   "execution_count": null,
   "metadata": {},
   "outputs": [],
   "source": [
    "rolls = np.random.choice([1,2,3,4,5,6], (1_000_000, 3))"
   ]
  },
  {
   "cell_type": "code",
   "execution_count": null,
   "metadata": {},
   "outputs": [],
   "source": [
    "# find a way to represent the trial itself in python code\n",
    "# trial is \"one event\" of a probability\n",
    "rolls"
   ]
  },
  {
   "cell_type": "code",
   "execution_count": null,
   "metadata": {},
   "outputs": [],
   "source": [
    "rolls = pd.DataFrame(rolls)"
   ]
  },
  {
   "cell_type": "code",
   "execution_count": null,
   "metadata": {},
   "outputs": [],
   "source": [
    "rolls.head()"
   ]
  },
  {
   "cell_type": "code",
   "execution_count": null,
   "metadata": {},
   "outputs": [],
   "source": [
    "# rolls.columnName\n",
    "# rolls[\"columnName\"]"
   ]
  },
  {
   "cell_type": "code",
   "execution_count": null,
   "metadata": {},
   "outputs": [],
   "source": [
    "# let's rename the columns as a recipe for clarity\n",
    "# one approach\n",
    "# rolls[\"die1\"] = rolls[0]\n",
    "# rolls[\"die2\"] = rolls[1]\n",
    "# rolls[\"die3\"] = rolls[2]\n",
    "# rolls = rolls[[\"die1\", \"die2\", \"die3\"]]\n",
    "# rolls.head()"
   ]
  },
  {
   "cell_type": "code",
   "execution_count": null,
   "metadata": {},
   "outputs": [],
   "source": [
    "# rolls = rolls.rename(columns={ 0: \"first\", 1: \"second\", 2: \"third\"})"
   ]
  },
  {
   "cell_type": "code",
   "execution_count": null,
   "metadata": {},
   "outputs": [],
   "source": [
    "rolls.columns = [\"first\", \"second\", \"third\"]\n",
    "rolls.head()"
   ]
  },
  {
   "cell_type": "code",
   "execution_count": null,
   "metadata": {},
   "outputs": [],
   "source": [
    "lucky_number"
   ]
  },
  {
   "cell_type": "code",
   "execution_count": null,
   "metadata": {},
   "outputs": [],
   "source": [
    "# reminder of the rules\n",
    "# you get $1 if only one dice matches your lucky number\n",
    "# you get $2 if exactly two dice match your number\n",
    "# you get $3 if you get all 3\n",
    "# otherwise, you lose $1 \n",
    "\n",
    "# outline the game - what happens when\n",
    "# outline the actual game play\n",
    "# once you crack the first surface of the problem, the rest flows"
   ]
  },
  {
   "cell_type": "code",
   "execution_count": null,
   "metadata": {},
   "outputs": [],
   "source": [
    "# what are some nouns in the outline of our process? \n",
    "# what are some of the verbs in the process of the game?\n",
    "\n",
    "# number of matches\n",
    "# rolls\n",
    "# outcome\n",
    "# pay-in or cost\n",
    "# payout\n",
    "\n",
    "# The clarity of your spoken language around the problem contributes to the clarity of your code\n"
   ]
  },
  {
   "cell_type": "code",
   "execution_count": null,
   "metadata": {},
   "outputs": [],
   "source": [
    "rolls.head()"
   ]
  },
  {
   "cell_type": "code",
   "execution_count": null,
   "metadata": {},
   "outputs": [],
   "source": [
    "# we may need to focus on the axis here..\n",
    "# def get_matches(row):\n",
    "#     matches = 0\n",
    "#     if(row[0] == lucky_number):\n",
    "#         matches += 1\n",
    "#     if(row[1] == lucky_number):\n",
    "#         matches += 1\n",
    "#     if(row[2] == lucky_number):\n",
    "#         matches += 1\n",
    "#     return matches"
   ]
  },
  {
   "cell_type": "code",
   "execution_count": null,
   "metadata": {},
   "outputs": [],
   "source": [
    "# get_matches([5, 5, 5])"
   ]
  },
  {
   "cell_type": "code",
   "execution_count": null,
   "metadata": {},
   "outputs": [],
   "source": [
    "# commented out b/c we have an easier solution later that is also less computationally intensive\n",
    "# rolls[\"number_of_matches\"] = rolls.apply(get_matches, axis=1)"
   ]
  },
  {
   "cell_type": "code",
   "execution_count": null,
   "metadata": {},
   "outputs": [],
   "source": [
    "# Let's simplify :)"
   ]
  },
  {
   "cell_type": "code",
   "execution_count": null,
   "metadata": {},
   "outputs": [],
   "source": [
    "rolls[\"first_matches\"] = rolls[\"first\"] == lucky_number\n",
    "rolls[\"second_matches\"] = rolls[\"second\"] == lucky_number\n",
    "rolls[\"third_matches\"] = rolls[\"third\"] == lucky_number"
   ]
  },
  {
   "cell_type": "code",
   "execution_count": null,
   "metadata": {},
   "outputs": [],
   "source": [
    "# treat the booleans as numbers\n",
    "rolls = rolls.astype(int)\n",
    "rolls"
   ]
  },
  {
   "cell_type": "code",
   "execution_count": null,
   "metadata": {},
   "outputs": [],
   "source": [
    "rolls[\"number_of_matches\"] = rolls[\"first_matches\"] + rolls[\"second_matches\"] + rolls[\"third_matches\"]"
   ]
  },
  {
   "cell_type": "code",
   "execution_count": null,
   "metadata": {},
   "outputs": [],
   "source": [
    "rolls.head(10)"
   ]
  },
  {
   "cell_type": "code",
   "execution_count": null,
   "metadata": {},
   "outputs": [],
   "source": [
    "# what's the next step? where do we go from herE?\n",
    "# go back to the original game setup\n",
    "# calculate winnings\n",
    "# 0 matchs means -1 payout\n",
    "# 1 match means we win 0 because we paid 1 to play\n",
    "# 2 matches means we win $1 because we paid $1 and received $2\n",
    "# 3 matches means we win $3 because we paid $1 to receive $3\n",
    "rolls[\"cost_to_play\"] = 1"
   ]
  },
  {
   "cell_type": "code",
   "execution_count": null,
   "metadata": {},
   "outputs": [],
   "source": [
    "rolls[\"winnings\"] = rolls.number_of_matches - rolls.cost_to_play"
   ]
  },
  {
   "cell_type": "code",
   "execution_count": null,
   "metadata": {},
   "outputs": [],
   "source": [
    "rolls"
   ]
  },
  {
   "cell_type": "code",
   "execution_count": null,
   "metadata": {},
   "outputs": [],
   "source": [
    "# sum of all winning\n",
    "rolls.winnings.sum()"
   ]
  },
  {
   "cell_type": "code",
   "execution_count": null,
   "metadata": {},
   "outputs": [],
   "source": [
    "# average winnings per play\n",
    "rolls.winnings.mean()"
   ]
  },
  {
   "cell_type": "code",
   "execution_count": null,
   "metadata": {},
   "outputs": [],
   "source": [
    "# is there a way to break this down based on the probability\n",
    "rolls[\"flat_or_up\"] = rolls.winnings >= 0"
   ]
  },
  {
   "cell_type": "code",
   "execution_count": null,
   "metadata": {},
   "outputs": [],
   "source": [
    "rolls[\"loss\"] = ~rolls.flat_or_up"
   ]
  },
  {
   "cell_type": "code",
   "execution_count": null,
   "metadata": {},
   "outputs": [],
   "source": [
    "rolls.loss.mean()"
   ]
  },
  {
   "cell_type": "code",
   "execution_count": null,
   "metadata": {},
   "outputs": [],
   "source": [
    "rolls.flat_or_up.mean()"
   ]
  },
  {
   "cell_type": "code",
   "execution_count": null,
   "metadata": {},
   "outputs": [],
   "source": [
    "rolls[\"up\"] = rolls.winnings >= 1"
   ]
  },
  {
   "cell_type": "code",
   "execution_count": null,
   "metadata": {},
   "outputs": [],
   "source": [
    "rolls.up.mean()"
   ]
  },
  {
   "cell_type": "code",
   "execution_count": null,
   "metadata": {},
   "outputs": [],
   "source": [
    "rolls.winnings.value_counts(normalize=True)"
   ]
  },
  {
   "cell_type": "code",
   "execution_count": null,
   "metadata": {},
   "outputs": [],
   "source": [
    "rolls.number_of_matches.hist()"
   ]
  },
  {
   "cell_type": "code",
   "execution_count": null,
   "metadata": {},
   "outputs": [],
   "source": []
  }
 ],
 "metadata": {
  "kernelspec": {
   "display_name": "Python 3",
   "language": "python",
   "name": "python3"
  },
  "language_info": {
   "codemirror_mode": {
    "name": "ipython",
    "version": 3
   },
   "file_extension": ".py",
   "mimetype": "text/x-python",
   "name": "python",
   "nbconvert_exporter": "python",
   "pygments_lexer": "ipython3",
   "version": "3.7.3"
  }
 },
 "nbformat": 4,
 "nbformat_minor": 4
}
